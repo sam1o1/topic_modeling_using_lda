{
 "cells": [
  {
   "cell_type": "code",
   "execution_count": 2,
   "id": "ef96f987",
   "metadata": {},
   "outputs": [],
   "source": [
    "import pandas as pd"
   ]
  },
  {
   "cell_type": "markdown",
   "id": "4b4d327e",
   "metadata": {},
   "source": [
    "##  Load the dataset"
   ]
  },
  {
   "cell_type": "code",
   "execution_count": 3,
   "id": "dc7b0e64",
   "metadata": {},
   "outputs": [],
   "source": [
    "df=pd.read_excel('Pubmed5k.xlsx')"
   ]
  },
  {
   "cell_type": "code",
   "execution_count": 4,
   "id": "43000301",
   "metadata": {},
   "outputs": [
    {
     "data": {
      "text/html": [
       "<div>\n",
       "<style scoped>\n",
       "    .dataframe tbody tr th:only-of-type {\n",
       "        vertical-align: middle;\n",
       "    }\n",
       "\n",
       "    .dataframe tbody tr th {\n",
       "        vertical-align: top;\n",
       "    }\n",
       "\n",
       "    .dataframe thead th {\n",
       "        text-align: right;\n",
       "    }\n",
       "</style>\n",
       "<table border=\"1\" class=\"dataframe\">\n",
       "  <thead>\n",
       "    <tr style=\"text-align: right;\">\n",
       "      <th></th>\n",
       "      <th>ArticleID</th>\n",
       "      <th>Title</th>\n",
       "      <th>Abstract</th>\n",
       "    </tr>\n",
       "  </thead>\n",
       "  <tbody>\n",
       "    <tr>\n",
       "      <th>0</th>\n",
       "      <td>34153941</td>\n",
       "      <td>Stable Coordination Variability in Overground ...</td>\n",
       "      <td>Coordination variability (CV) is commonly anal...</td>\n",
       "    </tr>\n",
       "    <tr>\n",
       "      <th>1</th>\n",
       "      <td>34153942</td>\n",
       "      <td>Weak Hip Strength Increases Dynamic Knee Valgu...</td>\n",
       "      <td>Clinical Scenario: Dynamic knee valgus (DKV) i...</td>\n",
       "    </tr>\n",
       "    <tr>\n",
       "      <th>2</th>\n",
       "      <td>34153964</td>\n",
       "      <td>Current and Future Projections of Amyotrophic ...</td>\n",
       "      <td>Various methodologies have been reported to as...</td>\n",
       "    </tr>\n",
       "    <tr>\n",
       "      <th>3</th>\n",
       "      <td>34153968</td>\n",
       "      <td>Disparities between Asian and Non-Asian Thromb...</td>\n",
       "      <td>As outcomes for acute ischemic stroke (AIS) va...</td>\n",
       "    </tr>\n",
       "    <tr>\n",
       "      <th>4</th>\n",
       "      <td>34153978</td>\n",
       "      <td>Maternal Factors Predicting Loss to Follow-Up ...</td>\n",
       "      <td>Because hearing loss in children can result in...</td>\n",
       "    </tr>\n",
       "  </tbody>\n",
       "</table>\n",
       "</div>"
      ],
      "text/plain": [
       "   ArticleID                                              Title  \\\n",
       "0   34153941  Stable Coordination Variability in Overground ...   \n",
       "1   34153942  Weak Hip Strength Increases Dynamic Knee Valgu...   \n",
       "2   34153964  Current and Future Projections of Amyotrophic ...   \n",
       "3   34153968  Disparities between Asian and Non-Asian Thromb...   \n",
       "4   34153978  Maternal Factors Predicting Loss to Follow-Up ...   \n",
       "\n",
       "                                            Abstract  \n",
       "0  Coordination variability (CV) is commonly anal...  \n",
       "1  Clinical Scenario: Dynamic knee valgus (DKV) i...  \n",
       "2  Various methodologies have been reported to as...  \n",
       "3  As outcomes for acute ischemic stroke (AIS) va...  \n",
       "4  Because hearing loss in children can result in...  "
      ]
     },
     "execution_count": 4,
     "metadata": {},
     "output_type": "execute_result"
    }
   ],
   "source": [
    "df.head()"
   ]
  },
  {
   "cell_type": "code",
   "execution_count": 75,
   "id": "beb0ab0b",
   "metadata": {},
   "outputs": [
    {
     "data": {
      "text/plain": [
       "'Coordination variability (CV) is commonly analyzed to understand dynamical qualities of human locomotion. The purpose of this study was to develop guidelines for the number of trials required to inform the calculation of a stable mean lower limb CV during overground locomotion. Three-dimensional lower limb kinematics were captured for 10 recreational runners performing 20 trials each of preferred and fixed speed walking and running. Stance phase CV was calculated for 9 segment and joint couplings using a modified vector coding technique. The number of trials required to achieve a CV mean within 10% of 20 strides average was determined for each coupling and individual. The statistical outputs of mode (walking vs running) and speed (preferred vs fixed) were compared when informed by differing numbers of trials. A minimum of 11 trials were required for stable mean stance phase CV. With fewer than 11 trials, CV was underestimated and led to an oversight of significant differences between mode and speed. Future overground locomotion CV research in healthy populations using a vector coding approach should use 11 trials as a standard minimum. Researchers should be aware of the notable consequences of an insufficient number of trials for overall study findings.'"
      ]
     },
     "execution_count": 75,
     "metadata": {},
     "output_type": "execute_result"
    }
   ],
   "source": [
    "df['Abstract'][0]"
   ]
  },
  {
   "cell_type": "markdown",
   "id": "abaa2beb",
   "metadata": {},
   "source": [
    "## explore the dataset"
   ]
  },
  {
   "cell_type": "code",
   "execution_count": 5,
   "id": "1a091707",
   "metadata": {},
   "outputs": [
    {
     "name": "stdout",
     "output_type": "stream",
     "text": [
      "the length of the dataset is #4999\n",
      "----------------------------------------------------------------------------------------------------\n",
      "<class 'pandas.core.frame.DataFrame'>\n",
      "RangeIndex: 4999 entries, 0 to 4998\n",
      "Data columns (total 3 columns):\n",
      " #   Column     Non-Null Count  Dtype \n",
      "---  ------     --------------  ----- \n",
      " 0   ArticleID  4999 non-null   int64 \n",
      " 1   Title      4999 non-null   object\n",
      " 2   Abstract   4999 non-null   object\n",
      "dtypes: int64(1), object(2)\n",
      "memory usage: 117.3+ KB\n"
     ]
    }
   ],
   "source": [
    "print(\"the length of the dataset is #{}\".format(len(df)))\n",
    "print(\"-\"*100)\n",
    "df.info()"
   ]
  },
  {
   "cell_type": "markdown",
   "id": "3d1ebd62",
   "metadata": {},
   "source": [
    "No null values"
   ]
  },
  {
   "cell_type": "markdown",
   "id": "ac5bed68",
   "metadata": {},
   "source": [
    "## Data Preprocessing ##\n",
    "\n",
    "We will perform the following steps:\n",
    "\n",
    "* **Tokenization**: Split the text into sentences and the sentences into words. Lowercase the words and remove punctuation.\n",
    "* Words that have fewer than 3 characters are removed.\n",
    "* All **stopwords** are removed.\n",
    "* Words are **lemmatized** - words in third person are changed to first person and verbs in past and future tenses are changed into present.\n",
    "* Words are **stemmed** - words are reduced to their root form.\n"
   ]
  },
  {
   "cell_type": "code",
   "execution_count": 6,
   "id": "9f73feb4",
   "metadata": {},
   "outputs": [
    {
     "name": "stdout",
     "output_type": "stream",
     "text": [
      "All Done!\n"
     ]
    },
    {
     "name": "stderr",
     "output_type": "stream",
     "text": [
      "[nltk_data] Downloading package wordnet to\n",
      "[nltk_data]     C:\\Users\\Eslam\\AppData\\Roaming\\nltk_data...\n",
      "[nltk_data]   Package wordnet is already up-to-date!\n"
     ]
    }
   ],
   "source": [
    "'''\n",
    "Loading Gensim and nltk libraries\n",
    "'''\n",
    "import gensim\n",
    "from gensim.utils import simple_preprocess\n",
    "from gensim.parsing.preprocessing import STOPWORDS\n",
    "from nltk.stem import WordNetLemmatizer, SnowballStemmer\n",
    "from nltk.stem.porter import PorterStemmer\n",
    "import numpy as np\n",
    "import nltk\n",
    "nltk.download('wordnet')\n",
    "print(\"All Done!\")"
   ]
  },
  {
   "cell_type": "code",
   "execution_count": 7,
   "id": "ed7a5d1e",
   "metadata": {},
   "outputs": [],
   "source": [
    "'''\n",
    "a function to perform the pre processing steps on the entire dataset\n",
    "'''\n",
    "def lemmatize_stemming(text):\n",
    "    return PorterStemmer().stem(WordNetLemmatizer().lemmatize(text, pos='v'))\n",
    "# Tokenize and lemmatize\n",
    "def preprocess(text):\n",
    "    result=[]\n",
    "    for token in gensim.utils.simple_preprocess(text) :\n",
    "        if token not in gensim.parsing.preprocessing.STOPWORDS and len(token) > 4:\n",
    "            # Apply lemmatize_stemming on the token, then add to the results list\n",
    "            result.append(lemmatize_stemming(token))\n",
    "    return result"
   ]
  },
  {
   "cell_type": "code",
   "execution_count": 8,
   "id": "edb0b79e",
   "metadata": {},
   "outputs": [],
   "source": [
    "# preprocess all the abstracts, saving the list of results as 'processed_docs'\n",
    "processed_docs = df['Abstract'].map(preprocess)"
   ]
  },
  {
   "cell_type": "code",
   "execution_count": 11,
   "id": "688f8ef0",
   "metadata": {},
   "outputs": [],
   "source": [
    "# Compute bigrams.\n",
    "from gensim.models import Phrases\n",
    "\n",
    "# Add bigrams and trigrams to docs (only ones that appear 20 times or more).\n",
    "bigram = Phrases(processed_docs, min_count=20)\n",
    "for idx in range(len(processed_docs)):\n",
    "    for token in bigram[processed_docs[idx]]:\n",
    "        if '_' in token:\n",
    "            # Token is a bigram, add to document.\n",
    "            processed_docs[idx].append(token)"
   ]
  },
  {
   "cell_type": "code",
   "execution_count": 12,
   "id": "d42afba5",
   "metadata": {},
   "outputs": [
    {
     "data": {
      "text/plain": [
       "0    [coordin, variabl, commonli, analyz, understan...\n",
       "1    [clinic, scenario, dynam, valgu, mechan, alter...\n",
       "2    [methodolog, report, assess, world, epidemiolo...\n",
       "3    [outcom, acut, ischem, stroke, accord, clinic,...\n",
       "4    [hear, children, result, development, deficit,...\n",
       "5    [despit, grow, number, immigr, popul, exist, p...\n",
       "6    [histor, treatment, lupu, nephriti, neutrophil...\n",
       "7    [progress, chronic, kidney, diseas, individu, ...\n",
       "8    [immunoglobulin, nephropathi, common, primari,...\n",
       "9    [kidney, transplant, precis, medicin, enter, c...\n",
       "Name: Abstract, dtype: object"
      ]
     },
     "execution_count": 12,
     "metadata": {},
     "output_type": "execute_result"
    }
   ],
   "source": [
    "processed_docs[:10]"
   ]
  },
  {
   "cell_type": "markdown",
   "id": "22211116",
   "metadata": {},
   "source": [
    "## Step 3.1: Bag of words on the dataset\n",
    "\n",
    "Now let's create a dictionary from 'processed_docs' containing the number of times a word appears in the training set. To do that, let's pass `processed_docs` to [`gensim.corpora.Dictionary()`](https://radimrehurek.com/gensim/corpora/dictionary.html) and call it '`dictionary`'."
   ]
  },
  {
   "cell_type": "code",
   "execution_count": 13,
   "id": "4b69954f",
   "metadata": {},
   "outputs": [
    {
     "name": "stdout",
     "output_type": "stream",
     "text": [
      "0 achiev\n",
      "1 analyz\n",
      "2 approach\n",
      "3 averag\n",
      "4 awar\n",
      "5 calcul\n",
      "6 captur\n",
      "7 cod\n",
      "8 commonli\n",
      "9 compar\n",
      "10 consequ\n"
     ]
    }
   ],
   "source": [
    "'''\n",
    "Create a dictionary from 'processed_docs' containing the number of times a word appears \n",
    "in the training set using gensim.corpora.Dictionary'\n",
    "'''\n",
    "dictionary = gensim.corpora.Dictionary(processed_docs)\n",
    "'''\n",
    "Checking dictionary created\n",
    "'''\n",
    "count = 0\n",
    "for k, v in dictionary.iteritems():\n",
    "    print(k, v)\n",
    "    count += 1\n",
    "    if count > 10:\n",
    "        break"
   ]
  },
  {
   "cell_type": "markdown",
   "id": "264f6e1d",
   "metadata": {},
   "source": [
    "** Gensim filter_extremes **\n",
    "\n",
    "[`filter_extremes(no_below=5, no_above=0.5, keep_n=100000)`](https://radimrehurek.com/gensim/corpora/dictionary.html#gensim.corpora.dictionary.Dictionary.filter_extremes)\n",
    "\n",
    "Filter out tokens that appear in\n",
    "\n",
    "* less than no_below documents (absolute number) or\n",
    "* more than no_above documents (fraction of total corpus size, not absolute number).\n",
    "* after (1) and (2), keep only the first keep_n most frequent tokens (or keep all if None)."
   ]
  },
  {
   "cell_type": "code",
   "execution_count": 14,
   "id": "3a69edce",
   "metadata": {},
   "outputs": [],
   "source": [
    "'''\n",
    "Remove very rare and very common words:\n",
    "- words appearing less than 20 times\n",
    "- words appearing in more than 50% of all documents\n",
    "'''\n",
    "# Filter out words that occur less than 20 documents, or more than 50% of the documents.\n",
    "dictionary.filter_extremes(no_below=20, no_above=0.5)"
   ]
  },
  {
   "cell_type": "code",
   "execution_count": 15,
   "id": "cd46420d",
   "metadata": {},
   "outputs": [],
   "source": [
    "'''\n",
    "Create the Bag-of-words model for each document i.e for each document we create a dictionary reporting how many\n",
    "words and how many times those words appear. Save this to 'bow_corpus'\n",
    "'''\n",
    "bow_corpus = [dictionary.doc2bow(doc) for doc in processed_docs]"
   ]
  },
  {
   "cell_type": "markdown",
   "id": "596c875e",
   "metadata": {},
   "source": [
    "# TF-IDF \"Term Frequency, Inverse Document Frequency"
   ]
  },
  {
   "cell_type": "code",
   "execution_count": 16,
   "id": "8fb44dca",
   "metadata": {},
   "outputs": [],
   "source": [
    "'''\n",
    "Create tf-idf model object using models.TfidfModel on 'bow_corpus' and save it to 'tfidf'\n",
    "'''\n",
    "from gensim import corpora, models\n",
    "tfidf = models.TfidfModel(bow_corpus)"
   ]
  },
  {
   "cell_type": "code",
   "execution_count": 17,
   "id": "ac08ba6b",
   "metadata": {},
   "outputs": [],
   "source": [
    "'''\n",
    "Apply transformation to the entire corpus and call it 'corpus_tfidf'\n",
    "'''\n",
    "corpus_tfidf = tfidf[bow_corpus]"
   ]
  },
  {
   "cell_type": "code",
   "execution_count": 18,
   "id": "f5f22c89",
   "metadata": {},
   "outputs": [
    {
     "name": "stdout",
     "output_type": "stream",
     "text": [
      "[(0, 0.06275819731672971),\n",
      " (1, 0.0488653947902877),\n",
      " (2, 0.04832331932639019),\n",
      " (3, 0.06905811773557533),\n",
      " (4, 0.08749742048690688),\n",
      " (5, 0.13927783395477525),\n",
      " (6, 0.0948184894252313),\n",
      " (7, 0.1824839939275521),\n",
      " (8, 0.08082023172783087),\n",
      " (9, 0.032931751713844784),\n",
      " (10, 0.07671745014893755),\n",
      " (11, 0.0983597168740838),\n",
      " (12, 0.18197784498919395),\n",
      " (13, 0.043764233789289876),\n",
      " (14, 0.030489176194953303),\n",
      " (15, 0.05647444077536287),\n",
      " (16, 0.09573069039544563),\n",
      " (17, 0.0674890636783767),\n",
      " (18, 0.10173536221304184),\n",
      " (19, 0.04624120006753531),\n",
      " (20, 0.20034535709610582),\n",
      " (21, 0.055459882773019616),\n",
      " (22, 0.07618760307922458),\n",
      " (23, 0.07336036948149562),\n",
      " (24, 0.050447680299297325),\n",
      " (25, 0.049420762387030456),\n",
      " (26, 0.0922040591137213),\n",
      " (27, 0.096043108167276),\n",
      " (28, 0.09452240770124377),\n",
      " (29, 0.10226043138081807),\n",
      " (30, 0.20511817356844053),\n",
      " (31, 0.07442505302043974),\n",
      " (32, 0.0994299913776391),\n",
      " (33, 0.19672431343318364),\n",
      " (34, 0.10668865716499717),\n",
      " (35, 0.056151943851893996),\n",
      " (36, 0.035560778192482954),\n",
      " (37, 0.1404700043030355),\n",
      " (38, 0.046914195092650525),\n",
      " (39, 0.17414010130085683),\n",
      " (40, 0.067939375316847),\n",
      " (41, 0.0925516061595859),\n",
      " (42, 0.05210360462579504),\n",
      " (43, 0.15326084800968204),\n",
      " (44, 0.08415351361885444),\n",
      " (45, 0.09511849287537391),\n",
      " (46, 0.036676763971598275),\n",
      " (47, 0.08130734575672088),\n",
      " (48, 0.3089473868291656),\n",
      " (49, 0.17009278087970187),\n",
      " (50, 0.05720304491762922),\n",
      " (51, 0.05800999797426696),\n",
      " (52, 0.061084826429419925),\n",
      " (53, 0.49692887262904467),\n",
      " (54, 0.12505616927190907),\n",
      " (55, 0.04805707023965959),\n",
      " (56, 0.05958945315379655),\n",
      " (57, 0.20682780509352564),\n",
      " (58, 0.24185319778226427)]\n"
     ]
    }
   ],
   "source": [
    "from pprint import pprint\n",
    "for doc in corpus_tfidf:\n",
    "    pprint(doc)\n",
    "    break"
   ]
  },
  {
   "cell_type": "code",
   "execution_count": 15,
   "id": "6b65668d",
   "metadata": {},
   "outputs": [],
   "source": [
    "from gensim.models import CoherenceModel"
   ]
  },
  {
   "cell_type": "markdown",
   "id": "fc3c9e0d",
   "metadata": {},
   "source": [
    "# LDA Tuning: Finding the optimal number of topics\n",
    "Finding the optimal number of topics in a topic model is tough, given that it is like a model hyperparameter that you always have to set before training the model. We can use an iterative approach and build several models with differing numbers of topics and select the one that has the highest coherence score.\n"
   ]
  },
  {
   "cell_type": "code",
   "execution_count": 21,
   "id": "bc16f8ca",
   "metadata": {},
   "outputs": [],
   "source": [
    "def topic_model_coherence_generator(corpus, texts, dictionary, \n",
    "                                    start_topic_count=2, end_topic_count=10, step=1):\n",
    "    models = []\n",
    "    coherence_scores = []\n",
    "    \n",
    "    for topic_nums in range(start_topic_count, end_topic_count+1, step):\n",
    "        \n",
    "        lda_model = gensim.models.LdaModel(corpus, \n",
    "                                             num_topics=topic_nums, \n",
    "                                             id2word = dictionary,  \n",
    "                                             alpha='auto',\n",
    "                                             eta='auto',\n",
    "                                             iterations=400,\n",
    "                                             passes = 20,\n",
    "                                             eval_every=None)\n",
    "                                             \n",
    "        cv_coherence_model_lda = gensim.models.CoherenceModel(model=lda_model, corpus=corpus, \n",
    "                                                                     texts=texts, dictionary=dictionary, \n",
    "                                                                     coherence='c_v')\n",
    "        coherence_score = cv_coherence_model_lda.get_coherence()\n",
    "        \n",
    "        coherence_scores.append(coherence_score)\n",
    "        \n",
    "        models.append(lda_model)\n",
    "    \n",
    "    return models, coherence_scores"
   ]
  },
  {
   "cell_type": "code",
   "execution_count": 22,
   "id": "42bd5158",
   "metadata": {},
   "outputs": [],
   "source": [
    "lda_models, coherence_scores = topic_model_coherence_generator(corpus=corpus_tfidf, texts=processed_docs,\n",
    "                                                               dictionary=dictionary, start_topic_count=2,\n",
    "                                                               end_topic_count=30, step=1)"
   ]
  },
  {
   "cell_type": "code",
   "execution_count": 169,
   "id": "51e25b64",
   "metadata": {},
   "outputs": [
    {
     "data": {
      "text/html": [
       "<div>\n",
       "<style scoped>\n",
       "    .dataframe tbody tr th:only-of-type {\n",
       "        vertical-align: middle;\n",
       "    }\n",
       "\n",
       "    .dataframe tbody tr th {\n",
       "        vertical-align: top;\n",
       "    }\n",
       "\n",
       "    .dataframe thead th {\n",
       "        text-align: right;\n",
       "    }\n",
       "</style>\n",
       "<table border=\"1\" class=\"dataframe\">\n",
       "  <thead>\n",
       "    <tr style=\"text-align: right;\">\n",
       "      <th></th>\n",
       "      <th>Number of Topics</th>\n",
       "      <th>Coherence Score</th>\n",
       "    </tr>\n",
       "  </thead>\n",
       "  <tbody>\n",
       "    <tr>\n",
       "      <th>0</th>\n",
       "      <td>2</td>\n",
       "      <td>0.3533</td>\n",
       "    </tr>\n",
       "    <tr>\n",
       "      <th>1</th>\n",
       "      <td>3</td>\n",
       "      <td>0.4772</td>\n",
       "    </tr>\n",
       "    <tr>\n",
       "      <th>2</th>\n",
       "      <td>4</td>\n",
       "      <td>0.5366</td>\n",
       "    </tr>\n",
       "    <tr>\n",
       "      <th>3</th>\n",
       "      <td>5</td>\n",
       "      <td>0.5233</td>\n",
       "    </tr>\n",
       "    <tr>\n",
       "      <th>4</th>\n",
       "      <td>6</td>\n",
       "      <td>0.5053</td>\n",
       "    </tr>\n",
       "  </tbody>\n",
       "</table>\n",
       "</div>"
      ],
      "text/plain": [
       "   Number of Topics  Coherence Score\n",
       "0  2                 0.3533         \n",
       "1  3                 0.4772         \n",
       "2  4                 0.5366         \n",
       "3  5                 0.5233         \n",
       "4  6                 0.5053         "
      ]
     },
     "execution_count": 169,
     "metadata": {},
     "output_type": "execute_result"
    }
   ],
   "source": [
    "coherence_df = pd.DataFrame({'Number of Topics': range(2, 31, 1),\n",
    "                             'Coherence Score': np.round(coherence_scores, 4)})\n",
    "coherence_df=coherence_df.sort_values(by=['Number of Topics'], ascending=True)\n",
    "coherence_df.head()"
   ]
  },
  {
   "cell_type": "code",
   "execution_count": 25,
   "id": "74d44b33",
   "metadata": {},
   "outputs": [
    {
     "data": {
      "image/png": "[encoded data removed]",
      "text/plain": [
       "<Figure size 1080x504 with 1 Axes>"
      ]
     },
     "metadata": {
      "needs_background": "light"
     },
     "output_type": "display_data"
    }
   ],
   "source": [
    "import matplotlib.pyplot as plt\n",
    "%matplotlib inline\n",
    "x_ax = coherence_df['Number of Topics']\n",
    "y_ax = coherence_df['Coherence Score']\n",
    "plt.figure(figsize=(15, 7));\n",
    "plt.plot(x_ax, y_ax, c='b');\n",
    "xl = plt.xlabel('Number of Topics');\n",
    "yl = plt.ylabel('Coherence Score');\n",
    "plt.title(\"The number of topics vs Topic Coherence\");"
   ]
  },
  {
   "cell_type": "markdown",
   "id": "2c99e44d",
   "metadata": {},
   "source": [
    "# Final Model\n",
    "Let’s train the final model using the above selected parameters"
   ]
  },
  {
   "cell_type": "code",
   "execution_count": 24,
   "id": "3fd7900d",
   "metadata": {},
   "outputs": [
    {
     "name": "stdout",
     "output_type": "stream",
     "text": [
      "The optimal number of topics are 15 topics\n"
     ]
    }
   ],
   "source": [
    "num_of_topics=coherence_df['Number of Topics'].values[coherence_df['Coherence Score']==np.max(coherence_df['Coherence Score'])]\n",
    "print(\"The optimal number of topics are {} topics\".format(int(num_of_topics)))"
   ]
  },
  {
   "cell_type": "code",
   "execution_count": 170,
   "id": "d655c3e3",
   "metadata": {},
   "outputs": [],
   "source": [
    "lda_model =gensim.models.LdaModel(corpus_tfidf, \n",
    "                                             num_topics=5, \n",
    "                                             id2word = dictionary,  \n",
    "                                             alpha='auto',\n",
    "                                             eta='auto',\n",
    "                                             iterations=400,\n",
    "                                             passes = 20,\n",
    "                                             eval_every=None)"
   ]
  },
  {
   "cell_type": "code",
   "execution_count": 172,
   "id": "357c49b1",
   "metadata": {},
   "outputs": [
    {
     "data": {
      "text/plain": [
       "[(0,\n",
       "  '0.000*\"speci\" + 0.000*\"describ\" + 0.000*\"describ_illustr\" + 0.000*\"illustr\" + 0.000*\"femal\" + 0.000*\"brazil\" + 0.000*\"mexico\" + 0.000*\"genu\" + 0.000*\"briefli\" + 0.000*\"eastern\"'),\n",
       " (1,\n",
       "  '0.000*\"cervic_cancer\" + 0.000*\"cervic\" + 0.000*\"smoker\" + 0.000*\"tobacco\" + 0.000*\"smoke\" + 0.000*\"synonym\" + 0.000*\"junior\" + 0.000*\"cancer\" + 0.000*\"speci\" + 0.000*\"genu\"'),\n",
       " (2,\n",
       "  '0.007*\"protein\" + 0.007*\"cell\" + 0.006*\"express\" + 0.005*\"activ\" + 0.005*\"gene\" + 0.004*\"mechan\" + 0.004*\"induc\" + 0.003*\"regul\" + 0.003*\"genom\" + 0.003*\"detect\"'),\n",
       " (3,\n",
       "  '0.005*\"speci\" + 0.004*\"health\" + 0.004*\"covid\" + 0.003*\"patient\" + 0.003*\"model\" + 0.003*\"research\" + 0.003*\"particip\" + 0.002*\"base\" + 0.002*\"review\" + 0.002*\"group\"'),\n",
       " (4,\n",
       "  '0.017*\"patient\" + 0.007*\"group\" + 0.006*\"cancer\" + 0.006*\"treatment\" + 0.006*\"surgeri\" + 0.005*\"implant\" + 0.005*\"clinic\" + 0.005*\"surgic\" + 0.005*\"month\" + 0.004*\"complic\"')]"
      ]
     },
     "execution_count": 172,
     "metadata": {},
     "output_type": "execute_result"
    }
   ],
   "source": [
    "lda_model.show_topics(num_topics=5, num_words=10, log=False, formatted=True)"
   ]
  },
  {
   "cell_type": "code",
   "execution_count": 173,
   "id": "930b470d",
   "metadata": {},
   "outputs": [
    {
     "name": "stdout",
     "output_type": "stream",
     "text": [
      "Topic: 0 Word: 0.000*\"speci\" + 0.000*\"describ\" + 0.000*\"describ_illustr\" + 0.000*\"illustr\" + 0.000*\"femal\" + 0.000*\"brazil\" + 0.000*\"mexico\" + 0.000*\"genu\" + 0.000*\"briefli\" + 0.000*\"eastern\"\n",
      "\n",
      "\n",
      "Topic: 1 Word: 0.000*\"cervic_cancer\" + 0.000*\"cervic\" + 0.000*\"smoker\" + 0.000*\"tobacco\" + 0.000*\"smoke\" + 0.000*\"synonym\" + 0.000*\"junior\" + 0.000*\"cancer\" + 0.000*\"speci\" + 0.000*\"genu\"\n",
      "\n",
      "\n",
      "Topic: 2 Word: 0.007*\"protein\" + 0.007*\"cell\" + 0.006*\"express\" + 0.005*\"activ\" + 0.005*\"gene\" + 0.004*\"mechan\" + 0.004*\"induc\" + 0.003*\"regul\" + 0.003*\"genom\" + 0.003*\"detect\"\n",
      "\n",
      "\n",
      "Topic: 3 Word: 0.005*\"speci\" + 0.004*\"health\" + 0.004*\"covid\" + 0.003*\"patient\" + 0.003*\"model\" + 0.003*\"research\" + 0.003*\"particip\" + 0.002*\"base\" + 0.002*\"review\" + 0.002*\"group\"\n",
      "\n",
      "\n",
      "Topic: 4 Word: 0.017*\"patient\" + 0.007*\"group\" + 0.006*\"cancer\" + 0.006*\"treatment\" + 0.006*\"surgeri\" + 0.005*\"implant\" + 0.005*\"clinic\" + 0.005*\"surgic\" + 0.005*\"month\" + 0.004*\"complic\"\n",
      "\n",
      "\n"
     ]
    }
   ],
   "source": [
    "'''\n",
    "For each topic, we will explore the words occuring in that topic and its relative weight\n",
    "'''\n",
    "for idx, topic in lda_model.print_topics(-1):\n",
    "    print(\"Topic: {} Word: {}\".format(idx, topic))\n",
    "    print(\"\\n\")"
   ]
  },
  {
   "cell_type": "code",
   "execution_count": 174,
   "id": "79af0083",
   "metadata": {},
   "outputs": [
    {
     "name": "stdout",
     "output_type": "stream",
     "text": [
      "Topic #1:\n",
      "['speci', 'describ', 'describ_illustr', 'illustr', 'femal', 'brazil', 'mexico', 'genu', 'briefli', 'eastern']\n",
      "\n",
      "Topic #2:\n",
      "['cervic_cancer', 'cervic', 'smoker', 'tobacco', 'smoke', 'synonym', 'junior', 'cancer', 'speci', 'genu']\n",
      "\n",
      "Topic #3:\n",
      "['protein', 'cell', 'express', 'activ', 'gene', 'mechan', 'induc', 'regul', 'genom', 'detect']\n",
      "\n",
      "Topic #4:\n",
      "['speci', 'health', 'covid', 'patient', 'model', 'research', 'particip', 'base', 'review', 'group']\n",
      "\n",
      "Topic #5:\n",
      "['patient', 'group', 'cancer', 'treatment', 'surgeri', 'implant', 'clinic', 'surgic', 'month', 'complic']\n",
      "\n"
     ]
    }
   ],
   "source": [
    "topics = [[(term, round(wt, 3)) \n",
    "               for term, wt in lda_model.show_topic(n, topn=10)] \n",
    "                   for n in range(0, lda_model.num_topics)]\n",
    "for idx, topic in enumerate(topics):\n",
    "    print('Topic #'+str(idx+1)+':')\n",
    "    print([term for term, wt in topic])\n",
    "    print()"
   ]
  },
  {
   "cell_type": "code",
   "execution_count": 175,
   "id": "27287af1",
   "metadata": {},
   "outputs": [
    {
     "name": "stderr",
     "output_type": "stream",
     "text": [
      "<ipython-input-175-0df6d503e98d>:1: FutureWarning: Passing a negative integer is deprecated in version 1.0 and will not be supported in future version. Instead, use None to not limit the column width.\n",
      "  pd.set_option('display.max_colwidth', -1)\n"
     ]
    },
    {
     "data": {
      "text/html": [
       "<div>\n",
       "<style scoped>\n",
       "    .dataframe tbody tr th:only-of-type {\n",
       "        vertical-align: middle;\n",
       "    }\n",
       "\n",
       "    .dataframe tbody tr th {\n",
       "        vertical-align: top;\n",
       "    }\n",
       "\n",
       "    .dataframe thead th {\n",
       "        text-align: right;\n",
       "    }\n",
       "</style>\n",
       "<table border=\"1\" class=\"dataframe\">\n",
       "  <thead>\n",
       "    <tr style=\"text-align: right;\">\n",
       "      <th></th>\n",
       "      <th>Terms per Topic</th>\n",
       "    </tr>\n",
       "  </thead>\n",
       "  <tbody>\n",
       "    <tr>\n",
       "      <th>Topic0</th>\n",
       "      <td>speci, describ, describ_illustr, illustr, femal, brazil, mexico, genu, briefli, eastern</td>\n",
       "    </tr>\n",
       "    <tr>\n",
       "      <th>Topic1</th>\n",
       "      <td>cervic_cancer, cervic, smoker, tobacco, smoke, synonym, junior, cancer, speci, genu</td>\n",
       "    </tr>\n",
       "    <tr>\n",
       "      <th>Topic2</th>\n",
       "      <td>protein, cell, express, activ, gene, mechan, induc, regul, genom, detect</td>\n",
       "    </tr>\n",
       "    <tr>\n",
       "      <th>Topic3</th>\n",
       "      <td>speci, health, covid, patient, model, research, particip, base, review, group</td>\n",
       "    </tr>\n",
       "    <tr>\n",
       "      <th>Topic4</th>\n",
       "      <td>patient, group, cancer, treatment, surgeri, implant, clinic, surgic, month, complic</td>\n",
       "    </tr>\n",
       "  </tbody>\n",
       "</table>\n",
       "</div>"
      ],
      "text/plain": [
       "                                                                                Terms per Topic\n",
       "Topic0  speci, describ, describ_illustr, illustr, femal, brazil, mexico, genu, briefli, eastern\n",
       "Topic1  cervic_cancer, cervic, smoker, tobacco, smoke, synonym, junior, cancer, speci, genu    \n",
       "Topic2  protein, cell, express, activ, gene, mechan, induc, regul, genom, detect               \n",
       "Topic3  speci, health, covid, patient, model, research, particip, base, review, group          \n",
       "Topic4  patient, group, cancer, treatment, surgeri, implant, clinic, surgic, month, complic    "
      ]
     },
     "execution_count": 175,
     "metadata": {},
     "output_type": "execute_result"
    }
   ],
   "source": [
    "pd.set_option('display.max_colwidth', -1)\n",
    "topics_df = pd.DataFrame([', '.join([term for term, wt in topic])  \n",
    "                              for topic in topics],\n",
    "                         columns = ['Terms per Topic'],\n",
    "                         index=['Topic'+str(t) for t in range(0, lda_model.num_topics)]\n",
    "                         )\n",
    "topics_df"
   ]
  },
  {
   "cell_type": "code",
   "execution_count": 176,
   "id": "3d611e91",
   "metadata": {},
   "outputs": [],
   "source": [
    "doc_lda =lda_model[corpus_tfidf]"
   ]
  },
  {
   "cell_type": "code",
   "execution_count": 197,
   "id": "d78b5707",
   "metadata": {},
   "outputs": [
    {
     "data": {
      "text/plain": [
       "[(2, 0.022138111), (3, 0.95937824), (4, 0.014306442)]"
      ]
     },
     "execution_count": 197,
     "metadata": {},
     "output_type": "execute_result"
    }
   ],
   "source": [
    "doc_lda[2]"
   ]
  },
  {
   "cell_type": "code",
   "execution_count": 178,
   "id": "28665714",
   "metadata": {},
   "outputs": [],
   "source": [
    "corpus_topics = [sorted(topics, key=lambda record: -record[1])\n",
    "                     for topics in doc_lda]\n"
   ]
  },
  {
   "cell_type": "code",
   "execution_count": 195,
   "id": "b33380c1",
   "metadata": {},
   "outputs": [
    {
     "data": {
      "text/plain": [
       "[(3, 0.82216156), (4, 0.14148128), (2, 0.03060473)]"
      ]
     },
     "execution_count": 195,
     "metadata": {},
     "output_type": "execute_result"
    }
   ],
   "source": [
    "corpus_topics[12]"
   ]
  },
  {
   "cell_type": "code",
   "execution_count": 192,
   "id": "25b8b003",
   "metadata": {},
   "outputs": [
    {
     "ename": "IndexError",
     "evalue": "list index out of range",
     "output_type": "error",
     "traceback": [
      "\u001b[1;31m---------------------------------------------------------------------------\u001b[0m",
      "\u001b[1;31mIndexError\u001b[0m                                Traceback (most recent call last)",
      "\u001b[1;32m<ipython-input-192-8f6f25620b69>\u001b[0m in \u001b[0;36m<module>\u001b[1;34m\u001b[0m\n\u001b[0;32m      5\u001b[0m                             \u001b[1;34m'Topic_2'\u001b[0m\u001b[1;33m:\u001b[0m\u001b[0mcorpus_topics\u001b[0m\u001b[1;33m[\u001b[0m\u001b[0mi\u001b[0m\u001b[1;33m]\u001b[0m\u001b[1;33m[\u001b[0m\u001b[1;36m1\u001b[0m\u001b[1;33m]\u001b[0m\u001b[1;33m[\u001b[0m\u001b[1;36m0\u001b[0m\u001b[1;33m]\u001b[0m\u001b[1;33m,\u001b[0m\u001b[1;33m\u001b[0m\u001b[1;33m\u001b[0m\u001b[0m\n\u001b[0;32m      6\u001b[0m                             \u001b[1;34m'Topic_2_score'\u001b[0m\u001b[1;33m:\u001b[0m\u001b[0mcorpus_topics\u001b[0m\u001b[1;33m[\u001b[0m\u001b[0mi\u001b[0m\u001b[1;33m]\u001b[0m\u001b[1;33m[\u001b[0m\u001b[1;36m1\u001b[0m\u001b[1;33m]\u001b[0m\u001b[1;33m[\u001b[0m\u001b[1;36m1\u001b[0m\u001b[1;33m]\u001b[0m\u001b[1;33m,\u001b[0m\u001b[1;33m\u001b[0m\u001b[1;33m\u001b[0m\u001b[0m\n\u001b[1;32m----> 7\u001b[1;33m                            \u001b[1;34m'Topic_3'\u001b[0m\u001b[1;33m:\u001b[0m\u001b[0mcorpus_topics\u001b[0m\u001b[1;33m[\u001b[0m\u001b[0mi\u001b[0m\u001b[1;33m]\u001b[0m\u001b[1;33m[\u001b[0m\u001b[1;36m2\u001b[0m\u001b[1;33m]\u001b[0m\u001b[1;33m[\u001b[0m\u001b[1;36m0\u001b[0m\u001b[1;33m]\u001b[0m\u001b[1;33m,\u001b[0m\u001b[1;33m\u001b[0m\u001b[1;33m\u001b[0m\u001b[0m\n\u001b[0m\u001b[0;32m      8\u001b[0m                            'Topic_3_score':corpus_topics[i][2][1]},\n\u001b[0;32m      9\u001b[0m                            ignore_index=True)\n",
      "\u001b[1;31mIndexError\u001b[0m: list index out of range"
     ]
    }
   ],
   "source": [
    "new_df=pd.DataFrame(columns=['Abstract','Topic_1',\"Topic_1_score\",'Topic_2',\"Topic_2_score\",'Topic_3',\"Topic_3_score\"])\n",
    "for i in range(len(df)):\n",
    "    new_df = new_df.append({'Abstract':df[\"Abstract\"][i],'Topic_1':corpus_topics[i][0][0],\n",
    "                            'Topic_1_score':corpus_topics[i][0][1],\n",
    "                            'Topic_2':corpus_topics[i][1][0],\n",
    "                            'Topic_2_score':corpus_topics[i][1][1],\n",
    "                           'Topic_3':corpus_topics[i][2][0],\n",
    "                           'Topic_3_score':corpus_topics[i][2][1]},\n",
    "                           ignore_index=True)\n",
    "    \n",
    "    \n",
    "\n"
   ]
  },
  {
   "cell_type": "code",
   "execution_count": 136,
   "id": "946fed15",
   "metadata": {},
   "outputs": [
    {
     "data": {
      "text/html": [
       "<div>\n",
       "<style scoped>\n",
       "    .dataframe tbody tr th:only-of-type {\n",
       "        vertical-align: middle;\n",
       "    }\n",
       "\n",
       "    .dataframe tbody tr th {\n",
       "        vertical-align: top;\n",
       "    }\n",
       "\n",
       "    .dataframe thead th {\n",
       "        text-align: right;\n",
       "    }\n",
       "</style>\n",
       "<table border=\"1\" class=\"dataframe\">\n",
       "  <thead>\n",
       "    <tr style=\"text-align: right;\">\n",
       "      <th></th>\n",
       "      <th>Abstract</th>\n",
       "      <th>Topic_1</th>\n",
       "      <th>Topic_1_score</th>\n",
       "      <th>Topic_2</th>\n",
       "      <th>Topic_2_score</th>\n",
       "      <th>Topic_3</th>\n",
       "      <th>Topic_3_score</th>\n",
       "    </tr>\n",
       "  </thead>\n",
       "  <tbody>\n",
       "    <tr>\n",
       "      <th>0</th>\n",
       "      <td>Coordination variability (CV) is commonly analyzed to understand dynamical qualities of human locomotion. The purpose of this study was to develop guidelines for the number of trials required to inform the calculation of a stable mean lower limb CV during overground locomotion. Three-dimensional lower limb kinematics were captured for 10 recreational runners performing 20 trials each of preferred and fixed speed walking and running. Stance phase CV was calculated for 9 segment and joint couplings using a modified vector coding technique. The number of trials required to achieve a CV mean within 10% of 20 strides average was determined for each coupling and individual. The statistical outputs of mode (walking vs running) and speed (preferred vs fixed) were compared when informed by differing numbers of trials. A minimum of 11 trials were required for stable mean stance phase CV. With fewer than 11 trials, CV was underestimated and led to an oversight of significant differences between mode and speed. Future overground locomotion CV research in healthy populations using a vector coding approach should use 11 trials as a standard minimum. Researchers should be aware of the notable consequences of an insufficient number of trials for overall study findings.</td>\n",
       "      <td>9</td>\n",
       "      <td>0.810124</td>\n",
       "      <td>13</td>\n",
       "      <td>0.096518</td>\n",
       "      <td>14</td>\n",
       "      <td>0.049659</td>\n",
       "    </tr>\n",
       "    <tr>\n",
       "      <th>1</th>\n",
       "      <td>Clinical Scenario: Dynamic knee valgus (DKV) is a mechanical alteration in the knee that leads to increased risk of injury. Weakness of hip musculature in hip abduction (HABD), extension (HEXT), and external rotation (HER) may contribute to increased DKV in single-leg landing tasks. Focused Clinical Question: Is decreased hip strength associated with an increase in DKV during a single-leg landing task in collegiate female athletes? Summary of Key Findings: Three studies were included: One randomized control trial (RCT), one cohort study, and one case-control. All three studies found that decreases in HABD and HER strength contributed to increased DKV during single-leg landing tasks. One study also found that the hip extensors contribute to controlling hip adduction, a common factor in many mechanisms of injuries. These three studies recommended strengthening HABD, HEXT, and HER to decrease DKV and reduce the risk of injury at the knee. Clinical Bottom Line: Weak HABD, HEXT, and HER contribute to increased DKV in college female athletes, but strengthening HABD, HEXT, and HER can lead to decreases in DKV and, overall, reduce the risk of injury at the knee. Strength of Recommendation: These articles were graded with a level of evidence of III or higher, giving a grade of B strength of recommendation that weak HABD, HEXT, and HER are associated with increased DKV in collegiate female athletes.</td>\n",
       "      <td>9</td>\n",
       "      <td>0.822999</td>\n",
       "      <td>13</td>\n",
       "      <td>0.084803</td>\n",
       "      <td>14</td>\n",
       "      <td>0.051136</td>\n",
       "    </tr>\n",
       "    <tr>\n",
       "      <th>2</th>\n",
       "      <td>Various methodologies have been reported to assess the real-world epidemiology of amyotrophic lateral sclerosis (ALS) in the United States. The aim of this study was to estimate the prevalence, incidence, and geographical distribution of ALS using administrative claims data and to model future trends in ALS epidemiology.,We performed a retrospective analysis of deidentified administrative claims data for &gt;100 million patients, using 2 separate databases (IBM MarketScan Research Databases and Symphony Health Integrated DataVerse [IDV]), to identify patients with ALS. We evaluated disease prevalence, annual incidence, age- and population-controlled geographical distribution, and expected future trends.,From 2013 to 2017, we identified 7,316 and 35,208 ALS patients from the MarketScan databases and IDV, respectively. Average annual incidence estimates were 1.48 and 1.37 per 100,000 and point prevalence estimates were 6.85 and 5.16 per 100,000 and in the United States for the MarketScan databases and IDV, respectively. Predictive modeling estimates are reported out to the year 2060 and demonstrate an increasing trend in both incident and prevalent cases.,This study provides incidence and prevalence estimates as well as geographical distribution for what the authors believe to be the largest ALS population studied to date. By using 2 separate administrative claims data sets, confidence in our estimates is increased. Future projections based on either database demonstrate an increase in ALS cases, which has also been seen in other large-scale ALS studies. These results can be used to help improve the allocation of healthcare resources in the future.</td>\n",
       "      <td>9</td>\n",
       "      <td>0.817132</td>\n",
       "      <td>13</td>\n",
       "      <td>0.075327</td>\n",
       "      <td>14</td>\n",
       "      <td>0.067771</td>\n",
       "    </tr>\n",
       "    <tr>\n",
       "      <th>3</th>\n",
       "      <td>As outcomes for acute ischemic stroke (AIS) vary according to clinical profile and management approaches, we aimed to determine disparities in clinical outcomes between Asian and non-Asian participants of the international, Enhanced Control of Hypertension and Thrombolysis Stroke study (ENCHANTED).,ENCHANTED was a multicenter, prospective, partial-factorial, randomized, open trial of low-dose (0.6 mg/kg) versus standard-dose (0.9 mg/kg) alteplase, and intensive (target systolic blood pressure [SBP] 130-140 mm Hg) or guideline-recommended (&lt;180 mm Hg) BP management, in thrombolysis-eligible AIS patients. Logistic regression models were used to examine the associations with outcomes of death or disability (modified Rankin scale [mRS] scores 2-6), major disability (mRS 3-5), death, and intracranial hemorrhage (ICH), with adjustment prognostic factors, alteplase dose, and mean SBP over 1-24 h.,Among 4,551 thrombolyzed AIS patients (mean age 66.7 years, 37.8% female), there were 65.4% Asians who were younger, fewer female, and with less atrial fibrillation, hypercholesterolemia, premorbid symptoms, and concomitant antihypertensive, antithrombotic and statin treatment, and more prior stroke, compared to non-Asians. Frequencies of hypertension, coronary artery disease, and diabetes mellitus were comparable between groups. Asian patients were less likely to be admitted to an acute stroke unit and receive early mobilization by a therapist or rehabilitation but more likely to receive intensive care. There were no significant differences between Asians and non-Asians in functional outcome (defined by mRS scores 2-6 or 3-5; adjusted odds ratio [OR] 1.00, 95% confidence interval [CI] 0.85-1.19 [p = 0.958] and OR 0.95, 95% CI 0.80-1.13 [p = 0.572], respectively), or death (OR 1.25, 95% CI 0.95-1.65; p = 0.116), despite Asians having greater odds of ICH (OR 1.51, 95% CI 1.23-1.86; p = 0.0001) and neurological deterioration within 24 h (OR 1.58, 95% CI 1.18-2.12; p = 0.002).,Within the context of an international clinical trial of thrombolyzed AIS patients, demography, risk factors, management, and odds of early neurological deterioration and ICH, all differ between Asian and non-Asian participants. However, patterns of functional recovery are similar between these major regional groups.</td>\n",
       "      <td>9</td>\n",
       "      <td>0.800859</td>\n",
       "      <td>13</td>\n",
       "      <td>0.110799</td>\n",
       "      <td>14</td>\n",
       "      <td>0.049708</td>\n",
       "    </tr>\n",
       "    <tr>\n",
       "      <th>4</th>\n",
       "      <td>Because hearing loss in children can result in developmental deficits, early detection and intervention are critical. This article identifies a constellation of maternal factors that predict loss to follow-up (LTF) at the point of rescreening-the first follow-up for babies who did not pass the hearing screening performed at birth-through New Jersey's early hearing detection and intervention program. Maternal factors are critical to consider, as mothers are often the primary decision makers around children's health care. All data were obtained from the state's department of health and included babies born between June 2015 and June 2017. Logistic regression was used to predict LTF. Findings indicate that non-Hispanic Black mothers, younger mothers, mothers with previous live births, and mothers with obesity were more likely to be LTF. Hispanic mothers and those enrolled in the state's Special Supplemental Nutrition Program for Women, Infants, and Children (WIC) program were less likely to be LTF. Mothers most at risk for LTF should be targeted for intervention to help children with hearing loss achieve the benefits from early intervention. Being a WIC recipient is a protective factor for LTF; therefore, elements of WIC could be used to reduce the state's LTF rate.</td>\n",
       "      <td>9</td>\n",
       "      <td>0.820698</td>\n",
       "      <td>13</td>\n",
       "      <td>0.082246</td>\n",
       "      <td>14</td>\n",
       "      <td>0.055982</td>\n",
       "    </tr>\n",
       "  </tbody>\n",
       "</table>\n",
       "</div>"
      ],
      "text/plain": [
       "                                                                                                                                                                                                                                                                                                                                                                                                                                                                                                                                                                                                                                                                                                                                                                                                                                                                                                                                                                                                                                                                                                                                                                                                                                                                                                                                                                                                                                                                                                                                                                                                                                                                                                                                                                                                                                                                                                                                                                                                                                                                                                                                                                                                                                                                                                                                                                                                   Abstract  \\\n",
       "0  Coordination variability (CV) is commonly analyzed to understand dynamical qualities of human locomotion. The purpose of this study was to develop guidelines for the number of trials required to inform the calculation of a stable mean lower limb CV during overground locomotion. Three-dimensional lower limb kinematics were captured for 10 recreational runners performing 20 trials each of preferred and fixed speed walking and running. Stance phase CV was calculated for 9 segment and joint couplings using a modified vector coding technique. The number of trials required to achieve a CV mean within 10% of 20 strides average was determined for each coupling and individual. The statistical outputs of mode (walking vs running) and speed (preferred vs fixed) were compared when informed by differing numbers of trials. A minimum of 11 trials were required for stable mean stance phase CV. With fewer than 11 trials, CV was underestimated and led to an oversight of significant differences between mode and speed. Future overground locomotion CV research in healthy populations using a vector coding approach should use 11 trials as a standard minimum. Researchers should be aware of the notable consequences of an insufficient number of trials for overall study findings.                                                                                                                                                                                                                                                                                                                                                                                                                                                                                                                                                                                                                                                                                                                                                                                                                                                                                                                                                                                                                                                                                  \n",
       "1  Clinical Scenario: Dynamic knee valgus (DKV) is a mechanical alteration in the knee that leads to increased risk of injury. Weakness of hip musculature in hip abduction (HABD), extension (HEXT), and external rotation (HER) may contribute to increased DKV in single-leg landing tasks. Focused Clinical Question: Is decreased hip strength associated with an increase in DKV during a single-leg landing task in collegiate female athletes? Summary of Key Findings: Three studies were included: One randomized control trial (RCT), one cohort study, and one case-control. All three studies found that decreases in HABD and HER strength contributed to increased DKV during single-leg landing tasks. One study also found that the hip extensors contribute to controlling hip adduction, a common factor in many mechanisms of injuries. These three studies recommended strengthening HABD, HEXT, and HER to decrease DKV and reduce the risk of injury at the knee. Clinical Bottom Line: Weak HABD, HEXT, and HER contribute to increased DKV in college female athletes, but strengthening HABD, HEXT, and HER can lead to decreases in DKV and, overall, reduce the risk of injury at the knee. Strength of Recommendation: These articles were graded with a level of evidence of III or higher, giving a grade of B strength of recommendation that weak HABD, HEXT, and HER are associated with increased DKV in collegiate female athletes.                                                                                                                                                                                                                                                                                                                                                                                                                                                                                                                                                                                                                                                                                                                                                                                                                                                                                                                                       \n",
       "2  Various methodologies have been reported to assess the real-world epidemiology of amyotrophic lateral sclerosis (ALS) in the United States. The aim of this study was to estimate the prevalence, incidence, and geographical distribution of ALS using administrative claims data and to model future trends in ALS epidemiology.,We performed a retrospective analysis of deidentified administrative claims data for >100 million patients, using 2 separate databases (IBM MarketScan Research Databases and Symphony Health Integrated DataVerse [IDV]), to identify patients with ALS. We evaluated disease prevalence, annual incidence, age- and population-controlled geographical distribution, and expected future trends.,From 2013 to 2017, we identified 7,316 and 35,208 ALS patients from the MarketScan databases and IDV, respectively. Average annual incidence estimates were 1.48 and 1.37 per 100,000 and point prevalence estimates were 6.85 and 5.16 per 100,000 and in the United States for the MarketScan databases and IDV, respectively. Predictive modeling estimates are reported out to the year 2060 and demonstrate an increasing trend in both incident and prevalent cases.,This study provides incidence and prevalence estimates as well as geographical distribution for what the authors believe to be the largest ALS population studied to date. By using 2 separate administrative claims data sets, confidence in our estimates is increased. Future projections based on either database demonstrate an increase in ALS cases, which has also been seen in other large-scale ALS studies. These results can be used to help improve the allocation of healthcare resources in the future.                                                                                                                                                                                                                                                                                                                                                                                                                                                                                                                                                                                                                                                                    \n",
       "3  As outcomes for acute ischemic stroke (AIS) vary according to clinical profile and management approaches, we aimed to determine disparities in clinical outcomes between Asian and non-Asian participants of the international, Enhanced Control of Hypertension and Thrombolysis Stroke study (ENCHANTED).,ENCHANTED was a multicenter, prospective, partial-factorial, randomized, open trial of low-dose (0.6 mg/kg) versus standard-dose (0.9 mg/kg) alteplase, and intensive (target systolic blood pressure [SBP] 130-140 mm Hg) or guideline-recommended (<180 mm Hg) BP management, in thrombolysis-eligible AIS patients. Logistic regression models were used to examine the associations with outcomes of death or disability (modified Rankin scale [mRS] scores 2-6), major disability (mRS 3-5), death, and intracranial hemorrhage (ICH), with adjustment prognostic factors, alteplase dose, and mean SBP over 1-24 h.,Among 4,551 thrombolyzed AIS patients (mean age 66.7 years, 37.8% female), there were 65.4% Asians who were younger, fewer female, and with less atrial fibrillation, hypercholesterolemia, premorbid symptoms, and concomitant antihypertensive, antithrombotic and statin treatment, and more prior stroke, compared to non-Asians. Frequencies of hypertension, coronary artery disease, and diabetes mellitus were comparable between groups. Asian patients were less likely to be admitted to an acute stroke unit and receive early mobilization by a therapist or rehabilitation but more likely to receive intensive care. There were no significant differences between Asians and non-Asians in functional outcome (defined by mRS scores 2-6 or 3-5; adjusted odds ratio [OR] 1.00, 95% confidence interval [CI] 0.85-1.19 [p = 0.958] and OR 0.95, 95% CI 0.80-1.13 [p = 0.572], respectively), or death (OR 1.25, 95% CI 0.95-1.65; p = 0.116), despite Asians having greater odds of ICH (OR 1.51, 95% CI 1.23-1.86; p = 0.0001) and neurological deterioration within 24 h (OR 1.58, 95% CI 1.18-2.12; p = 0.002).,Within the context of an international clinical trial of thrombolyzed AIS patients, demography, risk factors, management, and odds of early neurological deterioration and ICH, all differ between Asian and non-Asian participants. However, patterns of functional recovery are similar between these major regional groups.   \n",
       "4  Because hearing loss in children can result in developmental deficits, early detection and intervention are critical. This article identifies a constellation of maternal factors that predict loss to follow-up (LTF) at the point of rescreening-the first follow-up for babies who did not pass the hearing screening performed at birth-through New Jersey's early hearing detection and intervention program. Maternal factors are critical to consider, as mothers are often the primary decision makers around children's health care. All data were obtained from the state's department of health and included babies born between June 2015 and June 2017. Logistic regression was used to predict LTF. Findings indicate that non-Hispanic Black mothers, younger mothers, mothers with previous live births, and mothers with obesity were more likely to be LTF. Hispanic mothers and those enrolled in the state's Special Supplemental Nutrition Program for Women, Infants, and Children (WIC) program were less likely to be LTF. Mothers most at risk for LTF should be targeted for intervention to help children with hearing loss achieve the benefits from early intervention. Being a WIC recipient is a protective factor for LTF; therefore, elements of WIC could be used to reduce the state's LTF rate.                                                                                                                                                                                                                                                                                                                                                                                                                                                                                                                                                                                                                                                                                                                                                                                                                                                                                                                                                                                                                                                                        \n",
       "\n",
       "  Topic_1  Topic_1_score Topic_2  Topic_2_score Topic_3  Topic_3_score  \n",
       "0  9       0.810124       13      0.096518       14      0.049659       \n",
       "1  9       0.822999       13      0.084803       14      0.051136       \n",
       "2  9       0.817132       13      0.075327       14      0.067771       \n",
       "3  9       0.800859       13      0.110799       14      0.049708       \n",
       "4  9       0.820698       13      0.082246       14      0.055982       "
      ]
     },
     "execution_count": 136,
     "metadata": {},
     "output_type": "execute_result"
    }
   ],
   "source": [
    "new_df.head()"
   ]
  },
  {
   "cell_type": "code",
   "execution_count": 139,
   "id": "b1283ece",
   "metadata": {},
   "outputs": [
    {
     "data": {
      "text/html": [
       "<div>\n",
       "<style scoped>\n",
       "    .dataframe tbody tr th:only-of-type {\n",
       "        vertical-align: middle;\n",
       "    }\n",
       "\n",
       "    .dataframe tbody tr th {\n",
       "        vertical-align: top;\n",
       "    }\n",
       "\n",
       "    .dataframe thead th {\n",
       "        text-align: right;\n",
       "    }\n",
       "</style>\n",
       "<table border=\"1\" class=\"dataframe\">\n",
       "  <thead>\n",
       "    <tr style=\"text-align: right;\">\n",
       "      <th></th>\n",
       "      <th>Abstract</th>\n",
       "      <th>Topic_1</th>\n",
       "      <th>Topic_1_score</th>\n",
       "      <th>Topic_2</th>\n",
       "      <th>Topic_2_score</th>\n",
       "      <th>Topic_3</th>\n",
       "      <th>Topic_3_score</th>\n",
       "    </tr>\n",
       "  </thead>\n",
       "  <tbody>\n",
       "  </tbody>\n",
       "</table>\n",
       "</div>"
      ],
      "text/plain": [
       "Empty DataFrame\n",
       "Columns: [Abstract, Topic_1, Topic_1_score, Topic_2, Topic_2_score, Topic_3, Topic_3_score]\n",
       "Index: []"
      ]
     },
     "execution_count": 139,
     "metadata": {},
     "output_type": "execute_result"
    }
   ],
   "source": [
    "new_df[new_df['Topic_1']!=9]"
   ]
  },
  {
   "cell_type": "code",
   "execution_count": null,
   "id": "360a4229",
   "metadata": {},
   "outputs": [],
   "source": []
  }
 ],
 "metadata": {
  "kernelspec": {
   "display_name": "Python 3",
   "language": "python",
   "name": "python3"
  },
  "language_info": {
   "codemirror_mode": {
    "name": "ipython",
    "version": 3
   },
   "file_extension": ".py",
   "mimetype": "text/x-python",
   "name": "python",
   "nbconvert_exporter": "python",
   "pygments_lexer": "ipython3",
   "version": "3.8.8"
  }
 },
 "nbformat": 4,
 "nbformat_minor": 5
}
