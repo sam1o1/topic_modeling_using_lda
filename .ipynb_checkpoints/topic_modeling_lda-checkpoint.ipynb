{
 "cells": [
  {
   "cell_type": "code",
   "execution_count": 1,
   "id": "ef96f987",
   "metadata": {},
   "outputs": [],
   "source": [
    "import pandas as pd"
   ]
  },
  {
   "cell_type": "markdown",
   "id": "4b4d327e",
   "metadata": {},
   "source": [
    "##  Load the dataset"
   ]
  },
  {
   "cell_type": "code",
   "execution_count": 2,
   "id": "dc7b0e64",
   "metadata": {},
   "outputs": [],
   "source": [
    "df=pd.read_excel('Pubmed5k.xlsx')"
   ]
  },
  {
   "cell_type": "code",
   "execution_count": 3,
   "id": "43000301",
   "metadata": {},
   "outputs": [
    {
     "data": {
      "text/html": [
       "<div>\n",
       "<style scoped>\n",
       "    .dataframe tbody tr th:only-of-type {\n",
       "        vertical-align: middle;\n",
       "    }\n",
       "\n",
       "    .dataframe tbody tr th {\n",
       "        vertical-align: top;\n",
       "    }\n",
       "\n",
       "    .dataframe thead th {\n",
       "        text-align: right;\n",
       "    }\n",
       "</style>\n",
       "<table border=\"1\" class=\"dataframe\">\n",
       "  <thead>\n",
       "    <tr style=\"text-align: right;\">\n",
       "      <th></th>\n",
       "      <th>ArticleID</th>\n",
       "      <th>Title</th>\n",
       "      <th>Abstract</th>\n",
       "    </tr>\n",
       "  </thead>\n",
       "  <tbody>\n",
       "    <tr>\n",
       "      <th>0</th>\n",
       "      <td>34153941</td>\n",
       "      <td>Stable Coordination Variability in Overground ...</td>\n",
       "      <td>Coordination variability (CV) is commonly anal...</td>\n",
       "    </tr>\n",
       "    <tr>\n",
       "      <th>1</th>\n",
       "      <td>34153942</td>\n",
       "      <td>Weak Hip Strength Increases Dynamic Knee Valgu...</td>\n",
       "      <td>Clinical Scenario: Dynamic knee valgus (DKV) i...</td>\n",
       "    </tr>\n",
       "    <tr>\n",
       "      <th>2</th>\n",
       "      <td>34153964</td>\n",
       "      <td>Current and Future Projections of Amyotrophic ...</td>\n",
       "      <td>Various methodologies have been reported to as...</td>\n",
       "    </tr>\n",
       "    <tr>\n",
       "      <th>3</th>\n",
       "      <td>34153968</td>\n",
       "      <td>Disparities between Asian and Non-Asian Thromb...</td>\n",
       "      <td>As outcomes for acute ischemic stroke (AIS) va...</td>\n",
       "    </tr>\n",
       "    <tr>\n",
       "      <th>4</th>\n",
       "      <td>34153978</td>\n",
       "      <td>Maternal Factors Predicting Loss to Follow-Up ...</td>\n",
       "      <td>Because hearing loss in children can result in...</td>\n",
       "    </tr>\n",
       "  </tbody>\n",
       "</table>\n",
       "</div>"
      ],
      "text/plain": [
       "   ArticleID                                              Title  \\\n",
       "0   34153941  Stable Coordination Variability in Overground ...   \n",
       "1   34153942  Weak Hip Strength Increases Dynamic Knee Valgu...   \n",
       "2   34153964  Current and Future Projections of Amyotrophic ...   \n",
       "3   34153968  Disparities between Asian and Non-Asian Thromb...   \n",
       "4   34153978  Maternal Factors Predicting Loss to Follow-Up ...   \n",
       "\n",
       "                                            Abstract  \n",
       "0  Coordination variability (CV) is commonly anal...  \n",
       "1  Clinical Scenario: Dynamic knee valgus (DKV) i...  \n",
       "2  Various methodologies have been reported to as...  \n",
       "3  As outcomes for acute ischemic stroke (AIS) va...  \n",
       "4  Because hearing loss in children can result in...  "
      ]
     },
     "execution_count": 3,
     "metadata": {},
     "output_type": "execute_result"
    }
   ],
   "source": [
    "df.head()"
   ]
  },
  {
   "cell_type": "markdown",
   "id": "abaa2beb",
   "metadata": {},
   "source": [
    "## explore the dataset"
   ]
  },
  {
   "cell_type": "code",
   "execution_count": 4,
   "id": "1a091707",
   "metadata": {},
   "outputs": [
    {
     "name": "stdout",
     "output_type": "stream",
     "text": [
      "the length of the dataset is #4999\n",
      "----------------------------------------------------------------------------------------------------\n",
      "<class 'pandas.core.frame.DataFrame'>\n",
      "RangeIndex: 4999 entries, 0 to 4998\n",
      "Data columns (total 3 columns):\n",
      " #   Column     Non-Null Count  Dtype \n",
      "---  ------     --------------  ----- \n",
      " 0   ArticleID  4999 non-null   int64 \n",
      " 1   Title      4999 non-null   object\n",
      " 2   Abstract   4999 non-null   object\n",
      "dtypes: int64(1), object(2)\n",
      "memory usage: 117.3+ KB\n"
     ]
    }
   ],
   "source": [
    "print(\"the length of the dataset is #{}\".format(len(df)))\n",
    "print(\"-\"*100)\n",
    "df.info(abs)"
   ]
  },
  {
   "cell_type": "markdown",
   "id": "3d1ebd62",
   "metadata": {},
   "source": [
    "No null values"
   ]
  },
  {
   "cell_type": "markdown",
   "id": "ac5bed68",
   "metadata": {},
   "source": [
    "## Data Preprocessing ##\n",
    "\n",
    "We will perform the following steps:\n",
    "\n",
    "* **Tokenization**: Split the text into sentences and the sentences into words. Lowercase the words and remove punctuation.\n",
    "* Words that have fewer than 3 characters are removed.\n",
    "* All **stopwords** are removed.\n",
    "* Words are **lemmatized** - words in third person are changed to first person and verbs in past and future tenses are changed into present.\n",
    "* Words are **stemmed** - words are reduced to their root form.\n"
   ]
  },
  {
   "cell_type": "code",
   "execution_count": 5,
   "id": "9f73feb4",
   "metadata": {},
   "outputs": [
    {
     "name": "stdout",
     "output_type": "stream",
     "text": [
      "All Done!\n"
     ]
    },
    {
     "name": "stderr",
     "output_type": "stream",
     "text": [
      "[nltk_data] Downloading package wordnet to\n",
      "[nltk_data]     C:\\Users\\Eslam\\AppData\\Roaming\\nltk_data...\n",
      "[nltk_data]   Package wordnet is already up-to-date!\n"
     ]
    }
   ],
   "source": [
    "'''\n",
    "Loading Gensim and nltk libraries\n",
    "'''\n",
    "# pip install gensim\n",
    "import gensim\n",
    "from gensim.utils import simple_preprocess\n",
    "from gensim.parsing.preprocessing import STOPWORDS\n",
    "from nltk.stem import WordNetLemmatizer, SnowballStemmer\n",
    "from nltk.stem.porter import PorterStemmer\n",
    "import numpy as np\n",
    "import nltk\n",
    "nltk.download('wordnet')\n",
    "print(\"All Done!\")"
   ]
  },
  {
   "cell_type": "code",
   "execution_count": 6,
   "id": "ed7a5d1e",
   "metadata": {},
   "outputs": [],
   "source": [
    "'''\n",
    "a function to perform the pre processing steps on the entire dataset\n",
    "'''\n",
    "def lemmatize_stemming(text):\n",
    "    return PorterStemmer().stem(WordNetLemmatizer().lemmatize(text, pos='v'))\n",
    "# Tokenize and lemmatize\n",
    "def preprocess(text):\n",
    "    result=[]\n",
    "    for token in gensim.utils.simple_preprocess(text) :\n",
    "        if token not in gensim.parsing.preprocessing.STOPWORDS and len(token) > 4:\n",
    "            # Apply lemmatize_stemming on the token, then add to the results list\n",
    "            result.append(lemmatize_stemming(token))\n",
    "    return result"
   ]
  },
  {
   "cell_type": "code",
   "execution_count": 7,
   "id": "edb0b79e",
   "metadata": {},
   "outputs": [],
   "source": [
    "# preprocess all the abstracts, saving the list of results as 'processed_docs'\n",
    "processed_docs = df['Abstract'].map(preprocess)"
   ]
  },
  {
   "cell_type": "code",
   "execution_count": 8,
   "id": "d42afba5",
   "metadata": {},
   "outputs": [
    {
     "data": {
      "text/plain": [
       "0    [coordin, variabl, commonli, analyz, understan...\n",
       "1    [clinic, scenario, dynam, valgu, mechan, alter...\n",
       "2    [methodolog, report, assess, world, epidemiolo...\n",
       "3    [outcom, acut, ischem, stroke, accord, clinic,...\n",
       "4    [hear, children, result, development, deficit,...\n",
       "5    [despit, grow, number, immigr, popul, exist, p...\n",
       "6    [histor, treatment, lupu, nephriti, neutrophil...\n",
       "7    [progress, chronic, kidney, diseas, individu, ...\n",
       "8    [immunoglobulin, nephropathi, common, primari,...\n",
       "9    [kidney, transplant, precis, medicin, enter, c...\n",
       "Name: Abstract, dtype: object"
      ]
     },
     "execution_count": 8,
     "metadata": {},
     "output_type": "execute_result"
    }
   ],
   "source": [
    "processed_docs[:10]"
   ]
  },
  {
   "cell_type": "markdown",
   "id": "22211116",
   "metadata": {},
   "source": [
    "## Step 3.1: Bag of words on the dataset\n",
    "\n",
    "Now let's create a dictionary from 'processed_docs' containing the number of times a word appears in the training set. To do that, let's pass `processed_docs` to [`gensim.corpora.Dictionary()`](https://radimrehurek.com/gensim/corpora/dictionary.html) and call it '`dictionary`'."
   ]
  },
  {
   "cell_type": "code",
   "execution_count": 9,
   "id": "4b69954f",
   "metadata": {},
   "outputs": [
    {
     "name": "stdout",
     "output_type": "stream",
     "text": [
      "0 achiev\n",
      "1 analyz\n",
      "2 approach\n",
      "3 averag\n",
      "4 awar\n",
      "5 calcul\n",
      "6 captur\n",
      "7 cod\n",
      "8 commonli\n",
      "9 compar\n",
      "10 consequ\n"
     ]
    }
   ],
   "source": [
    "'''\n",
    "Create a dictionary from 'processed_docs' containing the number of times a word appears \n",
    "in the training set using gensim.corpora.Dictionary and call it 'dictionary'\n",
    "'''\n",
    "dictionary = gensim.corpora.Dictionary(processed_docs)\n",
    "'''\n",
    "Checking dictionary created\n",
    "'''\n",
    "count = 0\n",
    "for k, v in dictionary.iteritems():\n",
    "    print(k, v)\n",
    "    count += 1\n",
    "    if count > 10:\n",
    "        break"
   ]
  },
  {
   "cell_type": "markdown",
   "id": "264f6e1d",
   "metadata": {},
   "source": [
    "** Gensim filter_extremes **\n",
    "\n",
    "[`filter_extremes(no_below=5, no_above=0.5, keep_n=100000)`](https://radimrehurek.com/gensim/corpora/dictionary.html#gensim.corpora.dictionary.Dictionary.filter_extremes)\n",
    "\n",
    "Filter out tokens that appear in\n",
    "\n",
    "* less than no_below documents (absolute number) or\n",
    "* more than no_above documents (fraction of total corpus size, not absolute number).\n",
    "* after (1) and (2), keep only the first keep_n most frequent tokens (or keep all if None)."
   ]
  },
  {
   "cell_type": "code",
   "execution_count": 10,
   "id": "3a69edce",
   "metadata": {},
   "outputs": [],
   "source": [
    "'''\n",
    "Remove very rare and very common words:\n",
    "- words appearing less than 15 times\n",
    "- words appearing in more than 10% of all documents\n",
    "'''\n",
    "# apply dictionary.filter_extremes() with the parameters mentioned above\n",
    "dictionary.filter_extremes(no_below=15, no_above=0.1, keep_n=100000)"
   ]
  },
  {
   "cell_type": "code",
   "execution_count": 11,
   "id": "cd46420d",
   "metadata": {},
   "outputs": [],
   "source": [
    "'''\n",
    "Create the Bag-of-words model for each document i.e for each document we create a dictionary reporting how many\n",
    "words and how many times those words appear. Save this to 'bow_corpus'\n",
    "'''\n",
    "bow_corpus = [dictionary.doc2bow(doc) for doc in processed_docs]"
   ]
  },
  {
   "cell_type": "markdown",
   "id": "596c875e",
   "metadata": {},
   "source": [
    "# TF-IDF \"Term Frequency, Inverse Document Frequency"
   ]
  },
  {
   "cell_type": "code",
   "execution_count": 12,
   "id": "8fb44dca",
   "metadata": {},
   "outputs": [],
   "source": [
    "'''\n",
    "Create tf-idf model object using models.TfidfModel on 'bow_corpus' and save it to 'tfidf'\n",
    "'''\n",
    "from gensim import corpora, models\n",
    "tfidf = models.TfidfModel(bow_corpus)"
   ]
  },
  {
   "cell_type": "code",
   "execution_count": 13,
   "id": "ac08ba6b",
   "metadata": {},
   "outputs": [],
   "source": [
    "'''\n",
    "Apply transformation to the entire corpus and call it 'corpus_tfidf'\n",
    "'''\n",
    "corpus_tfidf = tfidf[bow_corpus]"
   ]
  },
  {
   "cell_type": "code",
   "execution_count": 14,
   "id": "f5f22c89",
   "metadata": {},
   "outputs": [
    {
     "name": "stdout",
     "output_type": "stream",
     "text": [
      "[(0, 0.066064425942791),\n",
      " (1, 0.072696238897134),\n",
      " (2, 0.09210696137063167),\n",
      " (3, 0.14661527163280644),\n",
      " (4, 0.09981371901150272),\n",
      " (5, 0.19209761940306322),\n",
      " (6, 0.0850780048176935),\n",
      " (7, 0.08075908041630712),\n",
      " (8, 0.1035415054767607),\n",
      " (9, 0.19156480551605135),\n",
      " (10, 0.10077397657176254),\n",
      " (11, 0.0710445239022165),\n",
      " (12, 0.10709498663204674),\n",
      " (13, 0.21089995526894145),\n",
      " (14, 0.0583816214440136),\n",
      " (15, 0.08020131993250293),\n",
      " (16, 0.07722514195693918),\n",
      " (17, 0.10110285314299568),\n",
      " (18, 0.09950203910411679),\n",
      " (19, 0.13850363445700775),\n",
      " (20, 0.21592421335563822),\n",
      " (21, 0.0783459151757125),\n",
      " (22, 0.10466816420345644),\n",
      " (23, 0.11230923116929416),\n",
      " (24, 0.05911014169870544),\n",
      " (25, 0.14787024792357434),\n",
      " (26, 0.18331415365549042),\n",
      " (27, 0.07151855886757341),\n",
      " (28, 0.13850363445700775),\n",
      " (29, 0.10012952724950074),\n",
      " (30, 0.32522335933880175),\n",
      " (31, 0.17905361221768115),\n",
      " (32, 0.06021661689214033),\n",
      " (33, 0.06106608186610225),\n",
      " (34, 0.06430289849639906),\n",
      " (35, 0.5231080895926992),\n",
      " (36, 0.1316443809221843),\n",
      " (37, 0.06272874593548868),\n",
      " (38, 0.21772391172346142),\n",
      " (39, 0.2545945128614185)]\n"
     ]
    }
   ],
   "source": [
    "from pprint import pprint\n",
    "for doc in corpus_tfidf:\n",
    "    pprint(doc)\n",
    "    break"
   ]
  },
  {
   "cell_type": "code",
   "execution_count": 15,
   "id": "6b65668d",
   "metadata": {},
   "outputs": [],
   "source": [
    "from gensim.models import CoherenceModel"
   ]
  },
  {
   "cell_type": "markdown",
   "id": "fc3c9e0d",
   "metadata": {},
   "source": [
    "# LDA Tuning: Finding the optimal number of topics\n",
    "Finding the optimal number of topics in a topic model is tough, given that it is like a model hyperparameter that you always have to set before training the model. We can use an iterative approach and build several models with differing numbers of topics and select the one that has the highest coherence score.\n"
   ]
  },
  {
   "cell_type": "code",
   "execution_count": 16,
   "id": "bc16f8ca",
   "metadata": {},
   "outputs": [],
   "source": [
    "def topic_model_coherence_generator(corpus, texts, dictionary, \n",
    "                                    start_topic_count=2, end_topic_count=10, step=1):\n",
    "    models = []\n",
    "    coherence_scores = []\n",
    "    \n",
    "    for topic_nums in range(start_topic_count, end_topic_count+1, step):\n",
    "        \n",
    "        lda_model = gensim.models.LdaMulticore(corpus_tfidf, \n",
    "                                             num_topics=topic_nums, \n",
    "                                             id2word = dictionary, \n",
    "                                             passes = 2, \n",
    "                                             workers=4)\n",
    "        \n",
    "        cv_coherence_model_lda = gensim.models.CoherenceModel(model=lda_model, corpus=corpus, \n",
    "                                                                     texts=texts, dictionary=dictionary, \n",
    "                                                                     coherence='c_v')\n",
    "        coherence_score = cv_coherence_model_lda.get_coherence()\n",
    "        \n",
    "        coherence_scores.append(coherence_score)\n",
    "        \n",
    "        models.append(lda_model)\n",
    "    \n",
    "    return models, coherence_scores"
   ]
  },
  {
   "cell_type": "code",
   "execution_count": 17,
   "id": "42bd5158",
   "metadata": {},
   "outputs": [],
   "source": [
    "lda_models, coherence_scores = topic_model_coherence_generator(corpus=bow_corpus, texts=processed_docs,\n",
    "                                                               dictionary=dictionary, start_topic_count=2,\n",
    "                                                               end_topic_count=30, step=1)"
   ]
  },
  {
   "cell_type": "code",
   "execution_count": 18,
   "id": "51e25b64",
   "metadata": {},
   "outputs": [
    {
     "data": {
      "text/html": [
       "<div>\n",
       "<style scoped>\n",
       "    .dataframe tbody tr th:only-of-type {\n",
       "        vertical-align: middle;\n",
       "    }\n",
       "\n",
       "    .dataframe tbody tr th {\n",
       "        vertical-align: top;\n",
       "    }\n",
       "\n",
       "    .dataframe thead th {\n",
       "        text-align: right;\n",
       "    }\n",
       "</style>\n",
       "<table border=\"1\" class=\"dataframe\">\n",
       "  <thead>\n",
       "    <tr style=\"text-align: right;\">\n",
       "      <th></th>\n",
       "      <th>Number of Topics</th>\n",
       "      <th>Coherence Score</th>\n",
       "    </tr>\n",
       "  </thead>\n",
       "  <tbody>\n",
       "    <tr>\n",
       "      <th>0</th>\n",
       "      <td>2</td>\n",
       "      <td>0.2597</td>\n",
       "    </tr>\n",
       "    <tr>\n",
       "      <th>1</th>\n",
       "      <td>3</td>\n",
       "      <td>0.2776</td>\n",
       "    </tr>\n",
       "    <tr>\n",
       "      <th>2</th>\n",
       "      <td>4</td>\n",
       "      <td>0.2380</td>\n",
       "    </tr>\n",
       "    <tr>\n",
       "      <th>3</th>\n",
       "      <td>5</td>\n",
       "      <td>0.2400</td>\n",
       "    </tr>\n",
       "    <tr>\n",
       "      <th>4</th>\n",
       "      <td>6</td>\n",
       "      <td>0.2402</td>\n",
       "    </tr>\n",
       "  </tbody>\n",
       "</table>\n",
       "</div>"
      ],
      "text/plain": [
       "   Number of Topics  Coherence Score\n",
       "0                 2           0.2597\n",
       "1                 3           0.2776\n",
       "2                 4           0.2380\n",
       "3                 5           0.2400\n",
       "4                 6           0.2402"
      ]
     },
     "execution_count": 18,
     "metadata": {},
     "output_type": "execute_result"
    }
   ],
   "source": [
    "coherence_df = pd.DataFrame({'Number of Topics': range(2, 31, 1),\n",
    "                             'Coherence Score': np.round(coherence_scores, 4)})\n",
    "coherence_df=coherence_df.sort_values(by=['Number of Topics'], ascending=True)\n",
    "coherence_df.head()"
   ]
  },
  {
   "cell_type": "code",
   "execution_count": 28,
   "id": "3fd7900d",
   "metadata": {},
   "outputs": [
    {
     "name": "stdout",
     "output_type": "stream",
     "text": [
      "The optimal number of topics are 8 topics\n"
     ]
    }
   ],
   "source": [
    "num_of_topics=coherence_df['Number of Topics'].values[coherence_df['Coherence Score']==np.max(coherence_df['Coherence Score'])]\n",
    "print(\"The optimal number of topics are {} topics\".format(int(num_of_topics)))"
   ]
  },
  {
   "cell_type": "code",
   "execution_count": 46,
   "id": "74d44b33",
   "metadata": {},
   "outputs": [
    {
     "data": {
      "image/png": "[encoded data removed]",
      "text/plain": [
       "<Figure size 1080x504 with 1 Axes>"
      ]
     },
     "metadata": {
      "needs_background": "light"
     },
     "output_type": "display_data"
    }
   ],
   "source": [
    "import matplotlib.pyplot as plt\n",
    "%matplotlib inline\n",
    "x_ax = coherence_df['Number of Topics']\n",
    "y_ax = coherence_df['Coherence Score']\n",
    "plt.figure(figsize=(15, 7));\n",
    "plt.plot(x_ax, y_ax, c='b');\n",
    "xl = plt.xlabel('Number of Topics');\n",
    "yl = plt.ylabel('Coherence Score');\n",
    "plt.title(\"The number of topics vs Topic Coherence\");"
   ]
  },
  {
   "cell_type": "markdown",
   "id": "2c99e44d",
   "metadata": {},
   "source": [
    "# Final Model\n",
    "Let’s train the final model using the above selected parameters"
   ]
  },
  {
   "cell_type": "code",
   "execution_count": 30,
   "id": "d655c3e3",
   "metadata": {},
   "outputs": [],
   "source": [
    "lda_model = gensim.models.LdaMulticore(corpus_tfidf, \n",
    "                                             num_topics=8, \n",
    "                                             id2word = dictionary, \n",
    "                                             passes = 2, \n",
    "                                             workers=4)"
   ]
  },
  {
   "cell_type": "code",
   "execution_count": 31,
   "id": "930b470d",
   "metadata": {},
   "outputs": [
    {
     "name": "stdout",
     "output_type": "stream",
     "text": [
      "Topic: 0 Word: 0.003*\"intervent\" + 0.002*\"commun\" + 0.002*\"water\" + 0.002*\"stress\" + 0.002*\"children\" + 0.002*\"manag\" + 0.002*\"trial\" + 0.002*\"speci\" + 0.002*\"women\" + 0.002*\"physic\"\n",
      "\n",
      "\n",
      "Topic: 1 Word: 0.004*\"cell\" + 0.003*\"cancer\" + 0.003*\"protein\" + 0.003*\"express\" + 0.003*\"imag\" + 0.003*\"infect\" + 0.002*\"tumor\" + 0.002*\"therapi\" + 0.002*\"pandem\" + 0.002*\"induc\"\n",
      "\n",
      "\n",
      "Topic: 2 Word: 0.004*\"express\" + 0.004*\"cell\" + 0.003*\"protein\" + 0.003*\"gene\" + 0.003*\"cancer\" + 0.003*\"tumor\" + 0.002*\"immun\" + 0.002*\"speci\" + 0.002*\"metabol\" + 0.002*\"tissu\"\n",
      "\n",
      "\n",
      "Topic: 3 Word: 0.004*\"cancer\" + 0.004*\"speci\" + 0.003*\"protein\" + 0.003*\"tumor\" + 0.002*\"cell\" + 0.002*\"infect\" + 0.002*\"score\" + 0.002*\"therapi\" + 0.002*\"cognit\" + 0.002*\"surviv\"\n",
      "\n",
      "\n",
      "Topic: 4 Word: 0.003*\"speci\" + 0.003*\"women\" + 0.003*\"predict\" + 0.003*\"valid\" + 0.003*\"score\" + 0.003*\"cohort\" + 0.003*\"cancer\" + 0.002*\"hospit\" + 0.002*\"children\" + 0.002*\"medic\"\n",
      "\n",
      "\n",
      "Topic: 5 Word: 0.007*\"speci\" + 0.004*\"cancer\" + 0.003*\"cell\" + 0.003*\"express\" + 0.003*\"infect\" + 0.002*\"describ\" + 0.002*\"genu\" + 0.002*\"exposur\" + 0.002*\"region\" + 0.002*\"induc\"\n",
      "\n",
      "\n",
      "Topic: 6 Word: 0.004*\"vaccin\" + 0.003*\"children\" + 0.003*\"speci\" + 0.003*\"commun\" + 0.003*\"infect\" + 0.002*\"women\" + 0.002*\"medic\" + 0.002*\"case\" + 0.002*\"plant\" + 0.002*\"product\"\n",
      "\n",
      "\n",
      "Topic: 7 Word: 0.008*\"speci\" + 0.003*\"student\" + 0.003*\"describ\" + 0.003*\"genu\" + 0.002*\"pandem\" + 0.002*\"mental\" + 0.002*\"hospit\" + 0.002*\"social\" + 0.002*\"injuri\" + 0.002*\"infect\"\n",
      "\n",
      "\n"
     ]
    }
   ],
   "source": [
    "'''\n",
    "For each topic, we will explore the words occuring in that topic and its relative weight\n",
    "'''\n",
    "for idx, topic in lda_model.print_topics(-1):\n",
    "    print(\"Topic: {} Word: {}\".format(idx, topic))\n",
    "    print(\"\\n\")"
   ]
  },
  {
   "cell_type": "code",
   "execution_count": 43,
   "id": "79af0083",
   "metadata": {},
   "outputs": [
    {
     "name": "stdout",
     "output_type": "stream",
     "text": [
      "Topic #1:\n",
      "['intervent', 'commun', 'water', 'stress', 'children', 'manag', 'trial', 'speci', 'women', 'physic']\n",
      "\n",
      "Topic #2:\n",
      "['cell', 'cancer', 'protein', 'express', 'imag', 'infect', 'tumor', 'therapi', 'pandem', 'induc']\n",
      "\n",
      "Topic #3:\n",
      "['express', 'cell', 'protein', 'gene', 'cancer', 'tumor', 'immun', 'speci', 'metabol', 'tissu']\n",
      "\n",
      "Topic #4:\n",
      "['cancer', 'speci', 'protein', 'tumor', 'cell', 'infect', 'score', 'therapi', 'cognit', 'surviv']\n",
      "\n",
      "Topic #5:\n",
      "['speci', 'women', 'predict', 'valid', 'score', 'cohort', 'cancer', 'hospit', 'children', 'medic']\n",
      "\n",
      "Topic #6:\n",
      "['speci', 'cancer', 'cell', 'express', 'infect', 'describ', 'genu', 'exposur', 'region', 'induc']\n",
      "\n",
      "Topic #7:\n",
      "['vaccin', 'children', 'speci', 'commun', 'infect', 'women', 'medic', 'case', 'plant', 'product']\n",
      "\n",
      "Topic #8:\n",
      "['speci', 'student', 'describ', 'genu', 'pandem', 'mental', 'hospit', 'social', 'injuri', 'infect']\n",
      "\n"
     ]
    }
   ],
   "source": [
    "topics = [[(term, round(wt, 3)) \n",
    "               for term, wt in lda_model.show_topic(n, topn=10)] \n",
    "                   for n in range(0, lda_model.num_topics)]\n",
    "for idx, topic in enumerate(topics):\n",
    "    print('Topic #'+str(idx+1)+':')\n",
    "    print([term for term, wt in topic])\n",
    "    print()"
   ]
  },
  {
   "cell_type": "code",
   "execution_count": 51,
   "id": "27287af1",
   "metadata": {},
   "outputs": [
    {
     "name": "stderr",
     "output_type": "stream",
     "text": [
      "<ipython-input-51-8fa5e6084872>:1: FutureWarning: Passing a negative integer is deprecated in version 1.0 and will not be supported in future version. Instead, use None to not limit the column width.\n",
      "  pd.set_option('display.max_colwidth', -1)\n"
     ]
    },
    {
     "data": {
      "text/html": [
       "<div>\n",
       "<style scoped>\n",
       "    .dataframe tbody tr th:only-of-type {\n",
       "        vertical-align: middle;\n",
       "    }\n",
       "\n",
       "    .dataframe tbody tr th {\n",
       "        vertical-align: top;\n",
       "    }\n",
       "\n",
       "    .dataframe thead th {\n",
       "        text-align: right;\n",
       "    }\n",
       "</style>\n",
       "<table border=\"1\" class=\"dataframe\">\n",
       "  <thead>\n",
       "    <tr style=\"text-align: right;\">\n",
       "      <th></th>\n",
       "      <th>Terms per Topic</th>\n",
       "    </tr>\n",
       "  </thead>\n",
       "  <tbody>\n",
       "    <tr>\n",
       "      <th>Topic1</th>\n",
       "      <td>intervent, commun, water, stress, children, manag, trial, speci, women, physic</td>\n",
       "    </tr>\n",
       "    <tr>\n",
       "      <th>Topic2</th>\n",
       "      <td>cell, cancer, protein, express, imag, infect, tumor, therapi, pandem, induc</td>\n",
       "    </tr>\n",
       "    <tr>\n",
       "      <th>Topic3</th>\n",
       "      <td>express, cell, protein, gene, cancer, tumor, immun, speci, metabol, tissu</td>\n",
       "    </tr>\n",
       "    <tr>\n",
       "      <th>Topic4</th>\n",
       "      <td>cancer, speci, protein, tumor, cell, infect, score, therapi, cognit, surviv</td>\n",
       "    </tr>\n",
       "    <tr>\n",
       "      <th>Topic5</th>\n",
       "      <td>speci, women, predict, valid, score, cohort, cancer, hospit, children, medic</td>\n",
       "    </tr>\n",
       "    <tr>\n",
       "      <th>Topic6</th>\n",
       "      <td>speci, cancer, cell, express, infect, describ, genu, exposur, region, induc</td>\n",
       "    </tr>\n",
       "    <tr>\n",
       "      <th>Topic7</th>\n",
       "      <td>vaccin, children, speci, commun, infect, women, medic, case, plant, product</td>\n",
       "    </tr>\n",
       "    <tr>\n",
       "      <th>Topic8</th>\n",
       "      <td>speci, student, describ, genu, pandem, mental, hospit, social, injuri, infect</td>\n",
       "    </tr>\n",
       "  </tbody>\n",
       "</table>\n",
       "</div>"
      ],
      "text/plain": [
       "                                                                       Terms per Topic\n",
       "Topic1  intervent, commun, water, stress, children, manag, trial, speci, women, physic\n",
       "Topic2  cell, cancer, protein, express, imag, infect, tumor, therapi, pandem, induc   \n",
       "Topic3  express, cell, protein, gene, cancer, tumor, immun, speci, metabol, tissu     \n",
       "Topic4  cancer, speci, protein, tumor, cell, infect, score, therapi, cognit, surviv   \n",
       "Topic5  speci, women, predict, valid, score, cohort, cancer, hospit, children, medic  \n",
       "Topic6  speci, cancer, cell, express, infect, describ, genu, exposur, region, induc   \n",
       "Topic7  vaccin, children, speci, commun, infect, women, medic, case, plant, product   \n",
       "Topic8  speci, student, describ, genu, pandem, mental, hospit, social, injuri, infect "
      ]
     },
     "execution_count": 51,
     "metadata": {},
     "output_type": "execute_result"
    }
   ],
   "source": [
    "pd.set_option('display.max_colwidth', -1)\n",
    "topics_df = pd.DataFrame([', '.join([term for term, wt in topic])  \n",
    "                              for topic in topics],\n",
    "                         columns = ['Terms per Topic'],\n",
    "                         index=['Topic'+str(t) for t in range(1, lda_model.num_topics+1)]\n",
    "                         )\n",
    "topics_df"
   ]
  },
  {
   "cell_type": "code",
   "execution_count": 50,
   "id": "412788d9",
   "metadata": {},
   "outputs": [
    {
     "data": {
      "text/plain": [
       "[([(0.003987196, 'express'), (0.003864196, 'cell'), (0.003283936, 'protein')],\n",
       "  -1.01031856144754),\n",
       " ([(0.0039154612, 'cell'),\n",
       "   (0.0034342548, 'cancer'),\n",
       "   (0.0033415852, 'protein')],\n",
       "  -1.4933130140974107),\n",
       " ([(0.0071031307, 'speci'), (0.0040330733, 'cancer'), (0.002954567, 'cell')],\n",
       "  -2.84450723378802),\n",
       " ([(0.0039181635, 'cancer'),\n",
       "   (0.003827193, 'speci'),\n",
       "   (0.0030782279, 'protein')],\n",
       "  -2.9206140092640767),\n",
       " ([(0.0025686638, 'intervent'),\n",
       "   (0.0024260844, 'commun'),\n",
       "   (0.002409402, 'water')],\n",
       "  -3.0464439283767533),\n",
       " ([(0.0032283827, 'speci'), (0.003092864, 'women'), (0.0028563526, 'predict')],\n",
       "  -3.1781013379788057),\n",
       " ([(0.0035089897, 'vaccin'),\n",
       "   (0.0033136192, 'children'),\n",
       "   (0.0028914541, 'speci')],\n",
       "  -3.7462230992609924),\n",
       " ([(0.00793406, 'speci'), (0.003043259, 'student'), (0.0029506555, 'describ')],\n",
       "  -9.74918661359917)]"
      ]
     },
     "execution_count": 50,
     "metadata": {},
     "output_type": "execute_result"
    }
   ],
   "source": [
    "topics_coherences"
   ]
  },
  {
   "cell_type": "code",
   "execution_count": null,
   "id": "3d611e91",
   "metadata": {},
   "outputs": [],
   "source": []
  }
 ],
 "metadata": {
  "kernelspec": {
   "display_name": "Python 3",
   "language": "python",
   "name": "python3"
  },
  "language_info": {
   "codemirror_mode": {
    "name": "ipython",
    "version": 3
   },
   "file_extension": ".py",
   "mimetype": "text/x-python",
   "name": "python",
   "nbconvert_exporter": "python",
   "pygments_lexer": "ipython3",
   "version": "3.8.8"
  }
 },
 "nbformat": 4,
 "nbformat_minor": 5
}
