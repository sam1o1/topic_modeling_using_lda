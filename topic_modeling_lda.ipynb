{
 "cells": [
  {
   "cell_type": "code",
   "execution_count": 1,
   "id": "ef96f987",
   "metadata": {},
   "outputs": [],
   "source": [
    "import pandas as pd"
   ]
  },
  {
   "cell_type": "markdown",
   "id": "4b4d327e",
   "metadata": {},
   "source": [
    "##  Load the dataset"
   ]
  },
  {
   "cell_type": "code",
   "execution_count": 2,
   "id": "dc7b0e64",
   "metadata": {},
   "outputs": [],
   "source": [
    "df=pd.read_excel('Pubmed5k.xlsx')"
   ]
  },
  {
   "cell_type": "code",
   "execution_count": 3,
   "id": "43000301",
   "metadata": {},
   "outputs": [
    {
     "data": {
      "text/html": [
       "<div>\n",
       "<style scoped>\n",
       "    .dataframe tbody tr th:only-of-type {\n",
       "        vertical-align: middle;\n",
       "    }\n",
       "\n",
       "    .dataframe tbody tr th {\n",
       "        vertical-align: top;\n",
       "    }\n",
       "\n",
       "    .dataframe thead th {\n",
       "        text-align: right;\n",
       "    }\n",
       "</style>\n",
       "<table border=\"1\" class=\"dataframe\">\n",
       "  <thead>\n",
       "    <tr style=\"text-align: right;\">\n",
       "      <th></th>\n",
       "      <th>ArticleID</th>\n",
       "      <th>Title</th>\n",
       "      <th>Abstract</th>\n",
       "    </tr>\n",
       "  </thead>\n",
       "  <tbody>\n",
       "    <tr>\n",
       "      <th>0</th>\n",
       "      <td>34153941</td>\n",
       "      <td>Stable Coordination Variability in Overground ...</td>\n",
       "      <td>Coordination variability (CV) is commonly anal...</td>\n",
       "    </tr>\n",
       "    <tr>\n",
       "      <th>1</th>\n",
       "      <td>34153942</td>\n",
       "      <td>Weak Hip Strength Increases Dynamic Knee Valgu...</td>\n",
       "      <td>Clinical Scenario: Dynamic knee valgus (DKV) i...</td>\n",
       "    </tr>\n",
       "    <tr>\n",
       "      <th>2</th>\n",
       "      <td>34153964</td>\n",
       "      <td>Current and Future Projections of Amyotrophic ...</td>\n",
       "      <td>Various methodologies have been reported to as...</td>\n",
       "    </tr>\n",
       "    <tr>\n",
       "      <th>3</th>\n",
       "      <td>34153968</td>\n",
       "      <td>Disparities between Asian and Non-Asian Thromb...</td>\n",
       "      <td>As outcomes for acute ischemic stroke (AIS) va...</td>\n",
       "    </tr>\n",
       "    <tr>\n",
       "      <th>4</th>\n",
       "      <td>34153978</td>\n",
       "      <td>Maternal Factors Predicting Loss to Follow-Up ...</td>\n",
       "      <td>Because hearing loss in children can result in...</td>\n",
       "    </tr>\n",
       "  </tbody>\n",
       "</table>\n",
       "</div>"
      ],
      "text/plain": [
       "   ArticleID                                              Title  \\\n",
       "0   34153941  Stable Coordination Variability in Overground ...   \n",
       "1   34153942  Weak Hip Strength Increases Dynamic Knee Valgu...   \n",
       "2   34153964  Current and Future Projections of Amyotrophic ...   \n",
       "3   34153968  Disparities between Asian and Non-Asian Thromb...   \n",
       "4   34153978  Maternal Factors Predicting Loss to Follow-Up ...   \n",
       "\n",
       "                                            Abstract  \n",
       "0  Coordination variability (CV) is commonly anal...  \n",
       "1  Clinical Scenario: Dynamic knee valgus (DKV) i...  \n",
       "2  Various methodologies have been reported to as...  \n",
       "3  As outcomes for acute ischemic stroke (AIS) va...  \n",
       "4  Because hearing loss in children can result in...  "
      ]
     },
     "execution_count": 3,
     "metadata": {},
     "output_type": "execute_result"
    }
   ],
   "source": [
    "df.head()"
   ]
  },
  {
   "cell_type": "code",
   "execution_count": 62,
   "id": "beb0ab0b",
   "metadata": {},
   "outputs": [
    {
     "data": {
      "text/plain": [
       "'Clinical Scenario: Dynamic knee valgus (DKV) is a mechanical alteration in the knee that leads to increased risk of injury. Weakness of hip musculature in hip abduction (HABD), extension (HEXT), and external rotation (HER) may contribute to increased DKV in single-leg landing tasks. Focused Clinical Question: Is decreased hip strength associated with an increase in DKV during a single-leg landing task in collegiate female athletes? Summary of Key Findings: Three studies were included: One randomized control trial (RCT), one cohort study, and one case-control. All three studies found that decreases in HABD and HER strength contributed to increased DKV during single-leg landing tasks. One study also found that the hip extensors contribute to controlling hip adduction, a common factor in many mechanisms of injuries. These three studies recommended strengthening HABD, HEXT, and HER to decrease DKV and reduce the risk of injury at the knee. Clinical Bottom Line: Weak HABD, HEXT, and HER contribute to increased DKV in college female athletes, but strengthening HABD, HEXT, and HER can lead to decreases in DKV and, overall, reduce the risk of injury at the knee. Strength of Recommendation: These articles were graded with a level of evidence of III or higher, giving a grade of B strength of recommendation that weak HABD, HEXT, and HER are associated with increased DKV in collegiate female athletes.'"
      ]
     },
     "execution_count": 62,
     "metadata": {},
     "output_type": "execute_result"
    }
   ],
   "source": [
    "df['Abstract'][1]"
   ]
  },
  {
   "cell_type": "markdown",
   "id": "abaa2beb",
   "metadata": {},
   "source": [
    "## explore the dataset"
   ]
  },
  {
   "cell_type": "code",
   "execution_count": 5,
   "id": "1a091707",
   "metadata": {},
   "outputs": [
    {
     "name": "stdout",
     "output_type": "stream",
     "text": [
      "the length of the dataset is #4999\n",
      "----------------------------------------------------------------------------------------------------\n",
      "<class 'pandas.core.frame.DataFrame'>\n",
      "RangeIndex: 4999 entries, 0 to 4998\n",
      "Data columns (total 3 columns):\n",
      " #   Column     Non-Null Count  Dtype \n",
      "---  ------     --------------  ----- \n",
      " 0   ArticleID  4999 non-null   int64 \n",
      " 1   Title      4999 non-null   object\n",
      " 2   Abstract   4999 non-null   object\n",
      "dtypes: int64(1), object(2)\n",
      "memory usage: 117.3+ KB\n"
     ]
    }
   ],
   "source": [
    "print(\"the length of the dataset is #{}\".format(len(df)))\n",
    "print(\"-\"*100)\n",
    "df.info()"
   ]
  },
  {
   "cell_type": "markdown",
   "id": "3d1ebd62",
   "metadata": {},
   "source": [
    "No null values"
   ]
  },
  {
   "cell_type": "markdown",
   "id": "ac5bed68",
   "metadata": {},
   "source": [
    "## Data Preprocessing ##\n",
    "\n",
    "We will perform the following steps:\n",
    "\n",
    "* **Tokenization**: Split the text into sentences and the sentences into words. Lowercase the words and remove punctuation.\n",
    "* Words that have fewer than 3 characters are removed.\n",
    "* All **stopwords** are removed.\n",
    "* Words are **lemmatized** - words in third person are changed to first person and verbs in past and future tenses are changed into present.\n",
    "* Words are **stemmed** - words are reduced to their root form.\n"
   ]
  },
  {
   "cell_type": "code",
   "execution_count": 6,
   "id": "9f73feb4",
   "metadata": {},
   "outputs": [
    {
     "name": "stdout",
     "output_type": "stream",
     "text": [
      "All Done!\n"
     ]
    },
    {
     "name": "stderr",
     "output_type": "stream",
     "text": [
      "[nltk_data] Downloading package wordnet to\n",
      "[nltk_data]     C:\\Users\\Eslam\\AppData\\Roaming\\nltk_data...\n",
      "[nltk_data]   Package wordnet is already up-to-date!\n"
     ]
    }
   ],
   "source": [
    "'''\n",
    "Loading Gensim and nltk libraries\n",
    "'''\n",
    "import gensim\n",
    "from gensim.utils import simple_preprocess\n",
    "from gensim.parsing.preprocessing import STOPWORDS\n",
    "from nltk.stem import WordNetLemmatizer, SnowballStemmer\n",
    "from nltk.stem.porter import PorterStemmer\n",
    "import numpy as np\n",
    "import nltk\n",
    "nltk.download('wordnet')\n",
    "print(\"All Done!\")"
   ]
  },
  {
   "cell_type": "code",
   "execution_count": 7,
   "id": "ed7a5d1e",
   "metadata": {},
   "outputs": [],
   "source": [
    "'''\n",
    "a function to perform the pre processing steps on the entire dataset\n",
    "'''\n",
    "def lemmatize_stemming(text):\n",
    "    return PorterStemmer().stem(WordNetLemmatizer().lemmatize(text, pos='v'))\n",
    "# Tokenize and lemmatize\n",
    "def preprocess(text):\n",
    "    result=[]\n",
    "    for token in gensim.utils.simple_preprocess(text) :\n",
    "        if token not in gensim.parsing.preprocessing.STOPWORDS and len(token) > 3:\n",
    "            # Apply lemmatize_stemming on the token, then add to the results list\n",
    "            result.append(lemmatize_stemming(token))\n",
    "    return result"
   ]
  },
  {
   "cell_type": "code",
   "execution_count": 8,
   "id": "edb0b79e",
   "metadata": {},
   "outputs": [],
   "source": [
    "# preprocess all the abstracts, saving the list of results as 'processed_docs'\n",
    "processed_docs = df['Abstract'].map(preprocess)"
   ]
  },
  {
   "cell_type": "code",
   "execution_count": 9,
   "id": "688f8ef0",
   "metadata": {},
   "outputs": [],
   "source": [
    "# Compute bigrams.\n",
    "from gensim.models import Phrases\n",
    "\n",
    "# Add bigrams and trigrams to docs (only ones that appear 20 times or more).\n",
    "bigram = Phrases(processed_docs, min_count=20)\n",
    "for idx in range(len(processed_docs)):\n",
    "    for token in bigram[processed_docs[idx]]:\n",
    "        if '_' in token:\n",
    "            # Token is a bigram, add to document.\n",
    "            processed_docs[idx].append(token)"
   ]
  },
  {
   "cell_type": "code",
   "execution_count": 10,
   "id": "d42afba5",
   "metadata": {},
   "outputs": [
    {
     "data": {
      "text/plain": [
       "0    [coordin, variabl, commonli, analyz, understan...\n",
       "1    [clinic, scenario, dynam, knee, valgu, mechan,...\n",
       "2    [methodolog, report, assess, real, world, epid...\n",
       "3    [outcom, acut, ischem, stroke, vari, accord, c...\n",
       "4    [hear, loss, children, result, development, de...\n",
       "5    [despit, grow, number, immigr, popul, exist, p...\n",
       "6    [histor, treatment, lupu, nephriti, anti, neut...\n",
       "7    [progress, chronic, kidney, diseas, individu, ...\n",
       "8    [immunoglobulin, nephropathi, igan, common, pr...\n",
       "9    [kidney, transplant, precis, medicin, enter, c...\n",
       "Name: Abstract, dtype: object"
      ]
     },
     "execution_count": 10,
     "metadata": {},
     "output_type": "execute_result"
    }
   ],
   "source": [
    "processed_docs[:10]"
   ]
  },
  {
   "cell_type": "markdown",
   "id": "22211116",
   "metadata": {},
   "source": [
    "## Step 3.1: Bag of words on the dataset\n",
    "\n",
    "Now let's create a dictionary from 'processed_docs' containing the number of times a word appears in the training set. To do that, let's pass `processed_docs` to [`gensim.corpora.Dictionary()`](https://radimrehurek.com/gensim/corpora/dictionary.html) and call it '`dictionary`'."
   ]
  },
  {
   "cell_type": "code",
   "execution_count": 11,
   "id": "4b69954f",
   "metadata": {},
   "outputs": [
    {
     "name": "stdout",
     "output_type": "stream",
     "text": [
      "0 achiev\n",
      "1 analyz\n",
      "2 approach\n",
      "3 averag\n",
      "4 awar\n",
      "5 calcul\n",
      "6 captur\n",
      "7 cod\n",
      "8 commonli\n",
      "9 compar\n",
      "10 consequ\n"
     ]
    }
   ],
   "source": [
    "'''\n",
    "Create a dictionary from 'processed_docs' containing the number of times a word appears \n",
    "in the training set using gensim.corpora.Dictionary'\n",
    "'''\n",
    "dictionary = gensim.corpora.Dictionary(processed_docs)\n",
    "'''\n",
    "Checking dictionary created\n",
    "'''\n",
    "count = 0\n",
    "for k, v in dictionary.iteritems():\n",
    "    print(k, v)\n",
    "    count += 1\n",
    "    if count > 10:\n",
    "        break"
   ]
  },
  {
   "cell_type": "markdown",
   "id": "264f6e1d",
   "metadata": {},
   "source": [
    "** Gensim filter_extremes **\n",
    "\n",
    "[`filter_extremes(no_below=5, no_above=0.5, keep_n=100000)`](https://radimrehurek.com/gensim/corpora/dictionary.html#gensim.corpora.dictionary.Dictionary.filter_extremes)\n",
    "\n",
    "Filter out tokens that appear in\n",
    "\n",
    "* less than no_below documents (absolute number) or\n",
    "* more than no_above documents (fraction of total corpus size, not absolute number).\n",
    "* after (1) and (2), keep only the first keep_n most frequent tokens (or keep all if None)."
   ]
  },
  {
   "cell_type": "code",
   "execution_count": 12,
   "id": "3a69edce",
   "metadata": {},
   "outputs": [],
   "source": [
    "'''\n",
    "Remove very rare and very common words:\n",
    "- words appearing less than 20 times\n",
    "- words appearing in more than 50% of all documents\n",
    "'''\n",
    "# Filter out words that occur less than 20 documents, or more than 50% of the documents.\n",
    "dictionary.filter_extremes(no_below=20, no_above=0.6)"
   ]
  },
  {
   "cell_type": "code",
   "execution_count": 13,
   "id": "cd46420d",
   "metadata": {},
   "outputs": [],
   "source": [
    "'''\n",
    "Create the Bag-of-words model for each document i.e for each document we create a dictionary reporting how many\n",
    "words and how many times those words appear. Save this to 'bow_corpus'\n",
    "'''\n",
    "bow_corpus =[dictionary.doc2bow(doc) for doc in processed_docs]"
   ]
  },
  {
   "cell_type": "markdown",
   "id": "596c875e",
   "metadata": {},
   "source": [
    "# TF-IDF \"Term Frequency, Inverse Document Frequency"
   ]
  },
  {
   "cell_type": "code",
   "execution_count": 15,
   "id": "8fb44dca",
   "metadata": {},
   "outputs": [],
   "source": [
    "'''\n",
    "Create tf-idf model object using models.TfidfModel on 'bow_corpus' and save it to 'tfidf'\n",
    "'''\n",
    "from gensim import corpora, models\n",
    "tfidf = models.TfidfModel(bow_corpus)"
   ]
  },
  {
   "cell_type": "code",
   "execution_count": 16,
   "id": "ac08ba6b",
   "metadata": {},
   "outputs": [],
   "source": [
    "'''\n",
    "Apply transformation to the entire corpus and call it 'corpus_tfidf'\n",
    "'''\n",
    "corpus_tfidf = tfidf[bow_corpus]"
   ]
  },
  {
   "cell_type": "code",
   "execution_count": 17,
   "id": "f5f22c89",
   "metadata": {},
   "outputs": [
    {
     "name": "stdout",
     "output_type": "stream",
     "text": [
      "[(0, 0.05968680511283696),\n",
      " (1, 0.04647391767628489),\n",
      " (2, 0.04595837143765072),\n",
      " (3, 0.06567840682134847),\n",
      " (4, 0.08321528832514427),\n",
      " (5, 0.13246156338497458),\n",
      " (6, 0.09017806344652157),\n",
      " (7, 0.17355320973922284),\n",
      " (8, 0.07686488182520558),\n",
      " (9, 0.03132006862224852),\n",
      " (10, 0.07296289077080886),\n",
      " (11, 0.09354598288393255),\n",
      " (12, 0.1730718317785178),\n",
      " (13, 0.04162240798458448),\n",
      " (14, 0.028997032983833226),\n",
      " (15, 0.05371057622008804),\n",
      " (16, 0.09104562121364707),\n",
      " (17, 0.06418614242039895),\n",
      " (18, 0.0967564238158096),\n",
      " (19, 0.0439781512952881),\n",
      " (20, 0.19054043607892648),\n",
      " (21, 0.052745670783816236),\n",
      " (22, 0.07245897446757343),\n",
      " (23, 0.06977010595364098),\n",
      " (24, 0.04797876598052303),\n",
      " (25, 0.0470021055295063),\n",
      " (26, 0.0876915836055432),\n",
      " (27, 0.09134274922971987),\n",
      " (28, 0.08989647199054128),\n",
      " (29, 0.20590701962690977),\n",
      " (30, 0.09725579604808793),\n",
      " (31, 0.15183333025853496),\n",
      " (32, 0.19507967045473032),\n",
      " (33, 0.19428913672879858),\n",
      " (34, 0.07078268377793843),\n",
      " (35, 0.09456387805049615),\n",
      " (36, 0.18709660664062783),\n",
      " (37, 0.10146730403710852),\n",
      " (38, 0.053403862327025896),\n",
      " (39, 0.03382043029253401),\n",
      " (40, 0.13359538880189656),\n",
      " (41, 0.044618209879240645),\n",
      " (42, 0.16561766801901415),\n",
      " (43, 0.0646144157640352),\n",
      " (44, 0.08802212166560525),\n",
      " (45, 0.049553649211449224),\n",
      " (46, 0.14576024738912458),\n",
      " (47, 0.08003503258035859),\n",
      " (48, 0.09046338469900227),\n",
      " (49, 0.03488179962044167),\n",
      " (50, 0.0774848221528035),\n",
      " (51, 0.29382747204685894),\n",
      " (52, 0.16176842384796966),\n",
      " (53, 0.054403522405657725),\n",
      " (54, 0.05517098310220494),\n",
      " (55, 0.022200745264486597),\n",
      " (56, 0.05809532915746037),\n",
      " (57, 0.4726091258782054),\n",
      " (58, 0.11893590833751724),\n",
      " (59, 0.04570515260679491),\n",
      " (60, 0.05667313959355962),\n",
      " (61, 0.19670563244878705),\n",
      " (62, 0.21136784805809852)]\n"
     ]
    }
   ],
   "source": [
    "from pprint import pprint\n",
    "for doc in corpus_tfidf:\n",
    "    pprint(doc)\n",
    "    break"
   ]
  },
  {
   "cell_type": "code",
   "execution_count": null,
   "id": "6b65668d",
   "metadata": {},
   "outputs": [],
   "source": [
    "from gensim.models import CoherenceModel"
   ]
  },
  {
   "cell_type": "markdown",
   "id": "fc3c9e0d",
   "metadata": {},
   "source": [
    "# LDA Tuning: Finding the optimal number of topics\n",
    "Finding the optimal number of topics in a topic model is tough, given that it is like a model hyperparameter that you always have to set before training the model. We can use an iterative approach and build several models with differing numbers of topics and select the one that has the highest coherence score.\n"
   ]
  },
  {
   "cell_type": "code",
   "execution_count": 20,
   "id": "bc16f8ca",
   "metadata": {},
   "outputs": [],
   "source": [
    "def topic_model_coherence_generator(corpus, texts, dictionary, \n",
    "                                    start_topic_count=2, end_topic_count=10, step=1):\n",
    "    models = []\n",
    "    coherence_scores = []\n",
    "    \n",
    "    for topic_nums in range(start_topic_count, end_topic_count+1, step):\n",
    "        \n",
    "        lda_model = gensim.models.LdaModel(corpus, \n",
    "                                             num_topics=topic_nums, \n",
    "                                             id2word = dictionary,  \n",
    "                                             alpha='auto',\n",
    "                                             eta='auto')\n",
    "                                             \n",
    "        cv_coherence_model_lda = gensim.models.CoherenceModel(model=lda_model, corpus=corpus, \n",
    "                                                                     texts=texts, dictionary=dictionary, \n",
    "                                                                     coherence='c_v')\n",
    "        coherence_score = cv_coherence_model_lda.get_coherence()\n",
    "        \n",
    "        coherence_scores.append(coherence_score)\n",
    "        \n",
    "        models.append(lda_model)\n",
    "    \n",
    "    return models, coherence_scores"
   ]
  },
  {
   "cell_type": "code",
   "execution_count": 21,
   "id": "42bd5158",
   "metadata": {},
   "outputs": [],
   "source": [
    "lda_models, coherence_scores = topic_model_coherence_generator(corpus=corpus_tfidf, texts=processed_docs,\n",
    "                                                               dictionary=dictionary, start_topic_count=2,\n",
    "                                                               end_topic_count=30, step=1)"
   ]
  },
  {
   "cell_type": "code",
   "execution_count": 22,
   "id": "51e25b64",
   "metadata": {},
   "outputs": [
    {
     "data": {
      "text/html": [
       "<div>\n",
       "<style scoped>\n",
       "    .dataframe tbody tr th:only-of-type {\n",
       "        vertical-align: middle;\n",
       "    }\n",
       "\n",
       "    .dataframe tbody tr th {\n",
       "        vertical-align: top;\n",
       "    }\n",
       "\n",
       "    .dataframe thead th {\n",
       "        text-align: right;\n",
       "    }\n",
       "</style>\n",
       "<table border=\"1\" class=\"dataframe\">\n",
       "  <thead>\n",
       "    <tr style=\"text-align: right;\">\n",
       "      <th></th>\n",
       "      <th>Number of Topics</th>\n",
       "      <th>Coherence Score</th>\n",
       "    </tr>\n",
       "  </thead>\n",
       "  <tbody>\n",
       "    <tr>\n",
       "      <th>0</th>\n",
       "      <td>2</td>\n",
       "      <td>0.2501</td>\n",
       "    </tr>\n",
       "    <tr>\n",
       "      <th>1</th>\n",
       "      <td>3</td>\n",
       "      <td>0.3551</td>\n",
       "    </tr>\n",
       "    <tr>\n",
       "      <th>2</th>\n",
       "      <td>4</td>\n",
       "      <td>0.4156</td>\n",
       "    </tr>\n",
       "    <tr>\n",
       "      <th>3</th>\n",
       "      <td>5</td>\n",
       "      <td>0.4035</td>\n",
       "    </tr>\n",
       "    <tr>\n",
       "      <th>4</th>\n",
       "      <td>6</td>\n",
       "      <td>0.3287</td>\n",
       "    </tr>\n",
       "  </tbody>\n",
       "</table>\n",
       "</div>"
      ],
      "text/plain": [
       "   Number of Topics  Coherence Score\n",
       "0                 2           0.2501\n",
       "1                 3           0.3551\n",
       "2                 4           0.4156\n",
       "3                 5           0.4035\n",
       "4                 6           0.3287"
      ]
     },
     "execution_count": 22,
     "metadata": {},
     "output_type": "execute_result"
    }
   ],
   "source": [
    "coherence_df = pd.DataFrame({'Number of Topics': range(2, 31, 1),\n",
    "                             'Coherence Score': np.round(coherence_scores, 4)})\n",
    "coherence_df=coherence_df.sort_values(by=['Number of Topics'], ascending=True)\n",
    "coherence_df.head()"
   ]
  },
  {
   "cell_type": "code",
   "execution_count": 23,
   "id": "74d44b33",
   "metadata": {},
   "outputs": [
    {
     "data": {
      "image/png": "[encoded data removed]",
      "text/plain": [
       "<Figure size 1080x504 with 1 Axes>"
      ]
     },
     "metadata": {
      "needs_background": "light"
     },
     "output_type": "display_data"
    }
   ],
   "source": [
    "import matplotlib.pyplot as plt\n",
    "%matplotlib inline\n",
    "x_ax = coherence_df['Number of Topics']\n",
    "y_ax = coherence_df['Coherence Score']\n",
    "plt.figure(figsize=(15, 7));\n",
    "plt.plot(x_ax, y_ax, c='b');\n",
    "xl = plt.xlabel('Number of Topics');\n",
    "yl = plt.ylabel('Coherence Score');\n",
    "plt.title(\"The number of topics vs Topic Coherence\");"
   ]
  },
  {
   "cell_type": "markdown",
   "id": "2c99e44d",
   "metadata": {},
   "source": [
    "# Final Model\n",
    "Let’s train the final model using the above selected parameters"
   ]
  },
  {
   "cell_type": "code",
   "execution_count": 24,
   "id": "3fd7900d",
   "metadata": {},
   "outputs": [
    {
     "name": "stdout",
     "output_type": "stream",
     "text": [
      "The optimal number of topics are 23 topics\n"
     ]
    }
   ],
   "source": [
    "num_of_topics=coherence_df['Number of Topics'].values[coherence_df['Coherence Score']==np.max(coherence_df['Coherence Score'])]\n",
    "print(\"The optimal number of topics are {} topics\".format(int(num_of_topics)))"
   ]
  },
  {
   "cell_type": "code",
   "execution_count": 70,
   "id": "d655c3e3",
   "metadata": {},
   "outputs": [],
   "source": [
    "lda_model =gensim.models.LdaModel(corpus_tfidf, \n",
    "                                             num_topics=23, \n",
    "                                             id2word = dictionary,  \n",
    "                                             alpha='auto',\n",
    "                                             eta='auto')"
   ]
  },
  {
   "cell_type": "code",
   "execution_count": 71,
   "id": "357c49b1",
   "metadata": {},
   "outputs": [
    {
     "data": {
      "text/plain": [
       "[(0,\n",
       "  '0.009*\"speci\" + 0.005*\"water\" + 0.005*\"wastewat\" + 0.004*\"transfer\" + 0.004*\"food\" + 0.004*\"devic\" + 0.004*\"fluoresc\" + 0.004*\"microbi\" + 0.004*\"field\" + 0.004*\"marin\"'),\n",
       " (1,\n",
       "  '0.012*\"genu\" + 0.006*\"systemat_review\" + 0.005*\"cluster\" + 0.005*\"review\" + 0.005*\"plate\" + 0.005*\"search\" + 0.005*\"systemat\" + 0.005*\"cancer\" + 0.004*\"youth\" + 0.004*\"health_worker\"'),\n",
       " (2,\n",
       "  '0.012*\"headach\" + 0.007*\"ventricular\" + 0.007*\"bird\" + 0.007*\"patient\" + 0.006*\"citat\" + 0.006*\"intracrani\" + 0.006*\"index\" + 0.006*\"infarct\" + 0.005*\"imag\" + 0.005*\"lymphoma\"'),\n",
       " (3,\n",
       "  '0.008*\"sodium\" + 0.007*\"enzym\" + 0.006*\"workflow\" + 0.006*\"motion\" + 0.006*\"antioxid\" + 0.006*\"copd\" + 0.005*\"fall\" + 0.005*\"muscl\" + 0.005*\"toxic\" + 0.004*\"bond\"'),\n",
       " (4,\n",
       "  '0.008*\"patient\" + 0.006*\"care\" + 0.006*\"health\" + 0.005*\"digit\" + 0.004*\"research\" + 0.004*\"profession\" + 0.004*\"particip\" + 0.004*\"month\" + 0.004*\"commun\" + 0.004*\"team\"'),\n",
       " (5,\n",
       "  '0.009*\"cervic\" + 0.008*\"cost\" + 0.008*\"maxillari\" + 0.007*\"care\" + 0.006*\"dental\" + 0.006*\"alcohol\" + 0.005*\"incom\" + 0.005*\"transport\" + 0.005*\"caregiv\" + 0.005*\"cost_effect\"'),\n",
       " (6,\n",
       "  '0.012*\"potassium\" + 0.010*\"stigma\" + 0.007*\"speci\" + 0.006*\"illustr\" + 0.006*\"pneumonia\" + 0.005*\"rescu\" + 0.005*\"mammal\" + 0.004*\"season\" + 0.004*\"gene\" + 0.003*\"calcium\"'),\n",
       " (7,\n",
       "  '0.007*\"student\" + 0.005*\"nurs\" + 0.004*\"health\" + 0.004*\"social\" + 0.003*\"compet\" + 0.003*\"print\" + 0.003*\"particl\" + 0.003*\"adolesc\" + 0.003*\"dental\" + 0.003*\"physic\"'),\n",
       " (8,\n",
       "  '0.010*\"trait\" + 0.009*\"speci\" + 0.005*\"motiv\" + 0.005*\"charact\" + 0.005*\"japanes\" + 0.004*\"spine\" + 0.004*\"carcinoma\" + 0.004*\"person\" + 0.004*\"genet\" + 0.004*\"famili\"'),\n",
       " (9,\n",
       "  '0.006*\"sar\" + 0.006*\"gene\" + 0.006*\"cell\" + 0.006*\"covid\" + 0.005*\"infect\" + 0.005*\"protein\" + 0.005*\"patient\" + 0.004*\"express\" + 0.004*\"viru\" + 0.003*\"diseas\"'),\n",
       " (10,\n",
       "  '0.014*\"caregiv\" + 0.008*\"adolesc\" + 0.007*\"lineag\" + 0.007*\"parent\" + 0.006*\"calcium\" + 0.006*\"obes\" + 0.006*\"chest\" + 0.005*\"north\" + 0.005*\"fractur\" + 0.005*\"gradient\"'),\n",
       " (11,\n",
       "  '0.009*\"speci\" + 0.007*\"women\" + 0.006*\"smoke\" + 0.006*\"ion\" + 0.006*\"synonym\" + 0.005*\"china\" + 0.005*\"smoker\" + 0.005*\"children\" + 0.005*\"water\" + 0.005*\"pregnant\"'),\n",
       " (12,\n",
       "  '0.008*\"patient\" + 0.007*\"covid\" + 0.006*\"mental\" + 0.006*\"health\" + 0.005*\"mental_health\" + 0.005*\"symptom\" + 0.005*\"depress\" + 0.004*\"pandem\" + 0.004*\"group\" + 0.004*\"risk\"'),\n",
       " (13,\n",
       "  '0.004*\"activ\" + 0.004*\"effect\" + 0.003*\"soil\" + 0.003*\"brain\" + 0.003*\"cognit\" + 0.003*\"function\" + 0.003*\"method\" + 0.003*\"model\" + 0.003*\"depress\" + 0.003*\"pollut\"'),\n",
       " (14,\n",
       "  '0.006*\"emot\" + 0.005*\"fractur\" + 0.005*\"patient\" + 0.005*\"implant\" + 0.004*\"nois\" + 0.003*\"model\" + 0.003*\"cognit\" + 0.003*\"risk\" + 0.003*\"diabet\" + 0.003*\"injuri\"'),\n",
       " (15,\n",
       "  '0.008*\"periodont\" + 0.008*\"gene\" + 0.006*\"resist\" + 0.005*\"stress\" + 0.005*\"cell\" + 0.005*\"express\" + 0.005*\"speci\" + 0.005*\"china\" + 0.004*\"socioeconom\" + 0.004*\"outbreak\"'),\n",
       " (16,\n",
       "  '0.029*\"exercis\" + 0.007*\"breast\" + 0.007*\"breast_cancer\" + 0.007*\"lipid\" + 0.007*\"vitamin\" + 0.006*\"aquat\" + 0.006*\"cancer\" + 0.005*\"fresh\" + 0.004*\"group\" + 0.004*\"loop\"'),\n",
       " (17,\n",
       "  '0.009*\"gastric\" + 0.009*\"asthma\" + 0.007*\"stressor\" + 0.007*\"copi\" + 0.006*\"figur\" + 0.005*\"dimer\" + 0.005*\"stem\" + 0.005*\"high_risk\" + 0.005*\"risk\" + 0.005*\"mimic\"'),\n",
       " (18,\n",
       "  '0.009*\"cell\" + 0.007*\"tumor\" + 0.004*\"protein\" + 0.004*\"river\" + 0.004*\"speci\" + 0.004*\"respons\" + 0.004*\"hygien\" + 0.003*\"infecti\" + 0.003*\"express\" + 0.003*\"text\"'),\n",
       " (19,\n",
       "  '0.009*\"implant\" + 0.009*\"bone\" + 0.008*\"fish\" + 0.006*\"tissu\" + 0.006*\"vertebr\" + 0.006*\"soft\" + 0.006*\"chromatographi\" + 0.006*\"wind\" + 0.005*\"miner\" + 0.005*\"soft_tissu\"'),\n",
       " (20,\n",
       "  '0.014*\"glucos\" + 0.008*\"motor\" + 0.008*\"airway\" + 0.006*\"postpartum\" + 0.006*\"muscl\" + 0.005*\"fatti_acid\" + 0.005*\"strain\" + 0.005*\"genom\" + 0.005*\"gene\" + 0.005*\"cystic\"'),\n",
       " (21,\n",
       "  '0.006*\"root\" + 0.005*\"algorithm\" + 0.005*\"gray\" + 0.005*\"speci\" + 0.005*\"sediment\" + 0.005*\"cell\" + 0.004*\"user\" + 0.003*\"mucos\" + 0.003*\"valid\" + 0.003*\"color\"'),\n",
       " (22,\n",
       "  '0.021*\"fatigu\" + 0.008*\"speci_genu\" + 0.008*\"speci\" + 0.006*\"iron\" + 0.005*\"genu\" + 0.004*\"older_adult\" + 0.004*\"cell\" + 0.004*\"abstract\" + 0.004*\"board\" + 0.004*\"tumor\"')]"
      ]
     },
     "execution_count": 71,
     "metadata": {},
     "output_type": "execute_result"
    }
   ],
   "source": [
    "lda_model.show_topics(num_topics=23, num_words=10, log=False, formatted=True)"
   ]
  },
  {
   "cell_type": "code",
   "execution_count": 72,
   "id": "930b470d",
   "metadata": {},
   "outputs": [
    {
     "name": "stdout",
     "output_type": "stream",
     "text": [
      "Topic: 0 Word: 0.009*\"speci\" + 0.005*\"water\" + 0.005*\"wastewat\" + 0.004*\"transfer\" + 0.004*\"food\" + 0.004*\"devic\" + 0.004*\"fluoresc\" + 0.004*\"microbi\" + 0.004*\"field\" + 0.004*\"marin\"\n",
      "\n",
      "\n",
      "Topic: 1 Word: 0.012*\"genu\" + 0.006*\"systemat_review\" + 0.005*\"cluster\" + 0.005*\"review\" + 0.005*\"plate\" + 0.005*\"search\" + 0.005*\"systemat\" + 0.005*\"cancer\" + 0.004*\"youth\" + 0.004*\"health_worker\"\n",
      "\n",
      "\n",
      "Topic: 2 Word: 0.012*\"headach\" + 0.007*\"ventricular\" + 0.007*\"bird\" + 0.007*\"patient\" + 0.006*\"citat\" + 0.006*\"intracrani\" + 0.006*\"index\" + 0.006*\"infarct\" + 0.005*\"imag\" + 0.005*\"lymphoma\"\n",
      "\n",
      "\n",
      "Topic: 3 Word: 0.008*\"sodium\" + 0.007*\"enzym\" + 0.006*\"workflow\" + 0.006*\"motion\" + 0.006*\"antioxid\" + 0.006*\"copd\" + 0.005*\"fall\" + 0.005*\"muscl\" + 0.005*\"toxic\" + 0.004*\"bond\"\n",
      "\n",
      "\n",
      "Topic: 4 Word: 0.008*\"patient\" + 0.006*\"care\" + 0.006*\"health\" + 0.005*\"digit\" + 0.004*\"research\" + 0.004*\"profession\" + 0.004*\"particip\" + 0.004*\"month\" + 0.004*\"commun\" + 0.004*\"team\"\n",
      "\n",
      "\n",
      "Topic: 5 Word: 0.009*\"cervic\" + 0.008*\"cost\" + 0.008*\"maxillari\" + 0.007*\"care\" + 0.006*\"dental\" + 0.006*\"alcohol\" + 0.005*\"incom\" + 0.005*\"transport\" + 0.005*\"caregiv\" + 0.005*\"cost_effect\"\n",
      "\n",
      "\n",
      "Topic: 6 Word: 0.012*\"potassium\" + 0.010*\"stigma\" + 0.007*\"speci\" + 0.006*\"illustr\" + 0.006*\"pneumonia\" + 0.005*\"rescu\" + 0.005*\"mammal\" + 0.004*\"season\" + 0.004*\"gene\" + 0.003*\"calcium\"\n",
      "\n",
      "\n",
      "Topic: 7 Word: 0.007*\"student\" + 0.005*\"nurs\" + 0.004*\"health\" + 0.004*\"social\" + 0.003*\"compet\" + 0.003*\"print\" + 0.003*\"particl\" + 0.003*\"adolesc\" + 0.003*\"dental\" + 0.003*\"physic\"\n",
      "\n",
      "\n",
      "Topic: 8 Word: 0.010*\"trait\" + 0.009*\"speci\" + 0.005*\"motiv\" + 0.005*\"charact\" + 0.005*\"japanes\" + 0.004*\"spine\" + 0.004*\"carcinoma\" + 0.004*\"person\" + 0.004*\"genet\" + 0.004*\"famili\"\n",
      "\n",
      "\n",
      "Topic: 9 Word: 0.006*\"sar\" + 0.006*\"gene\" + 0.006*\"cell\" + 0.006*\"covid\" + 0.005*\"infect\" + 0.005*\"protein\" + 0.005*\"patient\" + 0.004*\"express\" + 0.004*\"viru\" + 0.003*\"diseas\"\n",
      "\n",
      "\n",
      "Topic: 10 Word: 0.014*\"caregiv\" + 0.008*\"adolesc\" + 0.007*\"lineag\" + 0.007*\"parent\" + 0.006*\"calcium\" + 0.006*\"obes\" + 0.006*\"chest\" + 0.005*\"north\" + 0.005*\"fractur\" + 0.005*\"gradient\"\n",
      "\n",
      "\n",
      "Topic: 11 Word: 0.009*\"speci\" + 0.007*\"women\" + 0.006*\"smoke\" + 0.006*\"ion\" + 0.006*\"synonym\" + 0.005*\"china\" + 0.005*\"smoker\" + 0.005*\"children\" + 0.005*\"water\" + 0.005*\"pregnant\"\n",
      "\n",
      "\n",
      "Topic: 12 Word: 0.008*\"patient\" + 0.007*\"covid\" + 0.006*\"mental\" + 0.006*\"health\" + 0.005*\"mental_health\" + 0.005*\"symptom\" + 0.005*\"depress\" + 0.004*\"pandem\" + 0.004*\"group\" + 0.004*\"risk\"\n",
      "\n",
      "\n",
      "Topic: 13 Word: 0.004*\"activ\" + 0.004*\"effect\" + 0.003*\"soil\" + 0.003*\"brain\" + 0.003*\"cognit\" + 0.003*\"function\" + 0.003*\"method\" + 0.003*\"model\" + 0.003*\"depress\" + 0.003*\"pollut\"\n",
      "\n",
      "\n",
      "Topic: 14 Word: 0.006*\"emot\" + 0.005*\"fractur\" + 0.005*\"patient\" + 0.005*\"implant\" + 0.004*\"nois\" + 0.003*\"model\" + 0.003*\"cognit\" + 0.003*\"risk\" + 0.003*\"diabet\" + 0.003*\"injuri\"\n",
      "\n",
      "\n",
      "Topic: 15 Word: 0.008*\"periodont\" + 0.008*\"gene\" + 0.006*\"resist\" + 0.005*\"stress\" + 0.005*\"cell\" + 0.005*\"express\" + 0.005*\"speci\" + 0.005*\"china\" + 0.004*\"socioeconom\" + 0.004*\"outbreak\"\n",
      "\n",
      "\n",
      "Topic: 16 Word: 0.029*\"exercis\" + 0.007*\"breast\" + 0.007*\"breast_cancer\" + 0.007*\"lipid\" + 0.007*\"vitamin\" + 0.006*\"aquat\" + 0.006*\"cancer\" + 0.005*\"fresh\" + 0.004*\"group\" + 0.004*\"loop\"\n",
      "\n",
      "\n",
      "Topic: 17 Word: 0.009*\"gastric\" + 0.009*\"asthma\" + 0.007*\"stressor\" + 0.007*\"copi\" + 0.006*\"figur\" + 0.005*\"dimer\" + 0.005*\"stem\" + 0.005*\"high_risk\" + 0.005*\"risk\" + 0.005*\"mimic\"\n",
      "\n",
      "\n",
      "Topic: 18 Word: 0.009*\"cell\" + 0.007*\"tumor\" + 0.004*\"protein\" + 0.004*\"river\" + 0.004*\"speci\" + 0.004*\"respons\" + 0.004*\"hygien\" + 0.003*\"infecti\" + 0.003*\"express\" + 0.003*\"text\"\n",
      "\n",
      "\n",
      "Topic: 19 Word: 0.009*\"implant\" + 0.009*\"bone\" + 0.008*\"fish\" + 0.006*\"tissu\" + 0.006*\"vertebr\" + 0.006*\"soft\" + 0.006*\"chromatographi\" + 0.006*\"wind\" + 0.005*\"miner\" + 0.005*\"soft_tissu\"\n",
      "\n",
      "\n",
      "Topic: 20 Word: 0.014*\"glucos\" + 0.008*\"motor\" + 0.008*\"airway\" + 0.006*\"postpartum\" + 0.006*\"muscl\" + 0.005*\"fatti_acid\" + 0.005*\"strain\" + 0.005*\"genom\" + 0.005*\"gene\" + 0.005*\"cystic\"\n",
      "\n",
      "\n",
      "Topic: 21 Word: 0.006*\"root\" + 0.005*\"algorithm\" + 0.005*\"gray\" + 0.005*\"speci\" + 0.005*\"sediment\" + 0.005*\"cell\" + 0.004*\"user\" + 0.003*\"mucos\" + 0.003*\"valid\" + 0.003*\"color\"\n",
      "\n",
      "\n",
      "Topic: 22 Word: 0.021*\"fatigu\" + 0.008*\"speci_genu\" + 0.008*\"speci\" + 0.006*\"iron\" + 0.005*\"genu\" + 0.004*\"older_adult\" + 0.004*\"cell\" + 0.004*\"abstract\" + 0.004*\"board\" + 0.004*\"tumor\"\n",
      "\n",
      "\n"
     ]
    }
   ],
   "source": [
    "'''\n",
    "For each topic, we will explore the words occuring in that topic and its relative weight\n",
    "'''\n",
    "for idx, topic in lda_model.print_topics(-1):\n",
    "    print(\"Topic: {} Word: {}\".format(idx, topic))\n",
    "    print(\"\\n\")"
   ]
  },
  {
   "cell_type": "code",
   "execution_count": 74,
   "id": "79af0083",
   "metadata": {},
   "outputs": [
    {
     "name": "stdout",
     "output_type": "stream",
     "text": [
      "Topic #1:\n",
      "['speci', 'water', 'wastewat', 'transfer', 'food', 'devic', 'fluoresc', 'microbi', 'field', 'marin']\n",
      "\n",
      "Topic #2:\n",
      "['genu', 'systemat_review', 'cluster', 'review', 'plate', 'search', 'systemat', 'cancer', 'youth', 'health_worker']\n",
      "\n",
      "Topic #3:\n",
      "['headach', 'ventricular', 'bird', 'patient', 'citat', 'intracrani', 'index', 'infarct', 'imag', 'lymphoma']\n",
      "\n",
      "Topic #4:\n",
      "['sodium', 'enzym', 'workflow', 'motion', 'antioxid', 'copd', 'fall', 'muscl', 'toxic', 'bond']\n",
      "\n",
      "Topic #5:\n",
      "['patient', 'care', 'health', 'digit', 'research', 'profession', 'particip', 'month', 'commun', 'team']\n",
      "\n",
      "Topic #6:\n",
      "['cervic', 'cost', 'maxillari', 'care', 'dental', 'alcohol', 'incom', 'transport', 'caregiv', 'cost_effect']\n",
      "\n",
      "Topic #7:\n",
      "['potassium', 'stigma', 'speci', 'illustr', 'pneumonia', 'rescu', 'mammal', 'season', 'gene', 'calcium']\n",
      "\n",
      "Topic #8:\n",
      "['student', 'nurs', 'health', 'social', 'compet', 'print', 'particl', 'adolesc', 'dental', 'physic']\n",
      "\n",
      "Topic #9:\n",
      "['trait', 'speci', 'motiv', 'charact', 'japanes', 'spine', 'carcinoma', 'person', 'genet', 'famili']\n",
      "\n",
      "Topic #10:\n",
      "['sar', 'gene', 'cell', 'covid', 'infect', 'protein', 'patient', 'express', 'viru', 'diseas']\n",
      "\n",
      "Topic #11:\n",
      "['caregiv', 'adolesc', 'lineag', 'parent', 'calcium', 'obes', 'chest', 'north', 'fractur', 'gradient']\n",
      "\n",
      "Topic #12:\n",
      "['speci', 'women', 'smoke', 'ion', 'synonym', 'china', 'smoker', 'children', 'water', 'pregnant']\n",
      "\n",
      "Topic #13:\n",
      "['patient', 'covid', 'mental', 'health', 'mental_health', 'symptom', 'depress', 'pandem', 'group', 'risk']\n",
      "\n",
      "Topic #14:\n",
      "['activ', 'effect', 'soil', 'brain', 'cognit', 'function', 'method', 'model', 'depress', 'pollut']\n",
      "\n",
      "Topic #15:\n",
      "['emot', 'fractur', 'patient', 'implant', 'nois', 'model', 'cognit', 'risk', 'diabet', 'injuri']\n",
      "\n",
      "Topic #16:\n",
      "['periodont', 'gene', 'resist', 'stress', 'cell', 'express', 'speci', 'china', 'socioeconom', 'outbreak']\n",
      "\n",
      "Topic #17:\n",
      "['exercis', 'breast', 'breast_cancer', 'lipid', 'vitamin', 'aquat', 'cancer', 'fresh', 'group', 'loop']\n",
      "\n",
      "Topic #18:\n",
      "['gastric', 'asthma', 'stressor', 'copi', 'figur', 'dimer', 'stem', 'high_risk', 'risk', 'mimic']\n",
      "\n",
      "Topic #19:\n",
      "['cell', 'tumor', 'protein', 'river', 'speci', 'respons', 'hygien', 'infecti', 'express', 'text']\n",
      "\n",
      "Topic #20:\n",
      "['implant', 'bone', 'fish', 'tissu', 'vertebr', 'soft', 'chromatographi', 'wind', 'miner', 'soft_tissu']\n",
      "\n",
      "Topic #21:\n",
      "['glucos', 'motor', 'airway', 'postpartum', 'muscl', 'fatti_acid', 'strain', 'genom', 'gene', 'cystic']\n",
      "\n",
      "Topic #22:\n",
      "['root', 'algorithm', 'gray', 'speci', 'sediment', 'cell', 'user', 'mucos', 'valid', 'color']\n",
      "\n",
      "Topic #23:\n",
      "['fatigu', 'speci_genu', 'speci', 'iron', 'genu', 'older_adult', 'cell', 'abstract', 'board', 'tumor']\n",
      "\n"
     ]
    }
   ],
   "source": [
    "topics = [[(term, round(wt, 3)) \n",
    "               for term, wt in lda_model.show_topic(n, topn=10)] \n",
    "                   for n in range(0, lda_model.num_topics)]\n",
    "for idx, topic in enumerate(topics):\n",
    "    print('Topic #'+str(idx+1)+':')\n",
    "    print([term for term, wt in topic])\n",
    "    print()"
   ]
  },
  {
   "cell_type": "code",
   "execution_count": 75,
   "id": "27287af1",
   "metadata": {},
   "outputs": [
    {
     "name": "stderr",
     "output_type": "stream",
     "text": [
      "<ipython-input-75-0df6d503e98d>:1: FutureWarning: Passing a negative integer is deprecated in version 1.0 and will not be supported in future version. Instead, use None to not limit the column width.\n",
      "  pd.set_option('display.max_colwidth', -1)\n"
     ]
    },
    {
     "data": {
      "text/html": [
       "<div>\n",
       "<style scoped>\n",
       "    .dataframe tbody tr th:only-of-type {\n",
       "        vertical-align: middle;\n",
       "    }\n",
       "\n",
       "    .dataframe tbody tr th {\n",
       "        vertical-align: top;\n",
       "    }\n",
       "\n",
       "    .dataframe thead th {\n",
       "        text-align: right;\n",
       "    }\n",
       "</style>\n",
       "<table border=\"1\" class=\"dataframe\">\n",
       "  <thead>\n",
       "    <tr style=\"text-align: right;\">\n",
       "      <th></th>\n",
       "      <th>Terms per Topic</th>\n",
       "    </tr>\n",
       "  </thead>\n",
       "  <tbody>\n",
       "    <tr>\n",
       "      <th>Topic0</th>\n",
       "      <td>speci, water, wastewat, transfer, food, devic, fluoresc, microbi, field, marin</td>\n",
       "    </tr>\n",
       "    <tr>\n",
       "      <th>Topic1</th>\n",
       "      <td>genu, systemat_review, cluster, review, plate, search, systemat, cancer, youth, health_worker</td>\n",
       "    </tr>\n",
       "    <tr>\n",
       "      <th>Topic2</th>\n",
       "      <td>headach, ventricular, bird, patient, citat, intracrani, index, infarct, imag, lymphoma</td>\n",
       "    </tr>\n",
       "    <tr>\n",
       "      <th>Topic3</th>\n",
       "      <td>sodium, enzym, workflow, motion, antioxid, copd, fall, muscl, toxic, bond</td>\n",
       "    </tr>\n",
       "    <tr>\n",
       "      <th>Topic4</th>\n",
       "      <td>patient, care, health, digit, research, profession, particip, month, commun, team</td>\n",
       "    </tr>\n",
       "    <tr>\n",
       "      <th>Topic5</th>\n",
       "      <td>cervic, cost, maxillari, care, dental, alcohol, incom, transport, caregiv, cost_effect</td>\n",
       "    </tr>\n",
       "    <tr>\n",
       "      <th>Topic6</th>\n",
       "      <td>potassium, stigma, speci, illustr, pneumonia, rescu, mammal, season, gene, calcium</td>\n",
       "    </tr>\n",
       "    <tr>\n",
       "      <th>Topic7</th>\n",
       "      <td>student, nurs, health, social, compet, print, particl, adolesc, dental, physic</td>\n",
       "    </tr>\n",
       "    <tr>\n",
       "      <th>Topic8</th>\n",
       "      <td>trait, speci, motiv, charact, japanes, spine, carcinoma, person, genet, famili</td>\n",
       "    </tr>\n",
       "    <tr>\n",
       "      <th>Topic9</th>\n",
       "      <td>sar, gene, cell, covid, infect, protein, patient, express, viru, diseas</td>\n",
       "    </tr>\n",
       "    <tr>\n",
       "      <th>Topic10</th>\n",
       "      <td>caregiv, adolesc, lineag, parent, calcium, obes, chest, north, fractur, gradient</td>\n",
       "    </tr>\n",
       "    <tr>\n",
       "      <th>Topic11</th>\n",
       "      <td>speci, women, smoke, ion, synonym, china, smoker, children, water, pregnant</td>\n",
       "    </tr>\n",
       "    <tr>\n",
       "      <th>Topic12</th>\n",
       "      <td>patient, covid, mental, health, mental_health, symptom, depress, pandem, group, risk</td>\n",
       "    </tr>\n",
       "    <tr>\n",
       "      <th>Topic13</th>\n",
       "      <td>activ, effect, soil, brain, cognit, function, method, model, depress, pollut</td>\n",
       "    </tr>\n",
       "    <tr>\n",
       "      <th>Topic14</th>\n",
       "      <td>emot, fractur, patient, implant, nois, model, cognit, risk, diabet, injuri</td>\n",
       "    </tr>\n",
       "    <tr>\n",
       "      <th>Topic15</th>\n",
       "      <td>periodont, gene, resist, stress, cell, express, speci, china, socioeconom, outbreak</td>\n",
       "    </tr>\n",
       "    <tr>\n",
       "      <th>Topic16</th>\n",
       "      <td>exercis, breast, breast_cancer, lipid, vitamin, aquat, cancer, fresh, group, loop</td>\n",
       "    </tr>\n",
       "    <tr>\n",
       "      <th>Topic17</th>\n",
       "      <td>gastric, asthma, stressor, copi, figur, dimer, stem, high_risk, risk, mimic</td>\n",
       "    </tr>\n",
       "    <tr>\n",
       "      <th>Topic18</th>\n",
       "      <td>cell, tumor, protein, river, speci, respons, hygien, infecti, express, text</td>\n",
       "    </tr>\n",
       "    <tr>\n",
       "      <th>Topic19</th>\n",
       "      <td>implant, bone, fish, tissu, vertebr, soft, chromatographi, wind, miner, soft_tissu</td>\n",
       "    </tr>\n",
       "    <tr>\n",
       "      <th>Topic20</th>\n",
       "      <td>glucos, motor, airway, postpartum, muscl, fatti_acid, strain, genom, gene, cystic</td>\n",
       "    </tr>\n",
       "    <tr>\n",
       "      <th>Topic21</th>\n",
       "      <td>root, algorithm, gray, speci, sediment, cell, user, mucos, valid, color</td>\n",
       "    </tr>\n",
       "    <tr>\n",
       "      <th>Topic22</th>\n",
       "      <td>fatigu, speci_genu, speci, iron, genu, older_adult, cell, abstract, board, tumor</td>\n",
       "    </tr>\n",
       "  </tbody>\n",
       "</table>\n",
       "</div>"
      ],
      "text/plain": [
       "                                                                                       Terms per Topic\n",
       "Topic0   speci, water, wastewat, transfer, food, devic, fluoresc, microbi, field, marin               \n",
       "Topic1   genu, systemat_review, cluster, review, plate, search, systemat, cancer, youth, health_worker\n",
       "Topic2   headach, ventricular, bird, patient, citat, intracrani, index, infarct, imag, lymphoma       \n",
       "Topic3   sodium, enzym, workflow, motion, antioxid, copd, fall, muscl, toxic, bond                    \n",
       "Topic4   patient, care, health, digit, research, profession, particip, month, commun, team            \n",
       "Topic5   cervic, cost, maxillari, care, dental, alcohol, incom, transport, caregiv, cost_effect       \n",
       "Topic6   potassium, stigma, speci, illustr, pneumonia, rescu, mammal, season, gene, calcium           \n",
       "Topic7   student, nurs, health, social, compet, print, particl, adolesc, dental, physic               \n",
       "Topic8   trait, speci, motiv, charact, japanes, spine, carcinoma, person, genet, famili               \n",
       "Topic9   sar, gene, cell, covid, infect, protein, patient, express, viru, diseas                      \n",
       "Topic10  caregiv, adolesc, lineag, parent, calcium, obes, chest, north, fractur, gradient             \n",
       "Topic11  speci, women, smoke, ion, synonym, china, smoker, children, water, pregnant                  \n",
       "Topic12  patient, covid, mental, health, mental_health, symptom, depress, pandem, group, risk         \n",
       "Topic13  activ, effect, soil, brain, cognit, function, method, model, depress, pollut                 \n",
       "Topic14  emot, fractur, patient, implant, nois, model, cognit, risk, diabet, injuri                   \n",
       "Topic15  periodont, gene, resist, stress, cell, express, speci, china, socioeconom, outbreak          \n",
       "Topic16  exercis, breast, breast_cancer, lipid, vitamin, aquat, cancer, fresh, group, loop            \n",
       "Topic17  gastric, asthma, stressor, copi, figur, dimer, stem, high_risk, risk, mimic                  \n",
       "Topic18  cell, tumor, protein, river, speci, respons, hygien, infecti, express, text                  \n",
       "Topic19  implant, bone, fish, tissu, vertebr, soft, chromatographi, wind, miner, soft_tissu           \n",
       "Topic20  glucos, motor, airway, postpartum, muscl, fatti_acid, strain, genom, gene, cystic            \n",
       "Topic21  root, algorithm, gray, speci, sediment, cell, user, mucos, valid, color                      \n",
       "Topic22  fatigu, speci_genu, speci, iron, genu, older_adult, cell, abstract, board, tumor             "
      ]
     },
     "execution_count": 75,
     "metadata": {},
     "output_type": "execute_result"
    }
   ],
   "source": [
    "pd.set_option('display.max_colwidth', -1)\n",
    "topics_df = pd.DataFrame([', '.join([term for term, wt in topic])  \n",
    "                              for topic in topics],\n",
    "                         columns = ['Terms per Topic'],\n",
    "                         index=['Topic'+str(t) for t in range(0, lda_model.num_topics)]\n",
    "                         )\n",
    "topics_df"
   ]
  },
  {
   "cell_type": "code",
   "execution_count": 76,
   "id": "3d611e91",
   "metadata": {},
   "outputs": [],
   "source": [
    "doc_lda=lda_model[corpus_tfidf]"
   ]
  },
  {
   "cell_type": "code",
   "execution_count": 77,
   "id": "d78b5707",
   "metadata": {},
   "outputs": [
    {
     "data": {
      "text/plain": [
       "[(14, 0.8626723)]"
      ]
     },
     "execution_count": 77,
     "metadata": {},
     "output_type": "execute_result"
    }
   ],
   "source": [
    "doc_lda[1]"
   ]
  },
  {
   "cell_type": "code",
   "execution_count": 78,
   "id": "28665714",
   "metadata": {},
   "outputs": [],
   "source": [
    "corpus_topics = [sorted(topics, key=lambda record: -record[1])\n",
    "                     for topics in doc_lda]\n"
   ]
  },
  {
   "cell_type": "code",
   "execution_count": 82,
   "id": "b33380c1",
   "metadata": {},
   "outputs": [
    {
     "data": {
      "text/plain": [
       "[(12, 0.5093128), (14, 0.21019512), (4, 0.18157525)]"
      ]
     },
     "execution_count": 82,
     "metadata": {},
     "output_type": "execute_result"
    }
   ],
   "source": [
    "corpus_topics[3]"
   ]
  },
  {
   "cell_type": "code",
   "execution_count": 83,
   "id": "25b8b003",
   "metadata": {},
   "outputs": [],
   "source": [
    "new_df=pd.DataFrame(columns=['Abstract','Topic_1',\"Topic_1_score\",'Topic_2',\"Topic_2_score\",'Topic_3',\"Topic_3_score\"])\n",
    "for i in range(len(df)):\n",
    "    if len(corpus_topics[i])>=3:\n",
    "        new_df = new_df.append({'Abstract':df[\"Abstract\"][i],'Topic_1':corpus_topics[i][0][0],\n",
    "                                'Topic_1_score':corpus_topics[i][0][1],\n",
    "                                'Topic_2':corpus_topics[i][1][0],\n",
    "                                'Topic_2_score':corpus_topics[i][1][1],\n",
    "                               'Topic_3':corpus_topics[i][2][0],\n",
    "                               'Topic_3_score':corpus_topics[i][2][1]},\n",
    "                               ignore_index=True)\n",
    "    elif len(corpus_topics[i])==2:\n",
    "        new_df = new_df.append({'Abstract':df[\"Abstract\"][i],'Topic_1':corpus_topics[i][0][0],\n",
    "                        'Topic_1_score':corpus_topics[i][0][1],\n",
    "                        'Topic_2':corpus_topics[i][1][0],\n",
    "                        'Topic_2_score':corpus_topics[i][1][1],\n",
    "                               'Topic_3':np.nan,\n",
    "                               'Topic_3_score':np.nan},\n",
    "                       ignore_index=True)\n",
    "    else:\n",
    "        new_df = new_df.append({'Abstract':df[\"Abstract\"][i],'Topic_1':corpus_topics[i][0][0],\n",
    "                                    'Topic_1_score':corpus_topics[i][0][1],\n",
    "                                    'Topic_2':np.nan,\n",
    "                                    'Topic_2_score':np.nan,\n",
    "                                   'Topic_3':np.nan,\n",
    "                                   'Topic_3_score':np.nan},\n",
    "                                   ignore_index=True)       "
   ]
  },
  {
   "cell_type": "code",
   "execution_count": 84,
   "id": "946fed15",
   "metadata": {},
   "outputs": [
    {
     "data": {
      "text/html": [
       "<div>\n",
       "<style scoped>\n",
       "    .dataframe tbody tr th:only-of-type {\n",
       "        vertical-align: middle;\n",
       "    }\n",
       "\n",
       "    .dataframe tbody tr th {\n",
       "        vertical-align: top;\n",
       "    }\n",
       "\n",
       "    .dataframe thead th {\n",
       "        text-align: right;\n",
       "    }\n",
       "</style>\n",
       "<table border=\"1\" class=\"dataframe\">\n",
       "  <thead>\n",
       "    <tr style=\"text-align: right;\">\n",
       "      <th></th>\n",
       "      <th>Abstract</th>\n",
       "      <th>Topic_1</th>\n",
       "      <th>Topic_1_score</th>\n",
       "      <th>Topic_2</th>\n",
       "      <th>Topic_2_score</th>\n",
       "      <th>Topic_3</th>\n",
       "      <th>Topic_3_score</th>\n",
       "    </tr>\n",
       "  </thead>\n",
       "  <tbody>\n",
       "    <tr>\n",
       "      <th>0</th>\n",
       "      <td>Coordination variability (CV) is commonly analyzed to understand dynamical qualities of human locomotion. The purpose of this study was to develop guidelines for the number of trials required to inform the calculation of a stable mean lower limb CV during overground locomotion. Three-dimensional lower limb kinematics were captured for 10 recreational runners performing 20 trials each of preferred and fixed speed walking and running. Stance phase CV was calculated for 9 segment and joint couplings using a modified vector coding technique. The number of trials required to achieve a CV mean within 10% of 20 strides average was determined for each coupling and individual. The statistical outputs of mode (walking vs running) and speed (preferred vs fixed) were compared when informed by differing numbers of trials. A minimum of 11 trials were required for stable mean stance phase CV. With fewer than 11 trials, CV was underestimated and led to an oversight of significant differences between mode and speed. Future overground locomotion CV research in healthy populations using a vector coding approach should use 11 trials as a standard minimum. Researchers should be aware of the notable consequences of an insufficient number of trials for overall study findings.</td>\n",
       "      <td>13</td>\n",
       "      <td>0.877860</td>\n",
       "      <td>NaN</td>\n",
       "      <td>NaN</td>\n",
       "      <td>NaN</td>\n",
       "      <td>NaN</td>\n",
       "    </tr>\n",
       "    <tr>\n",
       "      <th>1</th>\n",
       "      <td>Clinical Scenario: Dynamic knee valgus (DKV) is a mechanical alteration in the knee that leads to increased risk of injury. Weakness of hip musculature in hip abduction (HABD), extension (HEXT), and external rotation (HER) may contribute to increased DKV in single-leg landing tasks. Focused Clinical Question: Is decreased hip strength associated with an increase in DKV during a single-leg landing task in collegiate female athletes? Summary of Key Findings: Three studies were included: One randomized control trial (RCT), one cohort study, and one case-control. All three studies found that decreases in HABD and HER strength contributed to increased DKV during single-leg landing tasks. One study also found that the hip extensors contribute to controlling hip adduction, a common factor in many mechanisms of injuries. These three studies recommended strengthening HABD, HEXT, and HER to decrease DKV and reduce the risk of injury at the knee. Clinical Bottom Line: Weak HABD, HEXT, and HER contribute to increased DKV in college female athletes, but strengthening HABD, HEXT, and HER can lead to decreases in DKV and, overall, reduce the risk of injury at the knee. Strength of Recommendation: These articles were graded with a level of evidence of III or higher, giving a grade of B strength of recommendation that weak HABD, HEXT, and HER are associated with increased DKV in collegiate female athletes.</td>\n",
       "      <td>14</td>\n",
       "      <td>0.862673</td>\n",
       "      <td>NaN</td>\n",
       "      <td>NaN</td>\n",
       "      <td>NaN</td>\n",
       "      <td>NaN</td>\n",
       "    </tr>\n",
       "    <tr>\n",
       "      <th>2</th>\n",
       "      <td>Various methodologies have been reported to assess the real-world epidemiology of amyotrophic lateral sclerosis (ALS) in the United States. The aim of this study was to estimate the prevalence, incidence, and geographical distribution of ALS using administrative claims data and to model future trends in ALS epidemiology.,We performed a retrospective analysis of deidentified administrative claims data for &gt;100 million patients, using 2 separate databases (IBM MarketScan Research Databases and Symphony Health Integrated DataVerse [IDV]), to identify patients with ALS. We evaluated disease prevalence, annual incidence, age- and population-controlled geographical distribution, and expected future trends.,From 2013 to 2017, we identified 7,316 and 35,208 ALS patients from the MarketScan databases and IDV, respectively. Average annual incidence estimates were 1.48 and 1.37 per 100,000 and point prevalence estimates were 6.85 and 5.16 per 100,000 and in the United States for the MarketScan databases and IDV, respectively. Predictive modeling estimates are reported out to the year 2060 and demonstrate an increasing trend in both incident and prevalent cases.,This study provides incidence and prevalence estimates as well as geographical distribution for what the authors believe to be the largest ALS population studied to date. By using 2 separate administrative claims data sets, confidence in our estimates is increased. Future projections based on either database demonstrate an increase in ALS cases, which has also been seen in other large-scale ALS studies. These results can be used to help improve the allocation of healthcare resources in the future.</td>\n",
       "      <td>14</td>\n",
       "      <td>0.879707</td>\n",
       "      <td>NaN</td>\n",
       "      <td>NaN</td>\n",
       "      <td>NaN</td>\n",
       "      <td>NaN</td>\n",
       "    </tr>\n",
       "    <tr>\n",
       "      <th>3</th>\n",
       "      <td>As outcomes for acute ischemic stroke (AIS) vary according to clinical profile and management approaches, we aimed to determine disparities in clinical outcomes between Asian and non-Asian participants of the international, Enhanced Control of Hypertension and Thrombolysis Stroke study (ENCHANTED).,ENCHANTED was a multicenter, prospective, partial-factorial, randomized, open trial of low-dose (0.6 mg/kg) versus standard-dose (0.9 mg/kg) alteplase, and intensive (target systolic blood pressure [SBP] 130-140 mm Hg) or guideline-recommended (&lt;180 mm Hg) BP management, in thrombolysis-eligible AIS patients. Logistic regression models were used to examine the associations with outcomes of death or disability (modified Rankin scale [mRS] scores 2-6), major disability (mRS 3-5), death, and intracranial hemorrhage (ICH), with adjustment prognostic factors, alteplase dose, and mean SBP over 1-24 h.,Among 4,551 thrombolyzed AIS patients (mean age 66.7 years, 37.8% female), there were 65.4% Asians who were younger, fewer female, and with less atrial fibrillation, hypercholesterolemia, premorbid symptoms, and concomitant antihypertensive, antithrombotic and statin treatment, and more prior stroke, compared to non-Asians. Frequencies of hypertension, coronary artery disease, and diabetes mellitus were comparable between groups. Asian patients were less likely to be admitted to an acute stroke unit and receive early mobilization by a therapist or rehabilitation but more likely to receive intensive care. There were no significant differences between Asians and non-Asians in functional outcome (defined by mRS scores 2-6 or 3-5; adjusted odds ratio [OR] 1.00, 95% confidence interval [CI] 0.85-1.19 [p = 0.958] and OR 0.95, 95% CI 0.80-1.13 [p = 0.572], respectively), or death (OR 1.25, 95% CI 0.95-1.65; p = 0.116), despite Asians having greater odds of ICH (OR 1.51, 95% CI 1.23-1.86; p = 0.0001) and neurological deterioration within 24 h (OR 1.58, 95% CI 1.18-2.12; p = 0.002).,Within the context of an international clinical trial of thrombolyzed AIS patients, demography, risk factors, management, and odds of early neurological deterioration and ICH, all differ between Asian and non-Asian participants. However, patterns of functional recovery are similar between these major regional groups.</td>\n",
       "      <td>12</td>\n",
       "      <td>0.509313</td>\n",
       "      <td>14</td>\n",
       "      <td>0.210195</td>\n",
       "      <td>4</td>\n",
       "      <td>0.181575</td>\n",
       "    </tr>\n",
       "    <tr>\n",
       "      <th>4</th>\n",
       "      <td>Because hearing loss in children can result in developmental deficits, early detection and intervention are critical. This article identifies a constellation of maternal factors that predict loss to follow-up (LTF) at the point of rescreening-the first follow-up for babies who did not pass the hearing screening performed at birth-through New Jersey's early hearing detection and intervention program. Maternal factors are critical to consider, as mothers are often the primary decision makers around children's health care. All data were obtained from the state's department of health and included babies born between June 2015 and June 2017. Logistic regression was used to predict LTF. Findings indicate that non-Hispanic Black mothers, younger mothers, mothers with previous live births, and mothers with obesity were more likely to be LTF. Hispanic mothers and those enrolled in the state's Special Supplemental Nutrition Program for Women, Infants, and Children (WIC) program were less likely to be LTF. Mothers most at risk for LTF should be targeted for intervention to help children with hearing loss achieve the benefits from early intervention. Being a WIC recipient is a protective factor for LTF; therefore, elements of WIC could be used to reduce the state's LTF rate.</td>\n",
       "      <td>12</td>\n",
       "      <td>0.555217</td>\n",
       "      <td>14</td>\n",
       "      <td>0.320096</td>\n",
       "      <td>NaN</td>\n",
       "      <td>NaN</td>\n",
       "    </tr>\n",
       "  </tbody>\n",
       "</table>\n",
       "</div>"
      ],
      "text/plain": [
       "                                                                                                                                                                                                                                                                                                                                                                                                                                                                                                                                                                                                                                                                                                                                                                                                                                                                                                                                                                                                                                                                                                                                                                                                                                                                                                                                                                                                                                                                                                                                                                                                                                                                                                                                                                                                                                                                                                                                                                                                                                                                                                                                                                                                                                                                                                                                                                                                   Abstract  \\\n",
       "0  Coordination variability (CV) is commonly analyzed to understand dynamical qualities of human locomotion. The purpose of this study was to develop guidelines for the number of trials required to inform the calculation of a stable mean lower limb CV during overground locomotion. Three-dimensional lower limb kinematics were captured for 10 recreational runners performing 20 trials each of preferred and fixed speed walking and running. Stance phase CV was calculated for 9 segment and joint couplings using a modified vector coding technique. The number of trials required to achieve a CV mean within 10% of 20 strides average was determined for each coupling and individual. The statistical outputs of mode (walking vs running) and speed (preferred vs fixed) were compared when informed by differing numbers of trials. A minimum of 11 trials were required for stable mean stance phase CV. With fewer than 11 trials, CV was underestimated and led to an oversight of significant differences between mode and speed. Future overground locomotion CV research in healthy populations using a vector coding approach should use 11 trials as a standard minimum. Researchers should be aware of the notable consequences of an insufficient number of trials for overall study findings.                                                                                                                                                                                                                                                                                                                                                                                                                                                                                                                                                                                                                                                                                                                                                                                                                                                                                                                                                                                                                                                                                  \n",
       "1  Clinical Scenario: Dynamic knee valgus (DKV) is a mechanical alteration in the knee that leads to increased risk of injury. Weakness of hip musculature in hip abduction (HABD), extension (HEXT), and external rotation (HER) may contribute to increased DKV in single-leg landing tasks. Focused Clinical Question: Is decreased hip strength associated with an increase in DKV during a single-leg landing task in collegiate female athletes? Summary of Key Findings: Three studies were included: One randomized control trial (RCT), one cohort study, and one case-control. All three studies found that decreases in HABD and HER strength contributed to increased DKV during single-leg landing tasks. One study also found that the hip extensors contribute to controlling hip adduction, a common factor in many mechanisms of injuries. These three studies recommended strengthening HABD, HEXT, and HER to decrease DKV and reduce the risk of injury at the knee. Clinical Bottom Line: Weak HABD, HEXT, and HER contribute to increased DKV in college female athletes, but strengthening HABD, HEXT, and HER can lead to decreases in DKV and, overall, reduce the risk of injury at the knee. Strength of Recommendation: These articles were graded with a level of evidence of III or higher, giving a grade of B strength of recommendation that weak HABD, HEXT, and HER are associated with increased DKV in collegiate female athletes.                                                                                                                                                                                                                                                                                                                                                                                                                                                                                                                                                                                                                                                                                                                                                                                                                                                                                                                                       \n",
       "2  Various methodologies have been reported to assess the real-world epidemiology of amyotrophic lateral sclerosis (ALS) in the United States. The aim of this study was to estimate the prevalence, incidence, and geographical distribution of ALS using administrative claims data and to model future trends in ALS epidemiology.,We performed a retrospective analysis of deidentified administrative claims data for >100 million patients, using 2 separate databases (IBM MarketScan Research Databases and Symphony Health Integrated DataVerse [IDV]), to identify patients with ALS. We evaluated disease prevalence, annual incidence, age- and population-controlled geographical distribution, and expected future trends.,From 2013 to 2017, we identified 7,316 and 35,208 ALS patients from the MarketScan databases and IDV, respectively. Average annual incidence estimates were 1.48 and 1.37 per 100,000 and point prevalence estimates were 6.85 and 5.16 per 100,000 and in the United States for the MarketScan databases and IDV, respectively. Predictive modeling estimates are reported out to the year 2060 and demonstrate an increasing trend in both incident and prevalent cases.,This study provides incidence and prevalence estimates as well as geographical distribution for what the authors believe to be the largest ALS population studied to date. By using 2 separate administrative claims data sets, confidence in our estimates is increased. Future projections based on either database demonstrate an increase in ALS cases, which has also been seen in other large-scale ALS studies. These results can be used to help improve the allocation of healthcare resources in the future.                                                                                                                                                                                                                                                                                                                                                                                                                                                                                                                                                                                                                                                                    \n",
       "3  As outcomes for acute ischemic stroke (AIS) vary according to clinical profile and management approaches, we aimed to determine disparities in clinical outcomes between Asian and non-Asian participants of the international, Enhanced Control of Hypertension and Thrombolysis Stroke study (ENCHANTED).,ENCHANTED was a multicenter, prospective, partial-factorial, randomized, open trial of low-dose (0.6 mg/kg) versus standard-dose (0.9 mg/kg) alteplase, and intensive (target systolic blood pressure [SBP] 130-140 mm Hg) or guideline-recommended (<180 mm Hg) BP management, in thrombolysis-eligible AIS patients. Logistic regression models were used to examine the associations with outcomes of death or disability (modified Rankin scale [mRS] scores 2-6), major disability (mRS 3-5), death, and intracranial hemorrhage (ICH), with adjustment prognostic factors, alteplase dose, and mean SBP over 1-24 h.,Among 4,551 thrombolyzed AIS patients (mean age 66.7 years, 37.8% female), there were 65.4% Asians who were younger, fewer female, and with less atrial fibrillation, hypercholesterolemia, premorbid symptoms, and concomitant antihypertensive, antithrombotic and statin treatment, and more prior stroke, compared to non-Asians. Frequencies of hypertension, coronary artery disease, and diabetes mellitus were comparable between groups. Asian patients were less likely to be admitted to an acute stroke unit and receive early mobilization by a therapist or rehabilitation but more likely to receive intensive care. There were no significant differences between Asians and non-Asians in functional outcome (defined by mRS scores 2-6 or 3-5; adjusted odds ratio [OR] 1.00, 95% confidence interval [CI] 0.85-1.19 [p = 0.958] and OR 0.95, 95% CI 0.80-1.13 [p = 0.572], respectively), or death (OR 1.25, 95% CI 0.95-1.65; p = 0.116), despite Asians having greater odds of ICH (OR 1.51, 95% CI 1.23-1.86; p = 0.0001) and neurological deterioration within 24 h (OR 1.58, 95% CI 1.18-2.12; p = 0.002).,Within the context of an international clinical trial of thrombolyzed AIS patients, demography, risk factors, management, and odds of early neurological deterioration and ICH, all differ between Asian and non-Asian participants. However, patterns of functional recovery are similar between these major regional groups.   \n",
       "4  Because hearing loss in children can result in developmental deficits, early detection and intervention are critical. This article identifies a constellation of maternal factors that predict loss to follow-up (LTF) at the point of rescreening-the first follow-up for babies who did not pass the hearing screening performed at birth-through New Jersey's early hearing detection and intervention program. Maternal factors are critical to consider, as mothers are often the primary decision makers around children's health care. All data were obtained from the state's department of health and included babies born between June 2015 and June 2017. Logistic regression was used to predict LTF. Findings indicate that non-Hispanic Black mothers, younger mothers, mothers with previous live births, and mothers with obesity were more likely to be LTF. Hispanic mothers and those enrolled in the state's Special Supplemental Nutrition Program for Women, Infants, and Children (WIC) program were less likely to be LTF. Mothers most at risk for LTF should be targeted for intervention to help children with hearing loss achieve the benefits from early intervention. Being a WIC recipient is a protective factor for LTF; therefore, elements of WIC could be used to reduce the state's LTF rate.                                                                                                                                                                                                                                                                                                                                                                                                                                                                                                                                                                                                                                                                                                                                                                                                                                                                                                                                                                                                                                                                        \n",
       "\n",
       "  Topic_1  Topic_1_score Topic_2  Topic_2_score Topic_3  Topic_3_score  \n",
       "0  13      0.877860       NaN    NaN             NaN    NaN             \n",
       "1  14      0.862673       NaN    NaN             NaN    NaN             \n",
       "2  14      0.879707       NaN    NaN             NaN    NaN             \n",
       "3  12      0.509313       14      0.210195       4       0.181575       \n",
       "4  12      0.555217       14      0.320096       NaN    NaN             "
      ]
     },
     "execution_count": 84,
     "metadata": {},
     "output_type": "execute_result"
    }
   ],
   "source": [
    "new_df.head()"
   ]
  },
  {
   "cell_type": "code",
   "execution_count": 85,
   "id": "b1283ece",
   "metadata": {},
   "outputs": [],
   "source": [
    "new_df.to_csv(\"clustred_topics.csv\")"
   ]
  },
  {
   "cell_type": "code",
   "execution_count": null,
   "id": "360a4229",
   "metadata": {},
   "outputs": [],
   "source": []
  }
 ],
 "metadata": {
  "kernelspec": {
   "display_name": "Python 3",
   "language": "python",
   "name": "python3"
  },
  "language_info": {
   "codemirror_mode": {
    "name": "ipython",
    "version": 3
   },
   "file_extension": ".py",
   "mimetype": "text/x-python",
   "name": "python",
   "nbconvert_exporter": "python",
   "pygments_lexer": "ipython3",
   "version": "3.8.8"
  }
 },
 "nbformat": 4,
 "nbformat_minor": 5
}
