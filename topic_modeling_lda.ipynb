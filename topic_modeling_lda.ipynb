{
 "cells": [
  {
   "cell_type": "markdown",
   "id": "9b0439d4",
   "metadata": {},
   "source": [
    "# Topic Modeling for Abstracts using Latent Dirichlet Allocation (lda)"
   ]
  },
  {
   "cell_type": "markdown",
   "id": "2e2ba2f5",
   "metadata": {},
   "source": [
    "# Table of content:\n",
    "* Load The Dataset\n",
    "* Explore The Dataset\n",
    "* Data Preprocessing:\n",
    "  * Tokenization\n",
    "  * lemmatization\n",
    "  * Stemming\n",
    "* Feature Extraction \n",
    "  * Build Dictionary from the Preprocessed Docs\n",
    "  * BOW Bag of Words\n",
    "  * TFIDF\n",
    "* LDA Training and choosing the optimal number of topics \n",
    "* Transform The TFIDF Corpus using the new model \n",
    "* Build `new_df` that has the original top 3 topics with probability scores\n",
    "* Load the newly created df and The topic and top words df.\n",
    "\n"
   ]
  },
  {
   "cell_type": "markdown",
   "id": "4b4d327e",
   "metadata": {},
   "source": [
    "##  Load The Dataset"
   ]
  },
  {
   "cell_type": "code",
   "execution_count": 1,
   "id": "ef96f987",
   "metadata": {},
   "outputs": [],
   "source": [
    "import pandas as pd"
   ]
  },
  {
   "cell_type": "code",
   "execution_count": 2,
   "id": "dc7b0e64",
   "metadata": {},
   "outputs": [],
   "source": [
    "df=pd.read_excel('Pubmed5k.xlsx')"
   ]
  },
  {
   "cell_type": "code",
   "execution_count": 7,
   "id": "43000301",
   "metadata": {},
   "outputs": [
    {
     "data": {
      "text/html": [
       "<div>\n",
       "<style scoped>\n",
       "    .dataframe tbody tr th:only-of-type {\n",
       "        vertical-align: middle;\n",
       "    }\n",
       "\n",
       "    .dataframe tbody tr th {\n",
       "        vertical-align: top;\n",
       "    }\n",
       "\n",
       "    .dataframe thead th {\n",
       "        text-align: right;\n",
       "    }\n",
       "</style>\n",
       "<table border=\"1\" class=\"dataframe\">\n",
       "  <thead>\n",
       "    <tr style=\"text-align: right;\">\n",
       "      <th></th>\n",
       "      <th>ArticleID</th>\n",
       "      <th>Title</th>\n",
       "      <th>Abstract</th>\n",
       "    </tr>\n",
       "  </thead>\n",
       "  <tbody>\n",
       "    <tr>\n",
       "      <th>0</th>\n",
       "      <td>34153941</td>\n",
       "      <td>Stable Coordination Variability in Overground ...</td>\n",
       "      <td>Coordination variability (CV) is commonly anal...</td>\n",
       "    </tr>\n",
       "    <tr>\n",
       "      <th>1</th>\n",
       "      <td>34153942</td>\n",
       "      <td>Weak Hip Strength Increases Dynamic Knee Valgu...</td>\n",
       "      <td>Clinical Scenario: Dynamic knee valgus (DKV) i...</td>\n",
       "    </tr>\n",
       "    <tr>\n",
       "      <th>2</th>\n",
       "      <td>34153964</td>\n",
       "      <td>Current and Future Projections of Amyotrophic ...</td>\n",
       "      <td>Various methodologies have been reported to as...</td>\n",
       "    </tr>\n",
       "    <tr>\n",
       "      <th>3</th>\n",
       "      <td>34153968</td>\n",
       "      <td>Disparities between Asian and Non-Asian Thromb...</td>\n",
       "      <td>As outcomes for acute ischemic stroke (AIS) va...</td>\n",
       "    </tr>\n",
       "    <tr>\n",
       "      <th>4</th>\n",
       "      <td>34153978</td>\n",
       "      <td>Maternal Factors Predicting Loss to Follow-Up ...</td>\n",
       "      <td>Because hearing loss in children can result in...</td>\n",
       "    </tr>\n",
       "  </tbody>\n",
       "</table>\n",
       "</div>"
      ],
      "text/plain": [
       "   ArticleID                                              Title  \\\n",
       "0   34153941  Stable Coordination Variability in Overground ...   \n",
       "1   34153942  Weak Hip Strength Increases Dynamic Knee Valgu...   \n",
       "2   34153964  Current and Future Projections of Amyotrophic ...   \n",
       "3   34153968  Disparities between Asian and Non-Asian Thromb...   \n",
       "4   34153978  Maternal Factors Predicting Loss to Follow-Up ...   \n",
       "\n",
       "                                            Abstract  \n",
       "0  Coordination variability (CV) is commonly anal...  \n",
       "1  Clinical Scenario: Dynamic knee valgus (DKV) i...  \n",
       "2  Various methodologies have been reported to as...  \n",
       "3  As outcomes for acute ischemic stroke (AIS) va...  \n",
       "4  Because hearing loss in children can result in...  "
      ]
     },
     "execution_count": 7,
     "metadata": {},
     "output_type": "execute_result"
    }
   ],
   "source": [
    "df.head(5)"
   ]
  },
  {
   "cell_type": "markdown",
   "id": "abaa2beb",
   "metadata": {},
   "source": [
    "## Explore The Dataset\n",
    "\n",
    "To see if there are any null values and reading some examples to see what may cause problems."
   ]
  },
  {
   "cell_type": "code",
   "execution_count": 9,
   "id": "1a091707",
   "metadata": {},
   "outputs": [
    {
     "name": "stdout",
     "output_type": "stream",
     "text": [
      "the length of the dataset is #4999\n",
      "----------------------------------------------------------------------------------------------------\n",
      "<class 'pandas.core.frame.DataFrame'>\n",
      "RangeIndex: 4999 entries, 0 to 4998\n",
      "Data columns (total 3 columns):\n",
      " #   Column     Non-Null Count  Dtype \n",
      "---  ------     --------------  ----- \n",
      " 0   ArticleID  4999 non-null   int64 \n",
      " 1   Title      4999 non-null   object\n",
      " 2   Abstract   4999 non-null   object\n",
      "dtypes: int64(1), object(2)\n",
      "memory usage: 117.3+ KB\n"
     ]
    }
   ],
   "source": [
    "print(\"the length of the dataset is #{}\".format(len(df)))\n",
    "print(\"-\"*100)\n",
    "df.info()"
   ]
  },
  {
   "cell_type": "markdown",
   "id": "3d1ebd62",
   "metadata": {},
   "source": [
    "No null values"
   ]
  },
  {
   "cell_type": "code",
   "execution_count": 8,
   "id": "beb0ab0b",
   "metadata": {},
   "outputs": [
    {
     "data": {
      "text/plain": [
       "'Clinical Scenario: Dynamic knee valgus (DKV) is a mechanical alteration in the knee that leads to increased risk of injury. Weakness of hip musculature in hip abduction (HABD), extension (HEXT), and external rotation (HER) may contribute to increased DKV in single-leg landing tasks. Focused Clinical Question: Is decreased hip strength associated with an increase in DKV during a single-leg landing task in collegiate female athletes? Summary of Key Findings: Three studies were included: One randomized control trial (RCT), one cohort study, and one case-control. All three studies found that decreases in HABD and HER strength contributed to increased DKV during single-leg landing tasks. One study also found that the hip extensors contribute to controlling hip adduction, a common factor in many mechanisms of injuries. These three studies recommended strengthening HABD, HEXT, and HER to decrease DKV and reduce the risk of injury at the knee. Clinical Bottom Line: Weak HABD, HEXT, and HER contribute to increased DKV in college female athletes, but strengthening HABD, HEXT, and HER can lead to decreases in DKV and, overall, reduce the risk of injury at the knee. Strength of Recommendation: These articles were graded with a level of evidence of III or higher, giving a grade of B strength of recommendation that weak HABD, HEXT, and HER are associated with increased DKV in collegiate female athletes.'"
      ]
     },
     "execution_count": 8,
     "metadata": {},
     "output_type": "execute_result"
    }
   ],
   "source": [
    "df['Abstract'][1]"
   ]
  },
  {
   "cell_type": "markdown",
   "id": "ac5bed68",
   "metadata": {},
   "source": [
    "## Data Preprocessing ##\n",
    "\n",
    "We will perform the following steps:\n",
    "\n",
    "* **Tokenization**: Split the text into sentences and the sentences into words. Lowercase the words and remove punctuation.\n",
    "* Words that have fewer than 3 characters are removed.\n",
    "* All **stopwords** are removed.\n",
    "* Words are **lemmatized** - words in third person are changed to first person and verbs in past and future tenses are changed into present.\n",
    "* Words are **stemmed** - words are reduced to their root form.\n"
   ]
  },
  {
   "cell_type": "code",
   "execution_count": 10,
   "id": "9f73feb4",
   "metadata": {},
   "outputs": [
    {
     "name": "stdout",
     "output_type": "stream",
     "text": [
      "----------------------------------------------------------------------------------------------------\n",
      "All Done!\n"
     ]
    },
    {
     "name": "stderr",
     "output_type": "stream",
     "text": [
      "[nltk_data] Downloading package wordnet to\n",
      "[nltk_data]     C:\\Users\\Eslam\\AppData\\Roaming\\nltk_data...\n",
      "[nltk_data]   Package wordnet is already up-to-date!\n"
     ]
    }
   ],
   "source": [
    "'''\n",
    "Loading Gensim and nltk libraries\n",
    "'''\n",
    "import gensim\n",
    "from gensim.utils import simple_preprocess\n",
    "from gensim.parsing.preprocessing import STOPWORDS\n",
    "from nltk.stem import WordNetLemmatizer, SnowballStemmer\n",
    "from nltk.stem.porter import PorterStemmer\n",
    "import numpy as np\n",
    "import nltk\n",
    "nltk.download('wordnet')\n",
    "print(\"-\"*100)\n",
    "print(\"All Done!\")"
   ]
  },
  {
   "cell_type": "code",
   "execution_count": 11,
   "id": "ed7a5d1e",
   "metadata": {},
   "outputs": [],
   "source": [
    "'''\n",
    "These two functions take care of the preprocessing process mentioned above.\n",
    "Input  >>>> text\n",
    "output >>>> stemmed and lemmatized tokens\n",
    "'''\n",
    "def lemmatize_stemming(text):\n",
    "    return PorterStemmer().stem(WordNetLemmatizer().lemmatize(text, pos='v'))\n",
    "# Tokenize and lemmatize\n",
    "def preprocess(text):\n",
    "    result=[]\n",
    "    for token in gensim.utils.simple_preprocess(text) :\n",
    "        if token not in gensim.parsing.preprocessing.STOPWORDS and len(token) > 3:\n",
    "            # Apply lemmatize_stemming on the token, then add to the results list\n",
    "            result.append(lemmatize_stemming(token))\n",
    "    return result"
   ]
  },
  {
   "cell_type": "code",
   "execution_count": 12,
   "id": "edb0b79e",
   "metadata": {},
   "outputs": [],
   "source": [
    "# preprocess all the abstracts, saving the list of results as 'processed_docs'\n",
    "processed_docs = df['Abstract'].map(preprocess)"
   ]
  },
  {
   "cell_type": "code",
   "execution_count": 13,
   "id": "688f8ef0",
   "metadata": {},
   "outputs": [],
   "source": [
    "# Compute bigrams.\n",
    "from gensim.models import Phrases\n",
    "\n",
    "# Add bigrams to docs (only ones that appear 10 times or more).\n",
    "bigram = Phrases(processed_docs, min_count=10)\n",
    "for idx in range(len(processed_docs)):\n",
    "    for token in bigram[processed_docs[idx]]:\n",
    "        if '_' in token:\n",
    "            # Token is a bigram, add to document.\n",
    "            processed_docs[idx].append(token)"
   ]
  },
  {
   "cell_type": "code",
   "execution_count": 15,
   "id": "d42afba5",
   "metadata": {},
   "outputs": [
    {
     "data": {
      "text/plain": [
       "['clinic',\n",
       " 'scenario',\n",
       " 'dynam',\n",
       " 'knee',\n",
       " 'valgu',\n",
       " 'mechan',\n",
       " 'alter',\n",
       " 'knee',\n",
       " 'lead',\n",
       " 'increas',\n",
       " 'risk',\n",
       " 'injuri',\n",
       " 'weak',\n",
       " 'musculatur',\n",
       " 'abduct',\n",
       " 'habd',\n",
       " 'extens',\n",
       " 'hext',\n",
       " 'extern',\n",
       " 'rotat',\n",
       " 'contribut',\n",
       " 'increas',\n",
       " 'singl',\n",
       " 'land',\n",
       " 'task',\n",
       " 'focu',\n",
       " 'clinic',\n",
       " 'question',\n",
       " 'decreas',\n",
       " 'strength',\n",
       " 'associ',\n",
       " 'increas',\n",
       " 'singl',\n",
       " 'land',\n",
       " 'task',\n",
       " 'collegi',\n",
       " 'femal',\n",
       " 'athlet',\n",
       " 'summari',\n",
       " 'find',\n",
       " 'studi',\n",
       " 'includ',\n",
       " 'random',\n",
       " 'control',\n",
       " 'trial',\n",
       " 'cohort',\n",
       " 'studi',\n",
       " 'case',\n",
       " 'control',\n",
       " 'studi',\n",
       " 'decreas',\n",
       " 'habd',\n",
       " 'strength',\n",
       " 'contribut',\n",
       " 'increas',\n",
       " 'singl',\n",
       " 'land',\n",
       " 'task',\n",
       " 'studi',\n",
       " 'extensor',\n",
       " 'contribut',\n",
       " 'control',\n",
       " 'adduct',\n",
       " 'common',\n",
       " 'factor',\n",
       " 'mechan',\n",
       " 'injuri',\n",
       " 'studi',\n",
       " 'recommend',\n",
       " 'strengthen',\n",
       " 'habd',\n",
       " 'hext',\n",
       " 'decreas',\n",
       " 'reduc',\n",
       " 'risk',\n",
       " 'injuri',\n",
       " 'knee',\n",
       " 'clinic',\n",
       " 'line',\n",
       " 'weak',\n",
       " 'habd',\n",
       " 'hext',\n",
       " 'contribut',\n",
       " 'increas',\n",
       " 'colleg',\n",
       " 'femal',\n",
       " 'athlet',\n",
       " 'strengthen',\n",
       " 'habd',\n",
       " 'hext',\n",
       " 'lead',\n",
       " 'decreas',\n",
       " 'overal',\n",
       " 'reduc',\n",
       " 'risk',\n",
       " 'injuri',\n",
       " 'knee',\n",
       " 'strength',\n",
       " 'recommend',\n",
       " 'articl',\n",
       " 'grade',\n",
       " 'level',\n",
       " 'evid',\n",
       " 'higher',\n",
       " 'give',\n",
       " 'grade',\n",
       " 'strength',\n",
       " 'recommend',\n",
       " 'weak',\n",
       " 'habd',\n",
       " 'hext',\n",
       " 'associ',\n",
       " 'increas',\n",
       " 'collegi',\n",
       " 'femal',\n",
       " 'athlet',\n",
       " 'increas_risk',\n",
       " 'random_control',\n",
       " 'cohort_studi']"
      ]
     },
     "execution_count": 15,
     "metadata": {},
     "output_type": "execute_result"
    }
   ],
   "source": [
    "processed_docs[1]"
   ]
  },
  {
   "cell_type": "markdown",
   "id": "22211116",
   "metadata": {},
   "source": [
    "## Bag of words on the dataset\n",
    "\n",
    "Now let's create a dictionary from 'processed_docs' containing the number of times a word appears in the training set. To do that, let's pass `processed_docs` to [`gensim.corpora.Dictionary()`](https://radimrehurek.com/gensim/corpora/dictionary.html) and call it '`dictionary`'."
   ]
  },
  {
   "cell_type": "code",
   "execution_count": 16,
   "id": "4b69954f",
   "metadata": {},
   "outputs": [
    {
     "name": "stdout",
     "output_type": "stream",
     "text": [
      "0 achiev\n",
      "1 analyz\n",
      "2 approach\n",
      "3 averag\n",
      "4 awar\n",
      "5 calcul\n",
      "6 captur\n",
      "7 cod\n",
      "8 commonli\n",
      "9 compar\n",
      "10 consequ\n"
     ]
    }
   ],
   "source": [
    "'''\n",
    "Create a dictionary from 'processed_docs' containing the number of times a word appears \n",
    "in the training set using gensim.corpora.Dictionary'\n",
    "'''\n",
    "dictionary = gensim.corpora.Dictionary(processed_docs)\n",
    "'''\n",
    "Checking dictionary created\n",
    "'''\n",
    "count = 0\n",
    "for k, v in dictionary.iteritems():\n",
    "    print(k, v)\n",
    "    count += 1\n",
    "    if count > 10:\n",
    "        break"
   ]
  },
  {
   "cell_type": "markdown",
   "id": "264f6e1d",
   "metadata": {},
   "source": [
    "** Gensim filter_extremes **\n",
    "\n",
    "[`filter_extremes(no_below=5, no_above=0.5, keep_n=100000)`](https://radimrehurek.com/gensim/corpora/dictionary.html#gensim.corpora.dictionary.Dictionary.filter_extremes)\n",
    "\n",
    "Filter out tokens that appear in\n",
    "\n",
    "* less than no_below documents (absolute number) or\n",
    "* more than no_above documents (fraction of total corpus size, not absolute number).\n",
    "* after (1) and (2), keep only the first keep_n most frequent tokens (or keep all if None)."
   ]
  },
  {
   "cell_type": "code",
   "execution_count": 17,
   "id": "3a69edce",
   "metadata": {},
   "outputs": [],
   "source": [
    "'''\n",
    "Remove very rare and very common words:\n",
    "- words appearing less than 20 times\n",
    "- words appearing in more than 50% of all documents\n",
    "'''\n",
    "# Filter out words that occur less than 30 documents, or more than 60% of the documents.\n",
    "dictionary.filter_extremes(no_below=30, no_above=0.6)"
   ]
  },
  {
   "cell_type": "code",
   "execution_count": 18,
   "id": "cd46420d",
   "metadata": {},
   "outputs": [],
   "source": [
    "'''\n",
    "Create the Bag-of-words model for each document i.e for each document we create a dictionary reporting how many\n",
    "words and how many times those words appear. Save this to 'bow_corpus'\n",
    "'''\n",
    "bow_corpus =[dictionary.doc2bow(doc) for doc in processed_docs]"
   ]
  },
  {
   "cell_type": "markdown",
   "id": "596c875e",
   "metadata": {},
   "source": [
    "# TF-IDF Term Frequency, Inverse Document Frequency"
   ]
  },
  {
   "cell_type": "code",
   "execution_count": 19,
   "id": "8fb44dca",
   "metadata": {},
   "outputs": [],
   "source": [
    "'''\n",
    "Create tf-idf model object using models.TfidfModel on 'bow_corpus' and save it to 'tfidf'\n",
    "'''\n",
    "from gensim import corpora, models\n",
    "tfidf = models.TfidfModel(bow_corpus)"
   ]
  },
  {
   "cell_type": "code",
   "execution_count": 20,
   "id": "ac08ba6b",
   "metadata": {},
   "outputs": [],
   "source": [
    "'''\n",
    "Apply transformation to the entire corpus and call it 'corpus_tfidf'\n",
    "'''\n",
    "corpus_tfidf = tfidf[bow_corpus]"
   ]
  },
  {
   "cell_type": "code",
   "execution_count": 21,
   "id": "f5f22c89",
   "metadata": {},
   "outputs": [
    {
     "name": "stdout",
     "output_type": "stream",
     "text": [
      "[(0, 0.060113494690859914),\n",
      " (1, 0.04680615084381463),\n",
      " (2, 0.04628691906351679),\n",
      " (3, 0.066147929216438),\n",
      " (4, 0.08381017853904311),\n",
      " (5, 0.1334085058202104),\n",
      " (6, 0.09082272921085896),\n",
      " (7, 0.1747939085115589),\n",
      " (8, 0.07741437419506485),\n",
      " (9, 0.03154396981513048),\n",
      " (10, 0.07348448855134807),\n",
      " (11, 0.09421472526153225),\n",
      " (12, 0.1743090892716878),\n",
      " (13, 0.04191995863527967),\n",
      " (14, 0.029204327238307046),\n",
      " (15, 0.05409454287837028),\n",
      " (16, 0.09169648898288094),\n",
      " (17, 0.06464499690209731),\n",
      " (18, 0.09744811702289163),\n",
      " (19, 0.04429254270529809),\n",
      " (20, 0.19190257329021007),\n",
      " (21, 0.05312273951729488),\n",
      " (22, 0.07297696984663747),\n",
      " (23, 0.07026887912489209),\n",
      " (24, 0.04832175702136681),\n",
      " (25, 0.04733811461118962),\n",
      " (26, 0.08831847400006304),\n",
      " (27, 0.09199574111043128),\n",
      " (28, 0.09053912471130397),\n",
      " (29, 0.2073790096111362),\n",
      " (30, 0.09795105917194913),\n",
      " (31, 0.15291875775788527),\n",
      " (32, 0.1964742577862155),\n",
      " (33, 0.19567807268555706),\n",
      " (34, 0.07128869567479644),\n",
      " (35, 0.09523989716636776),\n",
      " (36, 0.18843412457254083),\n",
      " (37, 0.10219267442778152),\n",
      " (38, 0.05378563634622556),\n",
      " (39, 0.034062206093781786),\n",
      " (40, 0.13455043673863784),\n",
      " (41, 0.04493717694590675),\n",
      " (42, 0.16680163711815732),\n",
      " (43, 0.06507633189012765),\n",
      " (44, 0.08865137501363049),\n",
      " (45, 0.049907898791931186),\n",
      " (46, 0.1468022595781404),\n",
      " (47, 0.08060718775291652),\n",
      " (48, 0.09111009017051769),\n",
      " (49, 0.0351311629484434),\n",
      " (50, 0.07803874635774395),\n",
      " (51, 0.29592798856507785),\n",
      " (52, 0.16292487543519465),\n",
      " (53, 0.054792442803965995),\n",
      " (54, 0.0555653899305565),\n",
      " (55, 0.022359454155183475),\n",
      " (56, 0.058510641577624915),\n",
      " (57, 0.47598771831768244),\n",
      " (58, 0.04603189001956814),\n",
      " (59, 0.05707828505196868),\n",
      " (60, 0.19811184347223923),\n",
      " (61, 0.2128788764625345)]\n"
     ]
    }
   ],
   "source": [
    "from pprint import pprint\n",
    "for doc in corpus_tfidf:\n",
    "    pprint(doc)\n",
    "    break"
   ]
  },
  {
   "cell_type": "markdown",
   "id": "fc3c9e0d",
   "metadata": {},
   "source": [
    "# LDA Finding the optimal number of topics\n",
    "Finding the optimal number of topics in a topic model is tough, given that it is like a model hyperparameter that you always have to set before training the model. We can use an iterative approach and build several models with differing numbers of topics and select the one that has the highest coherence score.\n",
    "for more on Coherence score please refer to this [link](\"https://towardsdatascience.com/evaluate-topic-model-in-python-latent-dirichlet-allocation-lda-7d57484bb5d0\").\n"
   ]
  },
  {
   "cell_type": "code",
   "execution_count": 22,
   "id": "bc16f8ca",
   "metadata": {},
   "outputs": [],
   "source": [
    "def topic_model_coherence_generator(corpus, texts, dictionary, \n",
    "                                    start_topic_count=2, end_topic_count=10, step=1):\n",
    "    \"\"\"\n",
    "    This function trains many lda models using different topic numbers and calculates the coherence\n",
    "    score for each model. It then stores the output of each model.\n",
    "    Inputs\n",
    "    1- corpus >>>> Bag of words or tfidf corpus\n",
    "    2- texts  >>>> Preprocessed Docs\n",
    "    3- dictionary >>>> the one created from the preprocessed docs\n",
    "    4- start_topic_count int >>> the number of topics to start the training with if none the default is 2.\n",
    "    5- end_topic_count int   >>> the number of topics to end the training with if none the default is 10.\n",
    "    6- step int >>>> to increment the count\n",
    "    Outputs\n",
    "    1- a list of the trained models.\n",
    "    2-a list of the coherence scores for each model.\n",
    "    \"\"\"\n",
    "    models = []\n",
    "    coherence_scores = []\n",
    "    \n",
    "    for topic_nums in range(start_topic_count, end_topic_count+1, step):\n",
    "        \n",
    "        lda_model = gensim.models.LdaModel(corpus, \n",
    "                                             num_topics=topic_nums, \n",
    "                                             id2word = dictionary,  \n",
    "                                             alpha='auto',\n",
    "                                             eta='auto')\n",
    "                                             \n",
    "        cv_coherence_model_lda = gensim.models.CoherenceModel(model=lda_model, corpus=corpus, \n",
    "                                                                     texts=texts, dictionary=dictionary, \n",
    "                                                                     coherence='c_v')\n",
    "        coherence_score = cv_coherence_model_lda.get_coherence()\n",
    "        \n",
    "        coherence_scores.append(coherence_score)\n",
    "        \n",
    "        models.append(lda_model)\n",
    "    \n",
    "    return models, coherence_scores"
   ]
  },
  {
   "cell_type": "code",
   "execution_count": 23,
   "id": "42bd5158",
   "metadata": {},
   "outputs": [],
   "source": [
    "lda_models, coherence_scores = topic_model_coherence_generator(corpus=corpus_tfidf, texts=processed_docs,\n",
    "                                                               dictionary=dictionary, start_topic_count=1,\n",
    "                                                               end_topic_count=50, step=1)"
   ]
  },
  {
   "cell_type": "code",
   "execution_count": 24,
   "id": "51e25b64",
   "metadata": {},
   "outputs": [
    {
     "data": {
      "text/html": [
       "<div>\n",
       "<style scoped>\n",
       "    .dataframe tbody tr th:only-of-type {\n",
       "        vertical-align: middle;\n",
       "    }\n",
       "\n",
       "    .dataframe tbody tr th {\n",
       "        vertical-align: top;\n",
       "    }\n",
       "\n",
       "    .dataframe thead th {\n",
       "        text-align: right;\n",
       "    }\n",
       "</style>\n",
       "<table border=\"1\" class=\"dataframe\">\n",
       "  <thead>\n",
       "    <tr style=\"text-align: right;\">\n",
       "      <th></th>\n",
       "      <th>Number of Topics</th>\n",
       "      <th>Coherence Score</th>\n",
       "    </tr>\n",
       "  </thead>\n",
       "  <tbody>\n",
       "    <tr>\n",
       "      <th>0</th>\n",
       "      <td>1</td>\n",
       "      <td>0.2405</td>\n",
       "    </tr>\n",
       "    <tr>\n",
       "      <th>1</th>\n",
       "      <td>2</td>\n",
       "      <td>0.2512</td>\n",
       "    </tr>\n",
       "    <tr>\n",
       "      <th>2</th>\n",
       "      <td>3</td>\n",
       "      <td>0.3501</td>\n",
       "    </tr>\n",
       "    <tr>\n",
       "      <th>3</th>\n",
       "      <td>4</td>\n",
       "      <td>0.4763</td>\n",
       "    </tr>\n",
       "    <tr>\n",
       "      <th>4</th>\n",
       "      <td>5</td>\n",
       "      <td>0.4169</td>\n",
       "    </tr>\n",
       "  </tbody>\n",
       "</table>\n",
       "</div>"
      ],
      "text/plain": [
       "   Number of Topics  Coherence Score\n",
       "0                 1           0.2405\n",
       "1                 2           0.2512\n",
       "2                 3           0.3501\n",
       "3                 4           0.4763\n",
       "4                 5           0.4169"
      ]
     },
     "execution_count": 24,
     "metadata": {},
     "output_type": "execute_result"
    }
   ],
   "source": [
    "coherence_df = pd.DataFrame({'Number of Topics': range(1, 51, 1),\n",
    "                             'Coherence Score': np.round(coherence_scores, 4)})\n",
    "coherence_df=coherence_df.sort_values(by=['Number of Topics'], ascending=True)\n",
    "coherence_df.head()"
   ]
  },
  {
   "cell_type": "code",
   "execution_count": 25,
   "id": "74d44b33",
   "metadata": {},
   "outputs": [
    {
     "data": {
      "image/png": "[encoded data removed]",
      "text/plain": [
       "<Figure size 1080x504 with 1 Axes>"
      ]
     },
     "metadata": {
      "needs_background": "light"
     },
     "output_type": "display_data"
    }
   ],
   "source": [
    "import matplotlib.pyplot as plt\n",
    "%matplotlib inline\n",
    "x_ax = coherence_df['Number of Topics']\n",
    "y_ax = coherence_df['Coherence Score']\n",
    "plt.figure(figsize=(15, 7));\n",
    "plt.plot(x_ax, y_ax, c='b');\n",
    "xl = plt.xlabel('Number of Topics');\n",
    "yl = plt.ylabel('Coherence Score');\n",
    "plt.title(\"The number of topics vs Topic Coherence\");"
   ]
  },
  {
   "cell_type": "markdown",
   "id": "2c99e44d",
   "metadata": {},
   "source": [
    "# Final Model\n",
    "Let’s train the final model using the above selected parameters"
   ]
  },
  {
   "cell_type": "code",
   "execution_count": 26,
   "id": "3fd7900d",
   "metadata": {},
   "outputs": [
    {
     "name": "stdout",
     "output_type": "stream",
     "text": [
      "The optimal number of topics are 4 topics\n"
     ]
    }
   ],
   "source": [
    "num_of_topics=coherence_df['Number of Topics'].values[coherence_df['Coherence Score']==np.max(coherence_df['Coherence Score'])]\n",
    "print(\"The optimal number of topics are {} topics\".format(int(num_of_topics)))"
   ]
  },
  {
   "cell_type": "code",
   "execution_count": 27,
   "id": "d655c3e3",
   "metadata": {},
   "outputs": [],
   "source": [
    "# Train a new model with the optimal number of topics\n",
    "lda_model =gensim.models.LdaModel(corpus_tfidf, \n",
    "                                             num_topics=4, \n",
    "                                             id2word = dictionary,  \n",
    "                                             alpha='auto',\n",
    "                                             eta='auto')"
   ]
  },
  {
   "cell_type": "code",
   "execution_count": 28,
   "id": "357c49b1",
   "metadata": {},
   "outputs": [
    {
     "data": {
      "text/plain": [
       "[(0,\n",
       "  '0.006*\"health\" + 0.004*\"covid\" + 0.004*\"care\" + 0.003*\"pandem\" + 0.003*\"commun\" + 0.003*\"social\" + 0.003*\"research\" + 0.003*\"patient\" + 0.003*\"particip\" + 0.003*\"model\"'),\n",
       " (1,\n",
       "  '0.009*\"patient\" + 0.005*\"cancer\" + 0.005*\"cell\" + 0.004*\"covid\" + 0.004*\"infect\" + 0.004*\"tumor\" + 0.004*\"risk\" + 0.004*\"treatment\" + 0.003*\"associ\" + 0.003*\"diseas\"'),\n",
       " (2,\n",
       "  '0.004*\"group\" + 0.003*\"patient\" + 0.003*\"cell\" + 0.003*\"implant\" + 0.003*\"effect\" + 0.003*\"bone\" + 0.003*\"treatment\" + 0.003*\"method\" + 0.003*\"activ\" + 0.002*\"differ\"'),\n",
       " (3,\n",
       "  '0.010*\"speci\" + 0.004*\"genu\" + 0.004*\"cell\" + 0.003*\"describ\" + 0.003*\"distribut\" + 0.003*\"water\" + 0.002*\"viru\" + 0.002*\"river\" + 0.002*\"brain\" + 0.002*\"region\"')]"
      ]
     },
     "execution_count": 28,
     "metadata": {},
     "output_type": "execute_result"
    }
   ],
   "source": [
    "lda_model.show_topics(num_topics=4, num_words=10)"
   ]
  },
  {
   "cell_type": "code",
   "execution_count": 29,
   "id": "930b470d",
   "metadata": {},
   "outputs": [
    {
     "name": "stdout",
     "output_type": "stream",
     "text": [
      "Topic: 0 Word: 0.006*\"health\" + 0.004*\"covid\" + 0.004*\"care\" + 0.003*\"pandem\" + 0.003*\"commun\" + 0.003*\"social\" + 0.003*\"research\" + 0.003*\"patient\" + 0.003*\"particip\" + 0.003*\"model\"\n",
      "\n",
      "\n",
      "Topic: 1 Word: 0.009*\"patient\" + 0.005*\"cancer\" + 0.005*\"cell\" + 0.004*\"covid\" + 0.004*\"infect\" + 0.004*\"tumor\" + 0.004*\"risk\" + 0.004*\"treatment\" + 0.003*\"associ\" + 0.003*\"diseas\"\n",
      "\n",
      "\n",
      "Topic: 2 Word: 0.004*\"group\" + 0.003*\"patient\" + 0.003*\"cell\" + 0.003*\"implant\" + 0.003*\"effect\" + 0.003*\"bone\" + 0.003*\"treatment\" + 0.003*\"method\" + 0.003*\"activ\" + 0.002*\"differ\"\n",
      "\n",
      "\n",
      "Topic: 3 Word: 0.010*\"speci\" + 0.004*\"genu\" + 0.004*\"cell\" + 0.003*\"describ\" + 0.003*\"distribut\" + 0.003*\"water\" + 0.002*\"viru\" + 0.002*\"river\" + 0.002*\"brain\" + 0.002*\"region\"\n",
      "\n",
      "\n"
     ]
    }
   ],
   "source": [
    "'''\n",
    "For each topic, we will explore the words occuring in that topic and its relative weight\n",
    "'''\n",
    "for idx, topic in lda_model.print_topics(-1):\n",
    "    print(\"Topic: {} Word: {}\".format(idx, topic))\n",
    "    print(\"\\n\")"
   ]
  },
  {
   "cell_type": "code",
   "execution_count": 52,
   "id": "79af0083",
   "metadata": {},
   "outputs": [
    {
     "name": "stdout",
     "output_type": "stream",
     "text": [
      "Topic #0:\n",
      "['health', 'covid', 'care', 'pandem', 'commun', 'social', 'research', 'patient', 'particip', 'model', 'data', 'risk', 'mental', 'servic', 'studi', 'speci', 'nurs', 'base', 'public', 'work', 'provid', 'effect', 'develop', 'factor', 'relat', 'activ', 'identifi', 'support', 'inform', 'gene', 'student', 'experi', 'healthcar', 'review', 'analysi', 'associ', 'qualiti', 'practic', 'differ', 'emot', 'chang', 'manag', 'mental_health', 'intervent', 'medic', 'impact', 'assess', 'design', 'level', 'peopl']\n",
      "\n",
      "Topic #1:\n",
      "['patient', 'cancer', 'cell', 'covid', 'infect', 'tumor', 'risk', 'treatment', 'associ', 'diseas', 'sar', 'case', 'year', 'clinic', 'mortal', 'group', 'level', 'serum', 'sever', 'gene', 'protein', 'express', 'factor', 'studi', 'symptom', 'treat', 'therapi', 'diagnosi', 'month', 'induc', 'rat', 'effect', 'liver', 'score', 'surviv', 'outcom', 'follow', 'predict', 'acut', 'high', 'diabet', 'identifi', 'compar', 'present', 'perform', 'show', 'increas', 'analysi', 'includ', 'report']\n",
      "\n",
      "Topic #2:\n",
      "['group', 'patient', 'cell', 'implant', 'effect', 'bone', 'treatment', 'method', 'activ', 'differ', 'detect', 'water', 'fractur', 'control', 'increas', 'surfac', 'function', 'concentr', 'measur', 'test', 'time', 'perform', 'depress', 'result', 'level', 'studi', 'sampl', 'clinic', 'compar', 'vaccin', 'process', 'evalu', 'assess', 'show', 'base', 'pain', 'model', 'children', 'intervent', 'protein', 'women', 'develop', 'high', 'signific', 'year', 'imag', 'score', 'review', 'reduc', 'muscl']\n",
      "\n",
      "Topic #3:\n",
      "['speci', 'genu', 'cell', 'describ', 'distribut', 'water', 'viru', 'river', 'brain', 'region', 'task', 'plant', 'exposur', 'present', 'provid', 'research', 'base', 'detect', 'develop', 'human', 'sampl', 'differ', 'function', 'protein', 'infect', 'type', 'effect', 'structur', 'process', 'model', 'field', 'data', 'genet', 'popul', 'time', 'import', 'know', 'imag', 'activ', 'male', 'understand', 'result', 'studi', 'area', 'habitat', 'review', 'method', 'posit', 'china', 'root']\n",
      "\n"
     ]
    }
   ],
   "source": [
    "topics = [[(term, round(wt, 3)) \n",
    "               for term, wt in lda_model.show_topic(n, topn=50)] \n",
    "                   for n in range(0, lda_model.num_topics)]\n",
    "for idx, topic in enumerate(topics):\n",
    "    print('Topic #'+str(idx)+':')\n",
    "    print([term for term, wt in topic])\n",
    "    print()"
   ]
  },
  {
   "cell_type": "code",
   "execution_count": 53,
   "id": "27287af1",
   "metadata": {},
   "outputs": [
    {
     "name": "stderr",
     "output_type": "stream",
     "text": [
      "<ipython-input-53-0df6d503e98d>:1: FutureWarning: Passing a negative integer is deprecated in version 1.0 and will not be supported in future version. Instead, use None to not limit the column width.\n",
      "  pd.set_option('display.max_colwidth', -1)\n"
     ]
    },
    {
     "data": {
      "text/html": [
       "<div>\n",
       "<style scoped>\n",
       "    .dataframe tbody tr th:only-of-type {\n",
       "        vertical-align: middle;\n",
       "    }\n",
       "\n",
       "    .dataframe tbody tr th {\n",
       "        vertical-align: top;\n",
       "    }\n",
       "\n",
       "    .dataframe thead th {\n",
       "        text-align: right;\n",
       "    }\n",
       "</style>\n",
       "<table border=\"1\" class=\"dataframe\">\n",
       "  <thead>\n",
       "    <tr style=\"text-align: right;\">\n",
       "      <th></th>\n",
       "      <th>Terms per Topic</th>\n",
       "    </tr>\n",
       "  </thead>\n",
       "  <tbody>\n",
       "    <tr>\n",
       "      <th>Topic0</th>\n",
       "      <td>health, covid, care, pandem, commun, social, research, patient, particip, model, data, risk, mental, servic, studi, speci, nurs, base, public, work, provid, effect, develop, factor, relat, activ, identifi, support, inform, gene, student, experi, healthcar, review, analysi, associ, qualiti, practic, differ, emot, chang, manag, mental_health, intervent, medic, impact, assess, design, level, peopl</td>\n",
       "    </tr>\n",
       "    <tr>\n",
       "      <th>Topic1</th>\n",
       "      <td>patient, cancer, cell, covid, infect, tumor, risk, treatment, associ, diseas, sar, case, year, clinic, mortal, group, level, serum, sever, gene, protein, express, factor, studi, symptom, treat, therapi, diagnosi, month, induc, rat, effect, liver, score, surviv, outcom, follow, predict, acut, high, diabet, identifi, compar, present, perform, show, increas, analysi, includ, report</td>\n",
       "    </tr>\n",
       "    <tr>\n",
       "      <th>Topic2</th>\n",
       "      <td>group, patient, cell, implant, effect, bone, treatment, method, activ, differ, detect, water, fractur, control, increas, surfac, function, concentr, measur, test, time, perform, depress, result, level, studi, sampl, clinic, compar, vaccin, process, evalu, assess, show, base, pain, model, children, intervent, protein, women, develop, high, signific, year, imag, score, review, reduc, muscl</td>\n",
       "    </tr>\n",
       "    <tr>\n",
       "      <th>Topic3</th>\n",
       "      <td>speci, genu, cell, describ, distribut, water, viru, river, brain, region, task, plant, exposur, present, provid, research, base, detect, develop, human, sampl, differ, function, protein, infect, type, effect, structur, process, model, field, data, genet, popul, time, import, know, imag, activ, male, understand, result, studi, area, habitat, review, method, posit, china, root</td>\n",
       "    </tr>\n",
       "  </tbody>\n",
       "</table>\n",
       "</div>"
      ],
      "text/plain": [
       "                                                                                                                                                                                                                                                                                                                                                                                                      Terms per Topic\n",
       "Topic0  health, covid, care, pandem, commun, social, research, patient, particip, model, data, risk, mental, servic, studi, speci, nurs, base, public, work, provid, effect, develop, factor, relat, activ, identifi, support, inform, gene, student, experi, healthcar, review, analysi, associ, qualiti, practic, differ, emot, chang, manag, mental_health, intervent, medic, impact, assess, design, level, peopl\n",
       "Topic1  patient, cancer, cell, covid, infect, tumor, risk, treatment, associ, diseas, sar, case, year, clinic, mortal, group, level, serum, sever, gene, protein, express, factor, studi, symptom, treat, therapi, diagnosi, month, induc, rat, effect, liver, score, surviv, outcom, follow, predict, acut, high, diabet, identifi, compar, present, perform, show, increas, analysi, includ, report                \n",
       "Topic2  group, patient, cell, implant, effect, bone, treatment, method, activ, differ, detect, water, fractur, control, increas, surfac, function, concentr, measur, test, time, perform, depress, result, level, studi, sampl, clinic, compar, vaccin, process, evalu, assess, show, base, pain, model, children, intervent, protein, women, develop, high, signific, year, imag, score, review, reduc, muscl       \n",
       "Topic3  speci, genu, cell, describ, distribut, water, viru, river, brain, region, task, plant, exposur, present, provid, research, base, detect, develop, human, sampl, differ, function, protein, infect, type, effect, structur, process, model, field, data, genet, popul, time, import, know, imag, activ, male, understand, result, studi, area, habitat, review, method, posit, china, root                    "
      ]
     },
     "execution_count": 53,
     "metadata": {},
     "output_type": "execute_result"
    }
   ],
   "source": [
    "pd.set_option('display.max_colwidth', -1)\n",
    "topics_df = pd.DataFrame([', '.join([term for term, wt in topic])  \n",
    "                              for topic in topics],\n",
    "                         columns = ['Terms per Topic'],\n",
    "                         index=['Topic'+str(t) for t in range(0, lda_model.num_topics)]\n",
    "                         )\n",
    "topics_df"
   ]
  },
  {
   "cell_type": "code",
   "execution_count": 74,
   "id": "ef2c5aae",
   "metadata": {},
   "outputs": [],
   "source": [
    "topics_df.to_csv('topic_description.csv')"
   ]
  },
  {
   "cell_type": "code",
   "execution_count": 34,
   "id": "3d611e91",
   "metadata": {},
   "outputs": [],
   "source": [
    "doc_lda=lda_model[corpus_tfidf]"
   ]
  },
  {
   "cell_type": "code",
   "execution_count": 39,
   "id": "d78b5707",
   "metadata": {},
   "outputs": [
    {
     "data": {
      "text/plain": [
       "[(0, 0.021147216), (1, 0.46876714), (2, 0.019274607), (3, 0.49081108)]"
      ]
     },
     "execution_count": 39,
     "metadata": {},
     "output_type": "execute_result"
    }
   ],
   "source": [
    "doc_lda[6]"
   ]
  },
  {
   "cell_type": "code",
   "execution_count": 40,
   "id": "28665714",
   "metadata": {},
   "outputs": [],
   "source": [
    "corpus_topics = [sorted(topics, key=lambda record: -record[1])\n",
    "                     for topics in doc_lda]\n"
   ]
  },
  {
   "cell_type": "code",
   "execution_count": 42,
   "id": "b33380c1",
   "metadata": {},
   "outputs": [
    {
     "data": {
      "text/plain": [
       "[(0, 0.93822306), (2, 0.023381349), (1, 0.020332383), (3, 0.018063236)]"
      ]
     },
     "execution_count": 42,
     "metadata": {},
     "output_type": "execute_result"
    }
   ],
   "source": [
    "corpus_topics[2]"
   ]
  },
  {
   "cell_type": "code",
   "execution_count": 49,
   "id": "25b8b003",
   "metadata": {},
   "outputs": [],
   "source": [
    "new_df=pd.DataFrame(columns=['ArticleID','Title','Abstract','Topic_1',\"Topic_1_score\",'Topic_2',\"Topic_2_score\",'Topic_3',\"Topic_3_score\"])\n",
    "for i in range(len(df)):\n",
    "    if len(corpus_topics[i])>=3:\n",
    "        new_df = new_df.append({'ArticleID':df[\"ArticleID\"][i],'Title':df[\"Title\"][i],'Abstract':df[\"Abstract\"][i],'Topic_1':corpus_topics[i][0][0],\n",
    "                                'Topic_1_score':corpus_topics[i][0][1],\n",
    "                                'Topic_2':corpus_topics[i][1][0],\n",
    "                                'Topic_2_score':corpus_topics[i][1][1],\n",
    "                               'Topic_3':corpus_topics[i][2][0],\n",
    "                               'Topic_3_score':corpus_topics[i][2][1]},\n",
    "                               ignore_index=True)\n",
    "    elif len(corpus_topics[i])==2:\n",
    "        new_df = new_df.append({'ArticleID':df[\"ArticleID\"][i],'Title':df[\"Title\"][i],'Abstract':df[\"Abstract\"][i],'Topic_1':corpus_topics[i][0][0],\n",
    "                        'Topic_1_score':corpus_topics[i][0][1],\n",
    "                        'Topic_2':corpus_topics[i][1][0],\n",
    "                        'Topic_2_score':corpus_topics[i][1][1],\n",
    "                               'Topic_3':np.nan,\n",
    "                               'Topic_3_score':np.nan},\n",
    "                       ignore_index=True)\n",
    "    else:\n",
    "        new_df = new_df.append({'ArticleID':df[\"ArticleID\"][i],'Title':df[\"Title\"][i],'Abstract':df[\"Abstract\"][i],'Topic_1':corpus_topics[i][0][0],\n",
    "                                    'Topic_1_score':corpus_topics[i][0][1],\n",
    "                                    'Topic_2':np.nan,\n",
    "                                    'Topic_2_score':np.nan,\n",
    "                                   'Topic_3':np.nan,\n",
    "                                   'Topic_3_score':np.nan},\n",
    "                                   ignore_index=True)       "
   ]
  },
  {
   "cell_type": "code",
   "execution_count": 50,
   "id": "946fed15",
   "metadata": {
    "scrolled": true
   },
   "outputs": [
    {
     "data": {
      "text/html": [
       "<div>\n",
       "<style scoped>\n",
       "    .dataframe tbody tr th:only-of-type {\n",
       "        vertical-align: middle;\n",
       "    }\n",
       "\n",
       "    .dataframe tbody tr th {\n",
       "        vertical-align: top;\n",
       "    }\n",
       "\n",
       "    .dataframe thead th {\n",
       "        text-align: right;\n",
       "    }\n",
       "</style>\n",
       "<table border=\"1\" class=\"dataframe\">\n",
       "  <thead>\n",
       "    <tr style=\"text-align: right;\">\n",
       "      <th></th>\n",
       "      <th>ArticleID</th>\n",
       "      <th>Title</th>\n",
       "      <th>Abstract</th>\n",
       "      <th>Topic_1</th>\n",
       "      <th>Topic_1_score</th>\n",
       "      <th>Topic_2</th>\n",
       "      <th>Topic_2_score</th>\n",
       "      <th>Topic_3</th>\n",
       "      <th>Topic_3_score</th>\n",
       "    </tr>\n",
       "  </thead>\n",
       "  <tbody>\n",
       "    <tr>\n",
       "      <th>0</th>\n",
       "      <td>34153941</td>\n",
       "      <td>Stable Coordination Variability in Overground Walking and Running at Preferred and Fixed Speeds.</td>\n",
       "      <td>Coordination variability (CV) is commonly analyzed to understand dynamical qualities of human locomotion. The purpose of this study was to develop guidelines for the number of trials required to inform the calculation of a stable mean lower limb CV during overground locomotion. Three-dimensional lower limb kinematics were captured for 10 recreational runners performing 20 trials each of preferred and fixed speed walking and running. Stance phase CV was calculated for 9 segment and joint couplings using a modified vector coding technique. The number of trials required to achieve a CV mean within 10% of 20 strides average was determined for each coupling and individual. The statistical outputs of mode (walking vs running) and speed (preferred vs fixed) were compared when informed by differing numbers of trials. A minimum of 11 trials were required for stable mean stance phase CV. With fewer than 11 trials, CV was underestimated and led to an oversight of significant differences between mode and speed. Future overground locomotion CV research in healthy populations using a vector coding approach should use 11 trials as a standard minimum. Researchers should be aware of the notable consequences of an insufficient number of trials for overall study findings.</td>\n",
       "      <td>2</td>\n",
       "      <td>0.935008</td>\n",
       "      <td>0</td>\n",
       "      <td>0.026100</td>\n",
       "      <td>1</td>\n",
       "      <td>0.020576</td>\n",
       "    </tr>\n",
       "    <tr>\n",
       "      <th>1</th>\n",
       "      <td>34153942</td>\n",
       "      <td>Weak Hip Strength Increases Dynamic Knee Valgus in Single-Leg Tasks of Collegiate Female Athletes.</td>\n",
       "      <td>Clinical Scenario: Dynamic knee valgus (DKV) is a mechanical alteration in the knee that leads to increased risk of injury. Weakness of hip musculature in hip abduction (HABD), extension (HEXT), and external rotation (HER) may contribute to increased DKV in single-leg landing tasks. Focused Clinical Question: Is decreased hip strength associated with an increase in DKV during a single-leg landing task in collegiate female athletes? Summary of Key Findings: Three studies were included: One randomized control trial (RCT), one cohort study, and one case-control. All three studies found that decreases in HABD and HER strength contributed to increased DKV during single-leg landing tasks. One study also found that the hip extensors contribute to controlling hip adduction, a common factor in many mechanisms of injuries. These three studies recommended strengthening HABD, HEXT, and HER to decrease DKV and reduce the risk of injury at the knee. Clinical Bottom Line: Weak HABD, HEXT, and HER contribute to increased DKV in college female athletes, but strengthening HABD, HEXT, and HER can lead to decreases in DKV and, overall, reduce the risk of injury at the knee. Strength of Recommendation: These articles were graded with a level of evidence of III or higher, giving a grade of B strength of recommendation that weak HABD, HEXT, and HER are associated with increased DKV in collegiate female athletes.</td>\n",
       "      <td>2</td>\n",
       "      <td>0.927803</td>\n",
       "      <td>0</td>\n",
       "      <td>0.029000</td>\n",
       "      <td>1</td>\n",
       "      <td>0.022873</td>\n",
       "    </tr>\n",
       "    <tr>\n",
       "      <th>2</th>\n",
       "      <td>34153964</td>\n",
       "      <td>Current and Future Projections of Amyotrophic Lateral Sclerosis in the United States Using Administrative Claims Data.</td>\n",
       "      <td>Various methodologies have been reported to assess the real-world epidemiology of amyotrophic lateral sclerosis (ALS) in the United States. The aim of this study was to estimate the prevalence, incidence, and geographical distribution of ALS using administrative claims data and to model future trends in ALS epidemiology.,We performed a retrospective analysis of deidentified administrative claims data for &gt;100 million patients, using 2 separate databases (IBM MarketScan Research Databases and Symphony Health Integrated DataVerse [IDV]), to identify patients with ALS. We evaluated disease prevalence, annual incidence, age- and population-controlled geographical distribution, and expected future trends.,From 2013 to 2017, we identified 7,316 and 35,208 ALS patients from the MarketScan databases and IDV, respectively. Average annual incidence estimates were 1.48 and 1.37 per 100,000 and point prevalence estimates were 6.85 and 5.16 per 100,000 and in the United States for the MarketScan databases and IDV, respectively. Predictive modeling estimates are reported out to the year 2060 and demonstrate an increasing trend in both incident and prevalent cases.,This study provides incidence and prevalence estimates as well as geographical distribution for what the authors believe to be the largest ALS population studied to date. By using 2 separate administrative claims data sets, confidence in our estimates is increased. Future projections based on either database demonstrate an increase in ALS cases, which has also been seen in other large-scale ALS studies. These results can be used to help improve the allocation of healthcare resources in the future.</td>\n",
       "      <td>0</td>\n",
       "      <td>0.938223</td>\n",
       "      <td>2</td>\n",
       "      <td>0.023381</td>\n",
       "      <td>1</td>\n",
       "      <td>0.020332</td>\n",
       "    </tr>\n",
       "    <tr>\n",
       "      <th>3</th>\n",
       "      <td>34153968</td>\n",
       "      <td>Disparities between Asian and Non-Asian Thrombolyzed Acute Ischemic Stroke Patients in the Enhanced Control of Hypertension and Thrombolysis Stroke Trial.</td>\n",
       "      <td>As outcomes for acute ischemic stroke (AIS) vary according to clinical profile and management approaches, we aimed to determine disparities in clinical outcomes between Asian and non-Asian participants of the international, Enhanced Control of Hypertension and Thrombolysis Stroke study (ENCHANTED).,ENCHANTED was a multicenter, prospective, partial-factorial, randomized, open trial of low-dose (0.6 mg/kg) versus standard-dose (0.9 mg/kg) alteplase, and intensive (target systolic blood pressure [SBP] 130-140 mm Hg) or guideline-recommended (&lt;180 mm Hg) BP management, in thrombolysis-eligible AIS patients. Logistic regression models were used to examine the associations with outcomes of death or disability (modified Rankin scale [mRS] scores 2-6), major disability (mRS 3-5), death, and intracranial hemorrhage (ICH), with adjustment prognostic factors, alteplase dose, and mean SBP over 1-24 h.,Among 4,551 thrombolyzed AIS patients (mean age 66.7 years, 37.8% female), there were 65.4% Asians who were younger, fewer female, and with less atrial fibrillation, hypercholesterolemia, premorbid symptoms, and concomitant antihypertensive, antithrombotic and statin treatment, and more prior stroke, compared to non-Asians. Frequencies of hypertension, coronary artery disease, and diabetes mellitus were comparable between groups. Asian patients were less likely to be admitted to an acute stroke unit and receive early mobilization by a therapist or rehabilitation but more likely to receive intensive care. There were no significant differences between Asians and non-Asians in functional outcome (defined by mRS scores 2-6 or 3-5; adjusted odds ratio [OR] 1.00, 95% confidence interval [CI] 0.85-1.19 [p = 0.958] and OR 0.95, 95% CI 0.80-1.13 [p = 0.572], respectively), or death (OR 1.25, 95% CI 0.95-1.65; p = 0.116), despite Asians having greater odds of ICH (OR 1.51, 95% CI 1.23-1.86; p = 0.0001) and neurological deterioration within 24 h (OR 1.58, 95% CI 1.18-2.12; p = 0.002).,Within the context of an international clinical trial of thrombolyzed AIS patients, demography, risk factors, management, and odds of early neurological deterioration and ICH, all differ between Asian and non-Asian participants. However, patterns of functional recovery are similar between these major regional groups.</td>\n",
       "      <td>1</td>\n",
       "      <td>0.937491</td>\n",
       "      <td>0</td>\n",
       "      <td>0.023930</td>\n",
       "      <td>2</td>\n",
       "      <td>0.021774</td>\n",
       "    </tr>\n",
       "    <tr>\n",
       "      <th>4</th>\n",
       "      <td>34153978</td>\n",
       "      <td>Maternal Factors Predicting Loss to Follow-Up from Newborn Hearing Screenings in New Jersey.</td>\n",
       "      <td>Because hearing loss in children can result in developmental deficits, early detection and intervention are critical. This article identifies a constellation of maternal factors that predict loss to follow-up (LTF) at the point of rescreening-the first follow-up for babies who did not pass the hearing screening performed at birth-through New Jersey's early hearing detection and intervention program. Maternal factors are critical to consider, as mothers are often the primary decision makers around children's health care. All data were obtained from the state's department of health and included babies born between June 2015 and June 2017. Logistic regression was used to predict LTF. Findings indicate that non-Hispanic Black mothers, younger mothers, mothers with previous live births, and mothers with obesity were more likely to be LTF. Hispanic mothers and those enrolled in the state's Special Supplemental Nutrition Program for Women, Infants, and Children (WIC) program were less likely to be LTF. Mothers most at risk for LTF should be targeted for intervention to help children with hearing loss achieve the benefits from early intervention. Being a WIC recipient is a protective factor for LTF; therefore, elements of WIC could be used to reduce the state's LTF rate.</td>\n",
       "      <td>0</td>\n",
       "      <td>0.934231</td>\n",
       "      <td>2</td>\n",
       "      <td>0.025061</td>\n",
       "      <td>1</td>\n",
       "      <td>0.021591</td>\n",
       "    </tr>\n",
       "  </tbody>\n",
       "</table>\n",
       "</div>"
      ],
      "text/plain": [
       "  ArticleID  \\\n",
       "0  34153941   \n",
       "1  34153942   \n",
       "2  34153964   \n",
       "3  34153968   \n",
       "4  34153978   \n",
       "\n",
       "                                                                                                                                                        Title  \\\n",
       "0  Stable Coordination Variability in Overground Walking and Running at Preferred and Fixed Speeds.                                                             \n",
       "1  Weak Hip Strength Increases Dynamic Knee Valgus in Single-Leg Tasks of Collegiate Female Athletes.                                                           \n",
       "2  Current and Future Projections of Amyotrophic Lateral Sclerosis in the United States Using Administrative Claims Data.                                       \n",
       "3  Disparities between Asian and Non-Asian Thrombolyzed Acute Ischemic Stroke Patients in the Enhanced Control of Hypertension and Thrombolysis Stroke Trial.   \n",
       "4  Maternal Factors Predicting Loss to Follow-Up from Newborn Hearing Screenings in New Jersey.                                                                 \n",
       "\n",
       "                                                                                                                                                                                                                                                                                                                                                                                                                                                                                                                                                                                                                                                                                                                                                                                                                                                                                                                                                                                                                                                                                                                                                                                                                                                                                                                                                                                                                                                                                                                                                                                                                                                                                                                                                                                                                                                                                                                                                                                                                                                                                                                                                                                                                                                                                                                                                                                                   Abstract  \\\n",
       "0  Coordination variability (CV) is commonly analyzed to understand dynamical qualities of human locomotion. The purpose of this study was to develop guidelines for the number of trials required to inform the calculation of a stable mean lower limb CV during overground locomotion. Three-dimensional lower limb kinematics were captured for 10 recreational runners performing 20 trials each of preferred and fixed speed walking and running. Stance phase CV was calculated for 9 segment and joint couplings using a modified vector coding technique. The number of trials required to achieve a CV mean within 10% of 20 strides average was determined for each coupling and individual. The statistical outputs of mode (walking vs running) and speed (preferred vs fixed) were compared when informed by differing numbers of trials. A minimum of 11 trials were required for stable mean stance phase CV. With fewer than 11 trials, CV was underestimated and led to an oversight of significant differences between mode and speed. Future overground locomotion CV research in healthy populations using a vector coding approach should use 11 trials as a standard minimum. Researchers should be aware of the notable consequences of an insufficient number of trials for overall study findings.                                                                                                                                                                                                                                                                                                                                                                                                                                                                                                                                                                                                                                                                                                                                                                                                                                                                                                                                                                                                                                                                                  \n",
       "1  Clinical Scenario: Dynamic knee valgus (DKV) is a mechanical alteration in the knee that leads to increased risk of injury. Weakness of hip musculature in hip abduction (HABD), extension (HEXT), and external rotation (HER) may contribute to increased DKV in single-leg landing tasks. Focused Clinical Question: Is decreased hip strength associated with an increase in DKV during a single-leg landing task in collegiate female athletes? Summary of Key Findings: Three studies were included: One randomized control trial (RCT), one cohort study, and one case-control. All three studies found that decreases in HABD and HER strength contributed to increased DKV during single-leg landing tasks. One study also found that the hip extensors contribute to controlling hip adduction, a common factor in many mechanisms of injuries. These three studies recommended strengthening HABD, HEXT, and HER to decrease DKV and reduce the risk of injury at the knee. Clinical Bottom Line: Weak HABD, HEXT, and HER contribute to increased DKV in college female athletes, but strengthening HABD, HEXT, and HER can lead to decreases in DKV and, overall, reduce the risk of injury at the knee. Strength of Recommendation: These articles were graded with a level of evidence of III or higher, giving a grade of B strength of recommendation that weak HABD, HEXT, and HER are associated with increased DKV in collegiate female athletes.                                                                                                                                                                                                                                                                                                                                                                                                                                                                                                                                                                                                                                                                                                                                                                                                                                                                                                                                       \n",
       "2  Various methodologies have been reported to assess the real-world epidemiology of amyotrophic lateral sclerosis (ALS) in the United States. The aim of this study was to estimate the prevalence, incidence, and geographical distribution of ALS using administrative claims data and to model future trends in ALS epidemiology.,We performed a retrospective analysis of deidentified administrative claims data for >100 million patients, using 2 separate databases (IBM MarketScan Research Databases and Symphony Health Integrated DataVerse [IDV]), to identify patients with ALS. We evaluated disease prevalence, annual incidence, age- and population-controlled geographical distribution, and expected future trends.,From 2013 to 2017, we identified 7,316 and 35,208 ALS patients from the MarketScan databases and IDV, respectively. Average annual incidence estimates were 1.48 and 1.37 per 100,000 and point prevalence estimates were 6.85 and 5.16 per 100,000 and in the United States for the MarketScan databases and IDV, respectively. Predictive modeling estimates are reported out to the year 2060 and demonstrate an increasing trend in both incident and prevalent cases.,This study provides incidence and prevalence estimates as well as geographical distribution for what the authors believe to be the largest ALS population studied to date. By using 2 separate administrative claims data sets, confidence in our estimates is increased. Future projections based on either database demonstrate an increase in ALS cases, which has also been seen in other large-scale ALS studies. These results can be used to help improve the allocation of healthcare resources in the future.                                                                                                                                                                                                                                                                                                                                                                                                                                                                                                                                                                                                                                                                    \n",
       "3  As outcomes for acute ischemic stroke (AIS) vary according to clinical profile and management approaches, we aimed to determine disparities in clinical outcomes between Asian and non-Asian participants of the international, Enhanced Control of Hypertension and Thrombolysis Stroke study (ENCHANTED).,ENCHANTED was a multicenter, prospective, partial-factorial, randomized, open trial of low-dose (0.6 mg/kg) versus standard-dose (0.9 mg/kg) alteplase, and intensive (target systolic blood pressure [SBP] 130-140 mm Hg) or guideline-recommended (<180 mm Hg) BP management, in thrombolysis-eligible AIS patients. Logistic regression models were used to examine the associations with outcomes of death or disability (modified Rankin scale [mRS] scores 2-6), major disability (mRS 3-5), death, and intracranial hemorrhage (ICH), with adjustment prognostic factors, alteplase dose, and mean SBP over 1-24 h.,Among 4,551 thrombolyzed AIS patients (mean age 66.7 years, 37.8% female), there were 65.4% Asians who were younger, fewer female, and with less atrial fibrillation, hypercholesterolemia, premorbid symptoms, and concomitant antihypertensive, antithrombotic and statin treatment, and more prior stroke, compared to non-Asians. Frequencies of hypertension, coronary artery disease, and diabetes mellitus were comparable between groups. Asian patients were less likely to be admitted to an acute stroke unit and receive early mobilization by a therapist or rehabilitation but more likely to receive intensive care. There were no significant differences between Asians and non-Asians in functional outcome (defined by mRS scores 2-6 or 3-5; adjusted odds ratio [OR] 1.00, 95% confidence interval [CI] 0.85-1.19 [p = 0.958] and OR 0.95, 95% CI 0.80-1.13 [p = 0.572], respectively), or death (OR 1.25, 95% CI 0.95-1.65; p = 0.116), despite Asians having greater odds of ICH (OR 1.51, 95% CI 1.23-1.86; p = 0.0001) and neurological deterioration within 24 h (OR 1.58, 95% CI 1.18-2.12; p = 0.002).,Within the context of an international clinical trial of thrombolyzed AIS patients, demography, risk factors, management, and odds of early neurological deterioration and ICH, all differ between Asian and non-Asian participants. However, patterns of functional recovery are similar between these major regional groups.   \n",
       "4  Because hearing loss in children can result in developmental deficits, early detection and intervention are critical. This article identifies a constellation of maternal factors that predict loss to follow-up (LTF) at the point of rescreening-the first follow-up for babies who did not pass the hearing screening performed at birth-through New Jersey's early hearing detection and intervention program. Maternal factors are critical to consider, as mothers are often the primary decision makers around children's health care. All data were obtained from the state's department of health and included babies born between June 2015 and June 2017. Logistic regression was used to predict LTF. Findings indicate that non-Hispanic Black mothers, younger mothers, mothers with previous live births, and mothers with obesity were more likely to be LTF. Hispanic mothers and those enrolled in the state's Special Supplemental Nutrition Program for Women, Infants, and Children (WIC) program were less likely to be LTF. Mothers most at risk for LTF should be targeted for intervention to help children with hearing loss achieve the benefits from early intervention. Being a WIC recipient is a protective factor for LTF; therefore, elements of WIC could be used to reduce the state's LTF rate.                                                                                                                                                                                                                                                                                                                                                                                                                                                                                                                                                                                                                                                                                                                                                                                                                                                                                                                                                                                                                                                                        \n",
       "\n",
       "  Topic_1  Topic_1_score Topic_2  Topic_2_score Topic_3  Topic_3_score  \n",
       "0  2       0.935008       0       0.026100       1       0.020576       \n",
       "1  2       0.927803       0       0.029000       1       0.022873       \n",
       "2  0       0.938223       2       0.023381       1       0.020332       \n",
       "3  1       0.937491       0       0.023930       2       0.021774       \n",
       "4  0       0.934231       2       0.025061       1       0.021591       "
      ]
     },
     "execution_count": 50,
     "metadata": {},
     "output_type": "execute_result"
    }
   ],
   "source": [
    "new_df.head()"
   ]
  },
  {
   "cell_type": "code",
   "execution_count": 45,
   "id": "f5825d60",
   "metadata": {},
   "outputs": [
    {
     "data": {
      "text/plain": [
       "4999"
      ]
     },
     "execution_count": 45,
     "metadata": {},
     "output_type": "execute_result"
    }
   ],
   "source": [
    "len(new_df)"
   ]
  },
  {
   "cell_type": "code",
   "execution_count": 73,
   "id": "9d414e13",
   "metadata": {
    "scrolled": false
   },
   "outputs": [
    {
     "data": {
      "image/png": "[encoded data removed]",
      "text/plain": [
       "<Figure size 720x504 with 1 Axes>"
      ]
     },
     "metadata": {
      "needs_background": "light"
     },
     "output_type": "display_data"
    }
   ],
   "source": [
    "plt.figure(figsize=(10, 7));\n",
    "plt.ylabel('number of ducuments per topic');\n",
    "plt.title(\"First Dominant Topic\");\n",
    "new_df.groupby(['Topic_1'])['Abstract'].count().plot(kind='bar');\n"
   ]
  },
  {
   "cell_type": "code",
   "execution_count": 104,
   "id": "120502d3",
   "metadata": {},
   "outputs": [],
   "source": [
    "from gensim.test.utils import datapath\n",
    "# Save model to disk.\n",
    "temp_file = datapath(\"D:\\Educational Stuff\\Degrees\\Projects\\Topic Modeling\\model\\model\")\n",
    "lda_model.save(temp_file)"
   ]
  },
  {
   "cell_type": "code",
   "execution_count": 82,
   "id": "b1283ece",
   "metadata": {},
   "outputs": [],
   "source": [
    "new_df.to_csv(\"clustered_topics.csv\")"
   ]
  }
 ],
 "metadata": {
  "kernelspec": {
   "display_name": "Python 3",
   "language": "python",
   "name": "python3"
  },
  "language_info": {
   "codemirror_mode": {
    "name": "ipython",
    "version": 3
   },
   "file_extension": ".py",
   "mimetype": "text/x-python",
   "name": "python",
   "nbconvert_exporter": "python",
   "pygments_lexer": "ipython3",
   "version": "3.8.8"
  }
 },
 "nbformat": 4,
 "nbformat_minor": 5
}
